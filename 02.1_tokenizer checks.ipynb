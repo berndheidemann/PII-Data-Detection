{
 "cells": [
  {
   "cell_type": "code",
   "execution_count": 1,
   "metadata": {},
   "outputs": [
    {
     "name": "stdout",
     "output_type": "stream",
     "text": [
      "6807\n",
      "dict_keys(['document', 'full_text', 'tokens', 'trailing_whitespace', 'labels'])\n",
      "['Design', 'Thinking', 'for', 'innovation', 'reflexion', '-', 'Avril', '2021', '-', 'Nathalie']\n",
      "['O', 'O', 'O', 'O', 'O', 'O', 'O', 'O', 'O', 'B-NAME_STUDENT']\n",
      "[True, True, True, True, False, False, True, False, False, True]\n"
     ]
    },
    {
     "data": {
      "text/plain": [
       "{0: 'B-EMAIL',\n",
       " 1: 'B-ID_NUM',\n",
       " 2: 'B-NAME_STUDENT',\n",
       " 3: 'B-PHONE_NUM',\n",
       " 4: 'B-STREET_ADDRESS',\n",
       " 5: 'B-URL_PERSONAL',\n",
       " 6: 'B-USERNAME',\n",
       " 7: 'I-ID_NUM',\n",
       " 8: 'I-NAME_STUDENT',\n",
       " 9: 'I-PHONE_NUM',\n",
       " 10: 'I-STREET_ADDRESS',\n",
       " 11: 'I-URL_PERSONAL',\n",
       " 12: 'O'}"
      ]
     },
     "execution_count": 1,
     "metadata": {},
     "output_type": "execute_result"
    }
   ],
   "source": [
    "TRAINING_MODEL_PATH = \"microsoft/deberta-v3-base\"\n",
    "\n",
    "import json\n",
    "\n",
    "data = json.load(open(\"data/train.json\"))\n",
    "\n",
    "print(len(data))\n",
    "print(data[0].keys())\n",
    "\n",
    "x = data[0]\n",
    "\n",
    "print(x[\"tokens\"][:10])\n",
    "print(x[\"labels\"][:10])\n",
    "print(x[\"trailing_whitespace\"][:10])\n",
    "\n",
    "\n",
    "from itertools import chain\n",
    "\n",
    "all_labels = sorted(list(set(chain(*[x[\"labels\"] for x in data]))))\n",
    "label2id = {l: i for i,l in enumerate(all_labels)}\n",
    "id2label = {v:k for k,v in label2id.items()}\n",
    "\n",
    "id2label"
   ]
  },
  {
   "cell_type": "code",
   "execution_count": 2,
   "metadata": {},
   "outputs": [],
   "source": [
    "from datasets import Dataset\n",
    "\n",
    "ds = Dataset.from_dict({\n",
    "    \"full_text\": [x[\"full_text\"] for x in data],\n",
    "    \"document\": [x[\"document\"] for x in data],\n",
    "    \"tokens\": [x[\"tokens\"] for x in data],\n",
    "    \"trailing_whitespace\": [x[\"trailing_whitespace\"] for x in data],\n",
    "    \"provided_labels\": [x[\"labels\"] for x in data],\n",
    "})"
   ]
  },
  {
   "cell_type": "code",
   "execution_count": 3,
   "metadata": {},
   "outputs": [
    {
     "name": "stderr",
     "output_type": "stream",
     "text": [
      "Special tokens have been added in the vocabulary, make sure the associated word embeddings are fine-tuned or trained.\n",
      "c:\\Users\\Shadow\\anaconda3\\envs\\mytorch\\lib\\site-packages\\transformers\\convert_slow_tokenizer.py:470: UserWarning: The sentencepiece tokenizer that you are converting to a fast tokenizer uses the byte fallback option which is not implemented in the fast tokenizers. In practice this means that the fast version of the tokenizer can produce unknown tokens whereas the sentencepiece version would have converted these unknown tokens into a sequence of byte tokens matching the original piece of text.\n",
      "  warnings.warn(\n",
      "Special tokens have been added in the vocabulary, make sure the associated word embeddings are fine-tuned or trained.\n"
     ]
    },
    {
     "name": "stdout",
     "output_type": "stream",
     "text": [
      "original: [CLS] Design Thinking for Innovation  Reflection  1. Challenge: To expand the distribution of Indian Sindhi papad, globally, to the areas  where the Indian diaspora lives.  A papad basically is a crisp, round flatbread from India. It is typically based on a  seasoned dough usually made from peeled black gram flour, either fried or cooked  with dry heat. And Sindhis are an ethno-linguistic group who speak the Sindhi  language. After the partition of India, most of them migrated to other parts of the  world. And Sindhi papad has a unique taste of its own. But it is usually restricted to  some of the Indian cities itself. Not everyone has the access to have the food items  in their households, especially those who stay thousands of kilometres away from  India.  2. Selection: The tool I’ve selected is Learning Launch. I selected it for the challenge  because I’ve never approached this idea much in the exercises. Also, I mostly liked the  approach of having an initial ‘hypothesis’. Learning Launch process is basically an idea  generating tool which includes a rough idea, a specific group of persons, who have a  specific need, the idea that meets the need, and which might turn out to be better than  the current alternatives. This overall creates a hypothesis. An appropriate video lecture  reference for this could be the one which was there in the course itself, “Learning Launch  Tool”, in week 4.  3. Application: First, I pondered upon an idea for which there might be a need for a certain  section of people. For instance, here, it is the Sindhi diaspora’s need for having their  traditional Sindhi food item for themselves. Although, there might be several ways to  order Sindhi papad online, they are usually expensive due to the shipping charges. Here,  I am mostly highlighting on the alternative of having a collaboration or a joint venture with  further international organizations and to build a franchise. Although there could be a  probability of the tool being partially effective.  4. Insight: To be frank, I’m only at a nascent stage of the challenge. From this conception,  to the actual establishment of the products inside the global supermarkets and grocery  stores, it’ll require several other aspects like market research, demographic research and  furthermore aspects. Also, as the professor in the video said, that the idea can also be  inserted in the ‘trash bin’, that is, it might be used not now but later, when it’s need  becomes quite pertinent.  5. Approach: Next time, or rather, whenever I’ll brainstorm more with this idea, I shall apply  the storytelling tool. The reason being that there actually have been several fact-based  stories in which Sindhi papad has been appreciated across several groups of people,  especially in India. For more, you can look-up this link:  https://alvarado.com/categoriesindex.html  \n",
      "tokenize: [CLS] Design Thinking for Innovation Reflection 1. Challenge: To expand the distribution of Indian Sindhi papad, globally, to the areas where the Indian diaspora lives. A papad basically is a crisp, round flatbread from India. It is typically based on a seasoned dough usually made from peeled black gram flour, either fried or cooked with dry heat. And Sindhis are an ethno-linguistic group who speak the Sindhi language. After the partition of India, most of them migrated to other parts of the world. And Sindhi papad has a unique taste of its own. But it is usually restricted to some of the Indian cities itself. Not everyone has the access to have the food items in their households, especially those who stay thousands of kilometres away from India. 2. Selection: The tool I’ve selected is Learning Launch. I selected it for the challenge because I’ve never approached this idea much in the exercises. Also, I mostly liked the approach of having an initial ‘hypothesis’. Learning Launch process is basically an idea generating tool which includes a rough idea, a specific group of persons, who have a specific need, the idea that meets the need, and which might turn out to be better than the current alternatives. This overall creates a hypothesis. An appropriate video lecture reference for this could be the one which was there in the course itself, “Learning Launch Tool”, in week 4. 3. Application: First, I pondered upon an idea for which there might be a need for a certain section of people. For instance, here, it is the Sindhi diaspora’s need for having their traditional Sindhi food item for themselves. Although, there might be several ways to order Sindhi papad online, they are usually expensive due to the shipping charges. Here, I am mostly highlighting on the alternative of having a collaboration or a joint venture with further international organizations and to build a franchise. Although there could be a probability of the tool being partially effective. 4. Insight: To be frank, I’m only at a nascent stage of the challenge. From this conception, to the actual establishment of the products inside the global supermarkets and grocery stores, it’ll require several other aspects like market research, demographic research and furthermore aspects. Also, as the professor in the video said, that the idea can also be inserted in the ‘trash bin’, that is, it might be used not now but later, when it’s need becomes quite pertinent. 5. Approach: Next time, or rather, whenever I’ll brainstorm more with this idea, I shall apply the storytelling tool. The reason being that there actually have been several fact-based stories in which Sindhi papad has been appreciated across several groups of people, especially in India. For more, you can look-up this link: https://alvarado.com/categoriesindex.html[SEP]\n",
      "labels: O O O O O O O O O O O O O O O O O O O O O O O O O O O O O O O O O O O O O O O O O O O O O O O O O O O O O O O O O O O O O O O O O O O O O O O O O O O O O O O O O O O O O O O O O O O O O O O O O O O O O O O O O O O O O O O O O O O O O O O O O O O O O O O O O O O O O O O O O O O O O O O O O O O O O O O O O O O O O O O O O O O O O O O O O O O O O O O O O O O O O O O O O O O O O O O O O O O O O O O O O O O O O O O O O O O O O O O O O O O O O O O O O O O O O O O O O O O O O O O O O O O O O O O O O O O O O O O O O O O O O O O O O O O O O O O O O O O O O O O O O O O O O O O O O O O O O O O O O O O O O O O O O O O O O O O O O O O O O O O O O O O O O O O O O O O O O O O O O O O O O O O O O O O O O O O O O O O O O O O O O O O O O O O O O O O O O O O O O O O O O O O O O O O O O O O O O O O O O O O O O O O O O O O O O O O O O O O O O O O O O O O O O O O O O O O O O O O O O O O O O O O O O O O O O O O O O O O O O O O O O O O O O O O O O O O O O O O O O O O O O O O O O O O O O O O O O O O O O O O O O O O O O O O O O O O O O O O O O O O O O O O O O O O O O O O O O O O O O O O O O O O O O O O O O O O O O O O O O O O O O O O B-URL_PERSONAL B-URL_PERSONAL B-URL_PERSONAL B-URL_PERSONAL B-URL_PERSONAL B-URL_PERSONAL B-URL_PERSONAL B-URL_PERSONAL B-URL_PERSONAL B-URL_PERSONAL B-URL_PERSONAL B-URL_PERSONAL B-URL_PERSONAL O\n"
     ]
    }
   ],
   "source": [
    "\n",
    "from transformers import AutoTokenizer\n",
    "import numpy as np\n",
    "\n",
    "tokenizer = AutoTokenizer.from_pretrained(TRAINING_MODEL_PATH)\n",
    "\n",
    "def tokenize(example, tokenizer, label2id):\n",
    "    text = []\n",
    "    labels = []\n",
    "    for single_token, single_label, single_whitespace in zip(example[\"tokens\"], example[\"provided_labels\"], example[\"trailing_whitespace\"]):\n",
    "        text.append(single_token)\n",
    "        labels.extend([single_label]*len(single_token))\n",
    "        if single_whitespace:\n",
    "            text.append(\" \")\n",
    "            labels.append(\"O\")\n",
    "\n",
    "    tokenized = tokenizer(\"\".join(text), return_offsets_mapping=True, truncation=False)\n",
    "\n",
    "    labels = np.array(labels)\n",
    "\n",
    "    text = \"\".join(text)\n",
    "    token_labels = []\n",
    "\n",
    "    for start_idx, end_idx in tokenized.offset_mapping:\n",
    "\n",
    "        # CLS token\n",
    "        if start_idx + end_idx == 0: \n",
    "            token_labels.append(label2id[\"O\"])\n",
    "            continue\n",
    "\n",
    "        # case when token starts with whitespace\n",
    "        if text[start_idx].isspace():\n",
    "            start_idx += 1\n",
    "        \n",
    "        while start_idx >= len(labels):\n",
    "            start_idx -= 1\n",
    "\n",
    "        token_labels.append(label2id[labels[start_idx]])\n",
    "\n",
    "    length = len(tokenized.input_ids)\n",
    "\n",
    "    return {\n",
    "        **tokenized,\n",
    "        \"labels\": token_labels,\n",
    "        \"length\": length\n",
    "    }\n",
    "\n",
    "#id=0\n",
    "#for entry in ds:\n",
    "#    if entry['document'] == 13315:\n",
    "#        print(id)\n",
    "#        break\n",
    "#    id+=1\n",
    "\n",
    "sample = ds[2790]\n",
    "sample_tokenized=tokenize(sample, tokenizer, label2id)\n",
    "\n",
    "# create text of sample_tokenized\n",
    "\n",
    "text = tokenizer.decode(sample_tokenized[\"input_ids\"])\n",
    "\n",
    "print(\"original: [CLS] \" + sample[\"full_text\"].replace(\"\\n\", \" \"))\n",
    "print(\"tokenize: \" + text)\n",
    "print(\"labels: \" + \" \".join([id2label[x] for x in sample_tokenized[\"labels\"]]))\n",
    "\n",
    "# tokenizer.convert_ids_to_tokens(sample_tokenized[\"input_ids\"])\n"
   ]
  },
  {
   "cell_type": "code",
   "execution_count": 4,
   "metadata": {},
   "outputs": [
    {
     "data": {
      "application/vnd.jupyter.widget-view+json": {
       "model_id": "c5b8a926958940edb5a14ce7403f6157",
       "version_major": 2,
       "version_minor": 0
      },
      "text/plain": [
       "Map:   0%|          | 0/6807 [00:00<?, ? examples/s]"
      ]
     },
     "metadata": {},
     "output_type": "display_data"
    }
   ],
   "source": [
    "ds = ds.map(lambda x: tokenize(x, tokenizer, label2id), num_proc=1)"
   ]
  },
  {
   "cell_type": "code",
   "execution_count": 5,
   "metadata": {},
   "outputs": [
    {
     "name": "stdout",
     "output_type": "stream",
     "text": [
      "full_text  --->  Design Thinking for innovation reflexion-Avril 2021-Nathalie Sylla\n",
      "\n",
      "Challenge & selection\n",
      "\n",
      "The tool I use to help all stakeholders finding their way through the complexity of a project is the  mind map.\n",
      "\n",
      "What exactly is a mind map? According to the definition of Buzan T. and Buzan B. (1999, Dessine-moi  l'intelligence. Paris: Les Éditions d'Organisation.), the mind map (or heuristic diagram) is a graphic  representation technique that follows the natural functioning of the mind and allows the brain's  potential to be released. Cf Annex1\n",
      "\n",
      "This tool has many advantages:\n",
      "\n",
      "•  It is accessible to all and does not require significant material investment and can be done  quickly\n",
      "\n",
      "•  It is scalable\n",
      "\n",
      "•  It allows categorization and linking of information\n",
      "\n",
      "•  It can be applied to any type of situation: notetaking, problem solving, analysis, creation of  new ideas\n",
      "\n",
      "•  It is suitable for all people and is easy to learn\n",
      "\n",
      "•  It is fun and encourages exchanges\n",
      "\n",
      "•  It makes visible the dimension of projects, opportunities, interconnections\n",
      "\n",
      "•  It synthesizes\n",
      "\n",
      "•  It makes the project understandable\n",
      "\n",
      "•  It allows you to explore ideas\n",
      "\n",
      "The creation of a mind map starts with an idea/problem located at its center. This starting point  generates ideas/work areas, incremented around this center in a radial structure, which in turn is  completed with as many branches as new ideas.\n",
      "\n",
      "This tool enables creativity and logic to be mobilized, it is a map of the thoughts.\n",
      "\n",
      "Creativity is enhanced because participants feel comfortable with the method.\n",
      "\n",
      "Application & Insight\n",
      "\n",
      "I start the process of the mind map creation with the stakeholders standing around a large board  (white or paper board). In the center of the board, I write and highlight the topic to design.\n",
      "\n",
      "Through a series of questions, I guide the stakeholders in modelling the mind map. I adapt the series  of questions according to the topic to be addressed. In the type of questions, we can use: who, what,  when, where, why, how, how much.\n",
      "\n",
      "The use of the “why” is very interesting to understand the origin. By this way, the interviewed person  frees itself from paradigms and thus dares to propose new ideas / ways of functioning. I plan two  hours for a workshop.\n",
      "\n",
      "Design Thinking for innovation reflexion-Avril 2021-Nathalie Sylla\n",
      "\n",
      "After modelling the mind map on paper, I propose to the participants a digital visualization of their  work with the addition of color codes, images and interconnections. This second workshop also lasts  two hours and allows the mind map to evolve. Once familiarized with it, the stakeholders discover  the power of the tool. Then, the second workshop brings out even more ideas and constructive  exchanges between the stakeholders. Around this new mind map, they have learned to work  together and want to make visible the untold ideas.\n",
      "\n",
      "I now present all the projects I manage in this type of format in order to ease rapid understanding for  decision-makers. These presentations are the core of my business models. The decision-makers are  thus able to identify the opportunities of the projects and can take quick decisions to validate them.  They find answers to their questions thank to a schematic representation.\n",
      "\n",
      "Approach\n",
      "\n",
      "What I find amazing with the facilitation of this type of workshop is the participants commitment for  the project. This tool helps to give meaning. The participants appropriate the story and want to keep  writing it. Then, they easily become actors or sponsors of the project. A trust relationship is built,  thus facilitating the implementation of related actions.\n",
      "\n",
      "Design Thinking for innovation reflexion-Avril 2021-Nathalie Sylla\n",
      "\n",
      "Annex 1: Mind Map Shared facilities project\n",
      "\n",
      "\n",
      "document  --->  7\n",
      "tokens  --->  ['Design', 'Thinking', 'for', 'innovation', 'reflexion', '-', 'Avril', '2021', '-', 'Nathalie', 'Sylla', '\\n\\n', 'Challenge', '&', 'selection', '\\n\\n', 'The', 'tool', 'I', 'use', 'to', 'help', 'all', 'stakeholders', 'finding', 'their', 'way', 'through', 'the', 'complexity', 'of', 'a', 'project', 'is', 'the', ' ', 'mind', 'map', '.', '\\n\\n', 'What', 'exactly', 'is', 'a', 'mind', 'map', '?', 'According', 'to', 'the', 'definition', 'of', 'Buzan', 'T.', 'and', 'Buzan', 'B.', '(', '1999', ',', 'Dessine', '-', 'moi', ' ', \"l'intelligence\", '.', 'Paris', ':', 'Les', 'Éditions', \"d'Organisation\", '.', ')', ',', 'the', 'mind', 'map', '(', 'or', 'heuristic', 'diagram', ')', 'is', 'a', 'graphic', ' ', 'representation', 'technique', 'that', 'follows', 'the', 'natural', 'functioning', 'of', 'the', 'mind', 'and', 'allows', 'the', 'brain', \"'s\", ' ', 'potential', 'to', 'be', 'released', '.', 'Cf', 'Annex1', '\\n\\n', 'This', 'tool', 'has', 'many', 'advantages', ':', '\\n\\n', '•', ' ', 'It', 'is', 'accessible', 'to', 'all', 'and', 'does', 'not', 'require', 'significant', 'material', 'investment', 'and', 'can', 'be', 'done', ' ', 'quickly', '\\n\\n', '•', ' ', 'It', 'is', 'scalable', '\\n\\n', '•', ' ', 'It', 'allows', 'categorization', 'and', 'linking', 'of', 'information', '\\n\\n', '•', ' ', 'It', 'can', 'be', 'applied', 'to', 'any', 'type', 'of', 'situation', ':', 'notetaking', ',', 'problem', 'solving', ',', 'analysis', ',', 'creation', 'of', ' ', 'new', 'ideas', '\\n\\n', '•', ' ', 'It', 'is', 'suitable', 'for', 'all', 'people', 'and', 'is', 'easy', 'to', 'learn', '\\n\\n', '•', ' ', 'It', 'is', 'fun', 'and', 'encourages', 'exchanges', '\\n\\n', '•', ' ', 'It', 'makes', 'visible', 'the', 'dimension', 'of', 'projects', ',', 'opportunities', ',', 'interconnections', '\\n\\n', '•', ' ', 'It', 'synthesizes', '\\n\\n', '•', ' ', 'It', 'makes', 'the', 'project', 'understandable', '\\n\\n', '•', ' ', 'It', 'allows', 'you', 'to', 'explore', 'ideas', '\\n\\n', 'The', 'creation', 'of', 'a', 'mind', 'map', 'starts', 'with', 'an', 'idea', '/', 'problem', 'located', 'at', 'its', 'center', '.', 'This', 'starting', 'point', ' ', 'generates', 'ideas', '/', 'work', 'areas', ',', 'incremented', 'around', 'this', 'center', 'in', 'a', 'radial', 'structure', ',', 'which', 'in', 'turn', 'is', ' ', 'completed', 'with', 'as', 'many', 'branches', 'as', 'new', 'ideas', '.', '\\n\\n', 'This', 'tool', 'enables', 'creativity', 'and', 'logic', 'to', 'be', 'mobilized', ',', 'it', 'is', 'a', 'map', 'of', 'the', 'thoughts', '.', '\\n\\n', 'Creativity', 'is', 'enhanced', 'because', 'participants', 'feel', 'comfortable', 'with', 'the', 'method', '.', '\\n\\n', 'Application', '&', 'Insight', '\\n\\n', 'I', 'start', 'the', 'process', 'of', 'the', 'mind', 'map', 'creation', 'with', 'the', 'stakeholders', 'standing', 'around', 'a', 'large', 'board', ' ', '(', 'white', 'or', 'paper', 'board', ')', '.', 'In', 'the', 'center', 'of', 'the', 'board', ',', 'I', 'write', 'and', 'highlight', 'the', 'topic', 'to', 'design', '.', '\\n\\n', 'Through', 'a', 'series', 'of', 'questions', ',', 'I', 'guide', 'the', 'stakeholders', 'in', 'modelling', 'the', 'mind', 'map', '.', 'I', 'adapt', 'the', 'series', ' ', 'of', 'questions', 'according', 'to', 'the', 'topic', 'to', 'be', 'addressed', '.', 'In', 'the', 'type', 'of', 'questions', ',', 'we', 'can', 'use', ':', 'who', ',', 'what', ',', ' ', 'when', ',', 'where', ',', 'why', ',', 'how', ',', 'how', 'much', '.', '\\n\\n', 'The', 'use', 'of', 'the', '“', 'why', '”', 'is', 'very', 'interesting', 'to', 'understand', 'the', 'origin', '.', 'By', 'this', 'way', ',', 'the', 'interviewed', 'person', ' ', 'frees', 'itself', 'from', 'paradigms', 'and', 'thus', 'dares', 'to', 'propose', 'new', 'ideas', '/', 'ways', 'of', 'functioning', '.', 'I', 'plan', 'two', ' ', 'hours', 'for', 'a', 'workshop', '.', '\\n\\n', 'Design', 'Thinking', 'for', 'innovation', 'reflexion', '-', 'Avril', '2021', '-', 'Nathalie', 'Sylla', '\\n\\n', 'After', 'modelling', 'the', 'mind', 'map', 'on', 'paper', ',', 'I', 'propose', 'to', 'the', 'participants', 'a', 'digital', 'visualization', 'of', 'their', ' ', 'work', 'with', 'the', 'addition', 'of', 'color', 'codes', ',', 'images', 'and', 'interconnections', '.', 'This', 'second', 'workshop', 'also', 'lasts', ' ', 'two', 'hours', 'and', 'allows', 'the', 'mind', 'map', 'to', 'evolve', '.', 'Once', 'familiarized', 'with', 'it', ',', 'the', 'stakeholders', 'discover', ' ', 'the', 'power', 'of', 'the', 'tool', '.', 'Then', ',', 'the', 'second', 'workshop', 'brings', 'out', 'even', 'more', 'ideas', 'and', 'constructive', ' ', 'exchanges', 'between', 'the', 'stakeholders', '.', 'Around', 'this', 'new', 'mind', 'map', ',', 'they', 'have', 'learned', 'to', 'work', ' ', 'together', 'and', 'want', 'to', 'make', 'visible', 'the', 'untold', 'ideas', '.', '\\n\\n', 'I', 'now', 'present', 'all', 'the', 'projects', 'I', 'manage', 'in', 'this', 'type', 'of', 'format', 'in', 'order', 'to', 'ease', 'rapid', 'understanding', 'for', ' ', 'decision', '-', 'makers', '.', 'These', 'presentations', 'are', 'the', 'core', 'of', 'my', 'business', 'models', '.', 'The', 'decision', '-', 'makers', 'are', ' ', 'thus', 'able', 'to', 'identify', 'the', 'opportunities', 'of', 'the', 'projects', 'and', 'can', 'take', 'quick', 'decisions', 'to', 'validate', 'them', '.', ' ', 'They', 'find', 'answers', 'to', 'their', 'questions', 'thank', 'to', 'a', 'schematic', 'representation', '.', '\\n\\n', 'Approach', '\\n\\n', 'What', 'I', 'find', 'amazing', 'with', 'the', 'facilitation', 'of', 'this', 'type', 'of', 'workshop', 'is', 'the', 'participants', 'commitment', 'for', ' ', 'the', 'project', '.', 'This', 'tool', 'helps', 'to', 'give', 'meaning', '.', 'The', 'participants', 'appropriate', 'the', 'story', 'and', 'want', 'to', 'keep', ' ', 'writing', 'it', '.', 'Then', ',', 'they', 'easily', 'become', 'actors', 'or', 'sponsors', 'of', 'the', 'project', '.', 'A', 'trust', 'relationship', 'is', 'built', ',', ' ', 'thus', 'facilitating', 'the', 'implementation', 'of', 'related', 'actions', '.', '\\n\\n', 'Design', 'Thinking', 'for', 'innovation', 'reflexion', '-', 'Avril', '2021', '-', 'Nathalie', 'Sylla', '\\n\\n', 'Annex', '1', ':', 'Mind', 'Map', 'Shared', 'facilities', 'project', '\\n\\n']\n",
      "trailing_whitespace  --->  [True, True, True, True, False, False, True, False, False, True, False, False, True, True, False, False, True, True, True, True, True, True, True, True, True, True, True, True, True, True, True, True, True, True, True, False, True, False, False, False, True, True, True, True, True, False, True, True, True, True, True, True, True, True, True, True, True, False, False, True, False, False, True, False, False, True, False, True, True, True, False, False, False, True, True, True, True, False, True, True, False, True, True, True, True, False, True, True, True, True, True, True, True, True, True, True, True, True, True, False, True, False, True, True, True, False, True, True, False, False, True, True, True, True, False, False, False, True, False, True, True, True, True, True, True, True, True, True, True, True, True, True, True, True, True, False, False, False, True, False, True, True, False, False, True, False, True, True, True, True, True, True, False, False, True, False, True, True, True, True, True, True, True, True, False, True, False, True, True, False, True, False, True, True, True, False, True, False, False, True, False, True, True, True, True, True, True, True, True, True, True, False, False, True, False, True, True, True, True, True, False, False, True, False, True, True, True, True, True, True, False, True, False, True, False, False, True, False, True, False, False, True, False, True, True, True, True, False, False, True, False, True, True, True, True, True, False, False, True, True, True, True, True, True, True, True, True, False, False, True, True, True, True, False, True, True, True, True, False, True, False, False, True, False, True, True, True, True, True, True, True, True, False, True, True, True, True, True, False, True, True, True, True, True, True, True, False, False, False, True, True, True, True, True, True, True, True, False, True, True, True, True, True, True, True, False, False, False, True, True, True, True, True, True, True, True, True, False, False, False, True, True, False, False, True, True, True, True, True, True, True, True, True, True, True, True, True, True, True, True, True, False, False, True, True, True, False, False, True, True, True, True, True, True, False, True, True, True, True, True, True, True, True, False, False, False, True, True, True, True, False, True, True, True, True, True, True, True, True, True, False, True, True, True, True, True, False, True, True, True, True, True, True, True, True, False, True, True, True, True, True, False, True, True, True, False, True, False, True, False, True, False, False, True, False, True, False, True, False, True, True, False, False, False, True, True, True, True, False, False, True, True, True, True, True, True, True, False, True, True, True, False, True, True, True, True, False, True, True, True, True, True, True, True, True, True, True, True, True, True, True, False, True, True, True, True, False, True, True, True, False, False, False, True, True, True, True, False, False, True, False, False, True, False, False, True, True, True, True, True, True, False, True, True, True, True, True, True, True, True, True, True, True, False, True, True, True, True, True, True, False, True, True, True, False, True, True, True, True, True, True, False, True, True, True, True, True, True, True, True, False, True, True, True, True, False, True, True, True, True, False, True, True, True, True, False, True, False, True, True, True, True, True, True, True, True, True, True, True, False, True, True, True, False, True, True, True, True, True, False, True, True, True, True, True, True, False, True, True, True, True, True, True, True, True, False, False, False, True, True, True, True, True, True, True, True, True, True, True, True, True, True, True, True, True, True, True, True, False, False, False, False, True, True, True, True, True, True, True, True, True, False, True, True, False, False, True, True, False, True, True, True, True, True, True, True, True, True, True, True, True, True, True, True, True, False, True, False, True, True, True, True, True, True, True, True, True, True, False, False, False, False, False, True, True, True, True, True, True, True, True, True, True, True, True, True, True, True, True, True, False, True, False, True, True, True, True, True, True, False, True, True, True, True, True, True, True, True, True, True, False, True, False, True, False, True, True, True, True, True, True, True, True, True, False, True, True, True, True, True, False, True, False, True, True, True, True, True, True, False, False, False, True, True, True, True, False, False, True, False, False, True, False, False, True, False, True, True, True, True, True, False, False]\n",
      "provided_labels  --->  ['O', 'O', 'O', 'O', 'O', 'O', 'O', 'O', 'O', 'B-NAME_STUDENT', 'I-NAME_STUDENT', 'O', 'O', 'O', 'O', 'O', 'O', 'O', 'O', 'O', 'O', 'O', 'O', 'O', 'O', 'O', 'O', 'O', 'O', 'O', 'O', 'O', 'O', 'O', 'O', 'O', 'O', 'O', 'O', 'O', 'O', 'O', 'O', 'O', 'O', 'O', 'O', 'O', 'O', 'O', 'O', 'O', 'O', 'O', 'O', 'O', 'O', 'O', 'O', 'O', 'O', 'O', 'O', 'O', 'O', 'O', 'O', 'O', 'O', 'O', 'O', 'O', 'O', 'O', 'O', 'O', 'O', 'O', 'O', 'O', 'O', 'O', 'O', 'O', 'O', 'O', 'O', 'O', 'O', 'O', 'O', 'O', 'O', 'O', 'O', 'O', 'O', 'O', 'O', 'O', 'O', 'O', 'O', 'O', 'O', 'O', 'O', 'O', 'O', 'O', 'O', 'O', 'O', 'O', 'O', 'O', 'O', 'O', 'O', 'O', 'O', 'O', 'O', 'O', 'O', 'O', 'O', 'O', 'O', 'O', 'O', 'O', 'O', 'O', 'O', 'O', 'O', 'O', 'O', 'O', 'O', 'O', 'O', 'O', 'O', 'O', 'O', 'O', 'O', 'O', 'O', 'O', 'O', 'O', 'O', 'O', 'O', 'O', 'O', 'O', 'O', 'O', 'O', 'O', 'O', 'O', 'O', 'O', 'O', 'O', 'O', 'O', 'O', 'O', 'O', 'O', 'O', 'O', 'O', 'O', 'O', 'O', 'O', 'O', 'O', 'O', 'O', 'O', 'O', 'O', 'O', 'O', 'O', 'O', 'O', 'O', 'O', 'O', 'O', 'O', 'O', 'O', 'O', 'O', 'O', 'O', 'O', 'O', 'O', 'O', 'O', 'O', 'O', 'O', 'O', 'O', 'O', 'O', 'O', 'O', 'O', 'O', 'O', 'O', 'O', 'O', 'O', 'O', 'O', 'O', 'O', 'O', 'O', 'O', 'O', 'O', 'O', 'O', 'O', 'O', 'O', 'O', 'O', 'O', 'O', 'O', 'O', 'O', 'O', 'O', 'O', 'O', 'O', 'O', 'O', 'O', 'O', 'O', 'O', 'O', 'O', 'O', 'O', 'O', 'O', 'O', 'O', 'O', 'O', 'O', 'O', 'O', 'O', 'O', 'O', 'O', 'O', 'O', 'O', 'O', 'O', 'O', 'O', 'O', 'O', 'O', 'O', 'O', 'O', 'O', 'O', 'O', 'O', 'O', 'O', 'O', 'O', 'O', 'O', 'O', 'O', 'O', 'O', 'O', 'O', 'O', 'O', 'O', 'O', 'O', 'O', 'O', 'O', 'O', 'O', 'O', 'O', 'O', 'O', 'O', 'O', 'O', 'O', 'O', 'O', 'O', 'O', 'O', 'O', 'O', 'O', 'O', 'O', 'O', 'O', 'O', 'O', 'O', 'O', 'O', 'O', 'O', 'O', 'O', 'O', 'O', 'O', 'O', 'O', 'O', 'O', 'O', 'O', 'O', 'O', 'O', 'O', 'O', 'O', 'O', 'O', 'O', 'O', 'O', 'O', 'O', 'O', 'O', 'O', 'O', 'O', 'O', 'O', 'O', 'O', 'O', 'O', 'O', 'O', 'O', 'O', 'O', 'O', 'O', 'O', 'O', 'O', 'O', 'O', 'O', 'O', 'O', 'O', 'O', 'O', 'O', 'O', 'O', 'O', 'O', 'O', 'O', 'O', 'O', 'O', 'O', 'O', 'O', 'O', 'O', 'O', 'O', 'O', 'O', 'O', 'O', 'O', 'O', 'O', 'O', 'O', 'O', 'O', 'O', 'O', 'O', 'O', 'O', 'O', 'O', 'O', 'O', 'O', 'O', 'O', 'O', 'O', 'O', 'O', 'O', 'O', 'O', 'O', 'O', 'O', 'O', 'O', 'O', 'O', 'O', 'O', 'O', 'O', 'O', 'O', 'O', 'O', 'O', 'O', 'O', 'O', 'O', 'O', 'O', 'O', 'O', 'O', 'O', 'O', 'O', 'O', 'O', 'O', 'O', 'O', 'O', 'O', 'O', 'O', 'O', 'O', 'O', 'B-NAME_STUDENT', 'I-NAME_STUDENT', 'O', 'O', 'O', 'O', 'O', 'O', 'O', 'O', 'O', 'O', 'O', 'O', 'O', 'O', 'O', 'O', 'O', 'O', 'O', 'O', 'O', 'O', 'O', 'O', 'O', 'O', 'O', 'O', 'O', 'O', 'O', 'O', 'O', 'O', 'O', 'O', 'O', 'O', 'O', 'O', 'O', 'O', 'O', 'O', 'O', 'O', 'O', 'O', 'O', 'O', 'O', 'O', 'O', 'O', 'O', 'O', 'O', 'O', 'O', 'O', 'O', 'O', 'O', 'O', 'O', 'O', 'O', 'O', 'O', 'O', 'O', 'O', 'O', 'O', 'O', 'O', 'O', 'O', 'O', 'O', 'O', 'O', 'O', 'O', 'O', 'O', 'O', 'O', 'O', 'O', 'O', 'O', 'O', 'O', 'O', 'O', 'O', 'O', 'O', 'O', 'O', 'O', 'O', 'O', 'O', 'O', 'O', 'O', 'O', 'O', 'O', 'O', 'O', 'O', 'O', 'O', 'O', 'O', 'O', 'O', 'O', 'O', 'O', 'O', 'O', 'O', 'O', 'O', 'O', 'O', 'O', 'O', 'O', 'O', 'O', 'O', 'O', 'O', 'O', 'O', 'O', 'O', 'O', 'O', 'O', 'O', 'O', 'O', 'O', 'O', 'O', 'O', 'O', 'O', 'O', 'O', 'O', 'O', 'O', 'O', 'O', 'O', 'O', 'O', 'O', 'O', 'O', 'O', 'O', 'O', 'O', 'O', 'O', 'O', 'O', 'O', 'O', 'O', 'O', 'O', 'O', 'O', 'O', 'O', 'O', 'O', 'O', 'O', 'O', 'O', 'O', 'O', 'O', 'O', 'O', 'O', 'O', 'O', 'O', 'O', 'O', 'O', 'O', 'O', 'O', 'O', 'O', 'O', 'O', 'O', 'O', 'O', 'O', 'O', 'O', 'O', 'O', 'O', 'O', 'O', 'O', 'O', 'O', 'O', 'O', 'O', 'O', 'O', 'O', 'O', 'O', 'O', 'O', 'O', 'O', 'O', 'O', 'O', 'O', 'O', 'O', 'O', 'O', 'O', 'O', 'O', 'O', 'O', 'O', 'O', 'O', 'O', 'O', 'O', 'O', 'O', 'O', 'B-NAME_STUDENT', 'I-NAME_STUDENT', 'O', 'O', 'O', 'O', 'O', 'O', 'O', 'O', 'O', 'O']\n",
      "input_ids  --->  [1, 2169, 12103, 270, 3513, 28310, 4593, 271, 57498, 24360, 16789, 271, 1609, 30065, 12287, 662, 86260, 6738, 429, 1857, 279, 1637, 273, 380, 264, 408, 305, 6998, 1879, 308, 384, 390, 262, 6870, 265, 266, 663, 269, 262, 791, 2269, 260, 458, 1444, 269, 266, 791, 2269, 302, 1663, 264, 262, 3742, 265, 72791, 1398, 897, 260, 263, 72791, 1398, 736, 260, 287, 15724, 261, 10040, 268, 5152, 271, 92671, 2531, 280, 51388, 260, 3045, 294, 9110, 25247, 42255, 268, 1931, 280, 65426, 7933, 260, 285, 261, 262, 791, 2269, 287, 698, 59729, 6000, 285, 269, 266, 4981, 5190, 3395, 272, 3832, 262, 1008, 7392, 265, 262, 791, 263, 1279, 262, 1959, 280, 268, 1068, 264, 282, 1315, 260, 45110, 30097, 435, 329, 1637, 303, 386, 5228, 294, 1795, 325, 269, 3469, 264, 305, 263, 490, 298, 1449, 1318, 1146, 1578, 263, 295, 282, 619, 1126, 1795, 325, 269, 18440, 1795, 325, 1279, 51669, 263, 9563, 265, 439, 1795, 325, 295, 282, 2312, 264, 356, 810, 265, 1364, 294, 1521, 14850, 261, 735, 7273, 261, 1423, 261, 2820, 265, 353, 1000, 1795, 325, 269, 2714, 270, 305, 355, 263, 269, 639, 264, 799, 1795, 325, 269, 785, 263, 8331, 9963, 1795, 325, 682, 3979, 262, 7337, 265, 1205, 261, 1604, 261, 88147, 1795, 325, 40478, 268, 1795, 325, 682, 262, 663, 14022, 1795, 325, 1279, 274, 264, 2314, 1000, 279, 2820, 265, 266, 791, 2269, 2351, 275, 299, 781, 320, 40843, 1137, 288, 359, 1386, 260, 329, 1392, 582, 11243, 1000, 320, 6045, 893, 261, 109134, 441, 291, 1386, 267, 266, 25531, 1730, 261, 319, 267, 930, 269, 1797, 275, 283, 386, 6357, 283, 353, 1000, 260, 329, 1637, 4292, 5023, 263, 5506, 264, 282, 45769, 261, 278, 269, 266, 2269, 265, 262, 2230, 260, 28303, 269, 5469, 401, 2754, 551, 1800, 275, 262, 1459, 260, 5736, 429, 22459, 273, 564, 262, 568, 265, 262, 791, 2269, 2820, 275, 262, 6998, 2566, 441, 266, 614, 1247, 287, 7551, 289, 1089, 1247, 285, 260, 344, 262, 1386, 265, 262, 1247, 261, 273, 1183, 263, 4738, 262, 2270, 264, 587, 260, 3492, 266, 813, 265, 841, 261, 273, 1653, 262, 6998, 267, 14956, 262, 791, 2269, 260, 273, 7052, 262, 813, 265, 841, 970, 264, 262, 2270, 264, 282, 5007, 260, 344, 262, 810, 265, 841, 261, 301, 295, 380, 294, 328, 261, 339, 261, 335, 261, 399, 261, 579, 261, 361, 261, 361, 400, 260, 279, 380, 265, 262, 317, 14916, 318, 269, 379, 1257, 264, 796, 262, 5392, 260, 927, 291, 384, 261, 262, 8921, 604, 484, 268, 1161, 292, 41582, 263, 2090, 52521, 264, 9803, 353, 1000, 840, 1029, 265, 7392, 260, 273, 741, 375, 743, 270, 266, 3956, 260, 2169, 12103, 270, 3513, 28310, 4593, 271, 57498, 24360, 16789, 271, 1609, 30065, 12287, 662, 86260, 643, 14956, 262, 791, 2269, 277, 1089, 261, 273, 9803, 264, 262, 2754, 266, 1412, 15895, 265, 308, 374, 275, 262, 908, 265, 1163, 4321, 261, 1426, 263, 88147, 260, 329, 567, 3956, 327, 437, 268, 375, 743, 263, 1279, 262, 791, 2269, 264, 10358, 260, 1414, 103648, 275, 278, 261, 262, 6998, 2607, 262, 617, 265, 262, 1637, 260, 1060, 261, 262, 567, 3956, 2449, 321, 402, 310, 1000, 263, 14350, 9963, 457, 262, 6998, 260, 8132, 291, 353, 791, 2269, 261, 306, 286, 1859, 264, 374, 603, 263, 409, 264, 365, 3979, 262, 37316, 1000, 260, 273, 394, 910, 305, 262, 1205, 273, 2059, 267, 291, 810, 265, 2475, 267, 556, 264, 3468, 4817, 1507, 270, 1129, 271, 12197, 260, 606, 6991, 281, 262, 2233, 265, 312, 460, 1836, 260, 279, 1129, 271, 12197, 281, 2090, 526, 264, 2313, 262, 1604, 265, 262, 1205, 263, 295, 413, 1538, 2359, 264, 15757, 349, 260, 450, 433, 2995, 264, 308, 841, 2022, 264, 266, 24664, 5190, 260, 17798, 458, 273, 433, 1201, 275, 262, 34554, 265, 291, 810, 265, 3956, 269, 262, 2754, 2897, 270, 262, 663, 260, 329, 1637, 1530, 264, 527, 2094, 260, 279, 2754, 1825, 262, 697, 263, 409, 264, 548, 898, 278, 260, 1060, 261, 306, 1166, 638, 5421, 289, 9340, 265, 262, 663, 260, 336, 1903, 1328, 269, 1119, 261, 2090, 15742, 262, 3450, 265, 1144, 2255, 260, 2169, 12103, 270, 3513, 28310, 4593, 271, 57498, 24360, 16789, 271, 1609, 30065, 12287, 662, 86260, 30097, 376, 294, 7826, 7035, 22229, 2196, 663, 2]\n",
      "token_type_ids  --->  [0, 0, 0, 0, 0, 0, 0, 0, 0, 0, 0, 0, 0, 0, 0, 0, 0, 0, 0, 0, 0, 0, 0, 0, 0, 0, 0, 0, 0, 0, 0, 0, 0, 0, 0, 0, 0, 0, 0, 0, 0, 0, 0, 0, 0, 0, 0, 0, 0, 0, 0, 0, 0, 0, 0, 0, 0, 0, 0, 0, 0, 0, 0, 0, 0, 0, 0, 0, 0, 0, 0, 0, 0, 0, 0, 0, 0, 0, 0, 0, 0, 0, 0, 0, 0, 0, 0, 0, 0, 0, 0, 0, 0, 0, 0, 0, 0, 0, 0, 0, 0, 0, 0, 0, 0, 0, 0, 0, 0, 0, 0, 0, 0, 0, 0, 0, 0, 0, 0, 0, 0, 0, 0, 0, 0, 0, 0, 0, 0, 0, 0, 0, 0, 0, 0, 0, 0, 0, 0, 0, 0, 0, 0, 0, 0, 0, 0, 0, 0, 0, 0, 0, 0, 0, 0, 0, 0, 0, 0, 0, 0, 0, 0, 0, 0, 0, 0, 0, 0, 0, 0, 0, 0, 0, 0, 0, 0, 0, 0, 0, 0, 0, 0, 0, 0, 0, 0, 0, 0, 0, 0, 0, 0, 0, 0, 0, 0, 0, 0, 0, 0, 0, 0, 0, 0, 0, 0, 0, 0, 0, 0, 0, 0, 0, 0, 0, 0, 0, 0, 0, 0, 0, 0, 0, 0, 0, 0, 0, 0, 0, 0, 0, 0, 0, 0, 0, 0, 0, 0, 0, 0, 0, 0, 0, 0, 0, 0, 0, 0, 0, 0, 0, 0, 0, 0, 0, 0, 0, 0, 0, 0, 0, 0, 0, 0, 0, 0, 0, 0, 0, 0, 0, 0, 0, 0, 0, 0, 0, 0, 0, 0, 0, 0, 0, 0, 0, 0, 0, 0, 0, 0, 0, 0, 0, 0, 0, 0, 0, 0, 0, 0, 0, 0, 0, 0, 0, 0, 0, 0, 0, 0, 0, 0, 0, 0, 0, 0, 0, 0, 0, 0, 0, 0, 0, 0, 0, 0, 0, 0, 0, 0, 0, 0, 0, 0, 0, 0, 0, 0, 0, 0, 0, 0, 0, 0, 0, 0, 0, 0, 0, 0, 0, 0, 0, 0, 0, 0, 0, 0, 0, 0, 0, 0, 0, 0, 0, 0, 0, 0, 0, 0, 0, 0, 0, 0, 0, 0, 0, 0, 0, 0, 0, 0, 0, 0, 0, 0, 0, 0, 0, 0, 0, 0, 0, 0, 0, 0, 0, 0, 0, 0, 0, 0, 0, 0, 0, 0, 0, 0, 0, 0, 0, 0, 0, 0, 0, 0, 0, 0, 0, 0, 0, 0, 0, 0, 0, 0, 0, 0, 0, 0, 0, 0, 0, 0, 0, 0, 0, 0, 0, 0, 0, 0, 0, 0, 0, 0, 0, 0, 0, 0, 0, 0, 0, 0, 0, 0, 0, 0, 0, 0, 0, 0, 0, 0, 0, 0, 0, 0, 0, 0, 0, 0, 0, 0, 0, 0, 0, 0, 0, 0, 0, 0, 0, 0, 0, 0, 0, 0, 0, 0, 0, 0, 0, 0, 0, 0, 0, 0, 0, 0, 0, 0, 0, 0, 0, 0, 0, 0, 0, 0, 0, 0, 0, 0, 0, 0, 0, 0, 0, 0, 0, 0, 0, 0, 0, 0, 0, 0, 0, 0, 0, 0, 0, 0, 0, 0, 0, 0, 0, 0, 0, 0, 0, 0, 0, 0, 0, 0, 0, 0, 0, 0, 0, 0, 0, 0, 0, 0, 0, 0, 0, 0, 0, 0, 0, 0, 0, 0, 0, 0, 0, 0, 0, 0, 0, 0, 0, 0, 0, 0, 0, 0, 0, 0, 0, 0, 0, 0, 0, 0, 0, 0, 0, 0, 0, 0, 0, 0, 0, 0, 0, 0, 0, 0, 0, 0, 0, 0, 0, 0, 0, 0, 0, 0, 0, 0, 0, 0, 0, 0, 0, 0, 0, 0, 0, 0, 0, 0, 0, 0, 0, 0, 0, 0, 0, 0, 0, 0, 0, 0, 0, 0, 0, 0, 0, 0, 0, 0, 0, 0, 0, 0, 0, 0, 0, 0, 0, 0, 0, 0, 0, 0, 0, 0, 0, 0, 0, 0, 0, 0, 0, 0, 0, 0, 0, 0, 0, 0, 0, 0, 0, 0, 0, 0, 0, 0, 0, 0, 0, 0, 0, 0, 0, 0, 0, 0, 0, 0, 0, 0, 0, 0, 0, 0, 0, 0, 0, 0, 0, 0, 0, 0, 0, 0, 0, 0, 0, 0, 0, 0, 0, 0, 0, 0, 0]\n",
      "attention_mask  --->  [1, 1, 1, 1, 1, 1, 1, 1, 1, 1, 1, 1, 1, 1, 1, 1, 1, 1, 1, 1, 1, 1, 1, 1, 1, 1, 1, 1, 1, 1, 1, 1, 1, 1, 1, 1, 1, 1, 1, 1, 1, 1, 1, 1, 1, 1, 1, 1, 1, 1, 1, 1, 1, 1, 1, 1, 1, 1, 1, 1, 1, 1, 1, 1, 1, 1, 1, 1, 1, 1, 1, 1, 1, 1, 1, 1, 1, 1, 1, 1, 1, 1, 1, 1, 1, 1, 1, 1, 1, 1, 1, 1, 1, 1, 1, 1, 1, 1, 1, 1, 1, 1, 1, 1, 1, 1, 1, 1, 1, 1, 1, 1, 1, 1, 1, 1, 1, 1, 1, 1, 1, 1, 1, 1, 1, 1, 1, 1, 1, 1, 1, 1, 1, 1, 1, 1, 1, 1, 1, 1, 1, 1, 1, 1, 1, 1, 1, 1, 1, 1, 1, 1, 1, 1, 1, 1, 1, 1, 1, 1, 1, 1, 1, 1, 1, 1, 1, 1, 1, 1, 1, 1, 1, 1, 1, 1, 1, 1, 1, 1, 1, 1, 1, 1, 1, 1, 1, 1, 1, 1, 1, 1, 1, 1, 1, 1, 1, 1, 1, 1, 1, 1, 1, 1, 1, 1, 1, 1, 1, 1, 1, 1, 1, 1, 1, 1, 1, 1, 1, 1, 1, 1, 1, 1, 1, 1, 1, 1, 1, 1, 1, 1, 1, 1, 1, 1, 1, 1, 1, 1, 1, 1, 1, 1, 1, 1, 1, 1, 1, 1, 1, 1, 1, 1, 1, 1, 1, 1, 1, 1, 1, 1, 1, 1, 1, 1, 1, 1, 1, 1, 1, 1, 1, 1, 1, 1, 1, 1, 1, 1, 1, 1, 1, 1, 1, 1, 1, 1, 1, 1, 1, 1, 1, 1, 1, 1, 1, 1, 1, 1, 1, 1, 1, 1, 1, 1, 1, 1, 1, 1, 1, 1, 1, 1, 1, 1, 1, 1, 1, 1, 1, 1, 1, 1, 1, 1, 1, 1, 1, 1, 1, 1, 1, 1, 1, 1, 1, 1, 1, 1, 1, 1, 1, 1, 1, 1, 1, 1, 1, 1, 1, 1, 1, 1, 1, 1, 1, 1, 1, 1, 1, 1, 1, 1, 1, 1, 1, 1, 1, 1, 1, 1, 1, 1, 1, 1, 1, 1, 1, 1, 1, 1, 1, 1, 1, 1, 1, 1, 1, 1, 1, 1, 1, 1, 1, 1, 1, 1, 1, 1, 1, 1, 1, 1, 1, 1, 1, 1, 1, 1, 1, 1, 1, 1, 1, 1, 1, 1, 1, 1, 1, 1, 1, 1, 1, 1, 1, 1, 1, 1, 1, 1, 1, 1, 1, 1, 1, 1, 1, 1, 1, 1, 1, 1, 1, 1, 1, 1, 1, 1, 1, 1, 1, 1, 1, 1, 1, 1, 1, 1, 1, 1, 1, 1, 1, 1, 1, 1, 1, 1, 1, 1, 1, 1, 1, 1, 1, 1, 1, 1, 1, 1, 1, 1, 1, 1, 1, 1, 1, 1, 1, 1, 1, 1, 1, 1, 1, 1, 1, 1, 1, 1, 1, 1, 1, 1, 1, 1, 1, 1, 1, 1, 1, 1, 1, 1, 1, 1, 1, 1, 1, 1, 1, 1, 1, 1, 1, 1, 1, 1, 1, 1, 1, 1, 1, 1, 1, 1, 1, 1, 1, 1, 1, 1, 1, 1, 1, 1, 1, 1, 1, 1, 1, 1, 1, 1, 1, 1, 1, 1, 1, 1, 1, 1, 1, 1, 1, 1, 1, 1, 1, 1, 1, 1, 1, 1, 1, 1, 1, 1, 1, 1, 1, 1, 1, 1, 1, 1, 1, 1, 1, 1, 1, 1, 1, 1, 1, 1, 1, 1, 1, 1, 1, 1, 1, 1, 1, 1, 1, 1, 1, 1, 1, 1, 1, 1, 1, 1, 1, 1, 1, 1, 1, 1, 1, 1, 1, 1, 1, 1, 1, 1, 1, 1, 1, 1, 1, 1, 1, 1, 1, 1, 1, 1, 1, 1, 1, 1, 1, 1, 1, 1, 1, 1, 1, 1, 1, 1, 1, 1, 1, 1, 1, 1, 1, 1, 1, 1, 1, 1, 1, 1, 1, 1, 1, 1, 1, 1, 1, 1, 1, 1, 1, 1, 1, 1, 1, 1, 1, 1, 1, 1, 1, 1, 1, 1, 1, 1, 1, 1, 1, 1, 1, 1, 1, 1, 1, 1, 1, 1, 1, 1, 1, 1, 1, 1, 1, 1, 1, 1, 1, 1, 1, 1, 1, 1]\n",
      "offset_mapping  --->  [[0, 0], [0, 6], [6, 15], [15, 19], [19, 30], [30, 37], [37, 40], [40, 41], [41, 43], [43, 46], [46, 51], [51, 52], [52, 53], [53, 57], [57, 60], [60, 62], [62, 66], [67, 77], [77, 79], [79, 89], [90, 94], [94, 99], [99, 101], [101, 105], [105, 108], [108, 113], [113, 117], [117, 130], [130, 138], [138, 144], [144, 148], [148, 156], [156, 160], [160, 171], [171, 174], [174, 176], [176, 184], [184, 187], [187, 191], [192, 197], [197, 201], [201, 202], [203, 208], [208, 216], [216, 219], [219, 221], [221, 226], [226, 230], [230, 231], [231, 241], [241, 244], [244, 248], [248, 259], [259, 262], [262, 266], [266, 268], [268, 270], [270, 271], [271, 275], [275, 279], [279, 281], [281, 283], [283, 284], [284, 286], [286, 290], [290, 291], [291, 295], [295, 296], [296, 299], [299, 300], [300, 303], [304, 306], [306, 307], [307, 319], [319, 320], [320, 326], [326, 327], [327, 331], [331, 333], [333, 339], [339, 340], [340, 342], [342, 343], [343, 348], [348, 355], [355, 356], [356, 357], [357, 358], [358, 362], [362, 367], [367, 371], [371, 373], [373, 375], [375, 385], [385, 393], [393, 394], [394, 397], [397, 399], [399, 407], [408, 423], [423, 433], [433, 438], [438, 446], [446, 450], [450, 458], [458, 470], [470, 473], [473, 477], [477, 482], [482, 486], [486, 493], [493, 497], [497, 503], [503, 504], [504, 505], [506, 516], [516, 519], [519, 522], [522, 531], [531, 532], [532, 535], [535, 541], [541, 542], [543, 548], [548, 553], [553, 557], [557, 562], [562, 573], [573, 574], [575, 577], [578, 581], [581, 584], [584, 595], [595, 598], [598, 602], [602, 606], [606, 611], [611, 615], [615, 623], [623, 635], [635, 644], [644, 655], [655, 659], [659, 663], [663, 666], [666, 671], [672, 680], [681, 683], [684, 687], [687, 690], [690, 699], [700, 702], [703, 706], [706, 713], [713, 728], [728, 732], [732, 740], [740, 743], [743, 755], [756, 758], [759, 762], [762, 766], [766, 769], [769, 777], [777, 780], [780, 784], [784, 789], [789, 792], [792, 802], [802, 803], [803, 808], [808, 814], [814, 815], [815, 823], [823, 831], [831, 832], [832, 841], [841, 842], [842, 851], [851, 854], [855, 859], [859, 865], [866, 868], [869, 872], [872, 875], [875, 884], [884, 888], [888, 892], [892, 899], [899, 903], [903, 906], [906, 911], [911, 914], [914, 920], [921, 923], [924, 927], [927, 930], [930, 934], [934, 938], [938, 949], [949, 959], [960, 962], [963, 966], [966, 972], [972, 980], [980, 984], [984, 994], [994, 997], [997, 1006], [1006, 1007], [1007, 1021], [1021, 1022], [1022, 1039], [1040, 1042], [1043, 1046], [1046, 1057], [1057, 1058], [1059, 1061], [1062, 1065], [1065, 1071], [1071, 1075], [1075, 1083], [1083, 1098], [1099, 1101], [1102, 1105], [1105, 1112], [1112, 1116], [1116, 1119], [1119, 1127], [1127, 1133], [1134, 1138], [1138, 1147], [1147, 1150], [1150, 1152], [1152, 1157], [1157, 1161], [1161, 1168], [1168, 1173], [1173, 1176], [1176, 1181], [1181, 1182], [1182, 1189], [1189, 1197], [1197, 1200], [1200, 1204], [1204, 1211], [1211, 1212], [1212, 1217], [1217, 1226], [1226, 1232], [1233, 1243], [1243, 1249], [1249, 1250], [1250, 1254], [1254, 1260], [1260, 1261], [1261, 1273], [1273, 1280], [1280, 1285], [1285, 1292], [1292, 1295], [1295, 1297], [1297, 1304], [1304, 1314], [1314, 1315], [1315, 1321], [1321, 1324], [1324, 1329], [1329, 1332], [1333, 1343], [1343, 1348], [1348, 1351], [1351, 1356], [1356, 1365], [1365, 1368], [1368, 1372], [1372, 1378], [1378, 1379], [1380, 1385], [1385, 1390], [1390, 1398], [1398, 1409], [1409, 1413], [1413, 1419], [1419, 1422], [1422, 1425], [1425, 1435], [1435, 1436], [1436, 1439], [1439, 1442], [1442, 1444], [1444, 1448], [1448, 1451], [1451, 1455], [1455, 1464], [1464, 1465], [1466, 1477], [1477, 1480], [1480, 1489], [1489, 1497], [1497, 1510], [1510, 1515], [1515, 1527], [1527, 1532], [1532, 1536], [1536, 1543], [1543, 1544], [1545, 1557], [1557, 1559], [1559, 1567], [1568, 1570], [1570, 1576], [1576, 1580], [1580, 1588], [1588, 1591], [1591, 1595], [1595, 1600], [1600, 1604], [1604, 1613], [1613, 1618], [1618, 1622], [1622, 1635], [1635, 1644], [1644, 1651], [1651, 1653], [1653, 1659], [1659, 1665], [1666, 1668], [1668, 1673], [1673, 1676], [1676, 1682], [1682, 1688], [1688, 1689], [1689, 1690], [1690, 1693], [1693, 1697], [1697, 1704], [1704, 1707], [1707, 1711], [1711, 1717], [1717, 1718], [1718, 1720], [1720, 1726], [1726, 1730], [1730, 1740], [1740, 1744], [1744, 1750], [1750, 1753], [1753, 1760], [1760, 1761], [1762, 1770], [1770, 1772], [1772, 1779], [1779, 1782], [1782, 1792], [1792, 1793], [1793, 1795], [1795, 1801], [1801, 1805], [1805, 1818], [1818, 1821], [1821, 1831], [1831, 1835], [1835, 1840], [1840, 1844], [1844, 1845], [1845, 1847], [1847, 1853], [1853, 1857], [1857, 1864], [1865, 1868], [1868, 1878], [1878, 1888], [1888, 1891], [1891, 1895], [1895, 1901], [1901, 1904], [1904, 1907], [1907, 1917], [1917, 1918], [1918, 1921], [1921, 1925], [1925, 1930], [1930, 1933], [1933, 1943], [1943, 1944], [1944, 1947], [1947, 1951], [1951, 1955], [1955, 1956], [1956, 1960], [1960, 1961], [1961, 1966], [1966, 1967], [1968, 1973], [1973, 1974], [1974, 1980], [1980, 1981], [1981, 1985], [1985, 1986], [1986, 1990], [1990, 1991], [1991, 1995], [1995, 2000], [2000, 2001], [2002, 2006], [2006, 2010], [2010, 2013], [2013, 2017], [2017, 2019], [2019, 2022], [2022, 2023], [2023, 2026], [2026, 2031], [2031, 2043], [2043, 2046], [2046, 2057], [2057, 2061], [2061, 2068], [2068, 2069], [2069, 2072], [2072, 2077], [2077, 2081], [2081, 2082], [2082, 2086], [2086, 2098], [2098, 2105], [2106, 2111], [2111, 2112], [2112, 2119], [2119, 2124], [2124, 2134], [2134, 2138], [2138, 2143], [2143, 2149], [2149, 2152], [2152, 2160], [2160, 2164], [2164, 2170], [2170, 2172], [2172, 2177], [2177, 2180], [2180, 2192], [2192, 2193], [2193, 2195], [2195, 2200], [2200, 2204], [2205, 2211], [2211, 2215], [2215, 2217], [2217, 2226], [2226, 2227], [2228, 2235], [2235, 2244], [2244, 2248], [2248, 2259], [2259, 2266], [2266, 2269], [2269, 2270], [2270, 2272], [2272, 2275], [2275, 2280], [2280, 2281], [2281, 2282], [2282, 2286], [2286, 2289], [2289, 2291], [2291, 2295], [2296, 2302], [2302, 2312], [2312, 2316], [2316, 2321], [2321, 2325], [2325, 2328], [2328, 2334], [2334, 2335], [2335, 2337], [2337, 2345], [2345, 2348], [2348, 2352], [2352, 2365], [2365, 2367], [2367, 2375], [2375, 2389], [2389, 2392], [2392, 2398], [2399, 2404], [2404, 2409], [2409, 2413], [2413, 2422], [2422, 2425], [2425, 2431], [2431, 2437], [2437, 2438], [2438, 2445], [2445, 2449], [2449, 2466], [2466, 2467], [2467, 2472], [2472, 2479], [2479, 2488], [2488, 2493], [2493, 2498], [2498, 2499], [2500, 2504], [2504, 2510], [2510, 2514], [2514, 2521], [2521, 2525], [2525, 2530], [2530, 2534], [2534, 2537], [2537, 2544], [2544, 2545], [2545, 2550], [2550, 2563], [2563, 2568], [2568, 2571], [2571, 2572], [2572, 2576], [2576, 2589], [2589, 2598], [2599, 2603], [2603, 2609], [2609, 2612], [2612, 2616], [2616, 2621], [2621, 2622], [2622, 2627], [2627, 2628], [2628, 2632], [2632, 2639], [2639, 2648], [2648, 2655], [2655, 2659], [2659, 2664], [2664, 2669], [2669, 2675], [2675, 2679], [2679, 2692], [2693, 2703], [2703, 2711], [2711, 2715], [2715, 2728], [2728, 2729], [2729, 2736], [2736, 2741], [2741, 2745], [2745, 2750], [2750, 2754], [2754, 2755], [2755, 2760], [2760, 2765], [2765, 2773], [2773, 2776], [2776, 2781], [2782, 2791], [2791, 2795], [2795, 2800], [2800, 2803], [2803, 2808], [2808, 2816], [2816, 2820], [2820, 2827], [2827, 2833], [2833, 2834], [2835, 2837], [2837, 2841], [2841, 2849], [2849, 2853], [2853, 2857], [2857, 2866], [2866, 2868], [2868, 2875], [2875, 2878], [2878, 2883], [2883, 2888], [2888, 2891], [2891, 2898], [2898, 2901], [2901, 2907], [2907, 2910], [2910, 2915], [2915, 2921], [2921, 2935], [2935, 2939], [2940, 2949], [2949, 2950], [2950, 2956], [2956, 2957], [2957, 2963], [2963, 2977], [2977, 2981], [2981, 2985], [2985, 2990], [2990, 2993], [2993, 2996], [2996, 3005], [3005, 3012], [3012, 3013], [3013, 3017], [3017, 3026], [3026, 3027], [3027, 3033], [3033, 3037], [3038, 3043], [3043, 3048], [3048, 3051], [3051, 3060], [3060, 3064], [3064, 3078], [3078, 3081], [3081, 3085], [3085, 3094], [3094, 3098], [3098, 3102], [3102, 3107], [3107, 3113], [3113, 3123], [3123, 3126], [3126, 3135], [3135, 3140], [3140, 3141], [3142, 3147], [3147, 3152], [3152, 3160], [3160, 3163], [3163, 3169], [3169, 3179], [3179, 3185], [3185, 3188], [3188, 3190], [3190, 3200], [3200, 3215], [3215, 3216], [3217, 3226], [3227, 3232], [3232, 3234], [3234, 3239], [3239, 3247], [3247, 3252], [3252, 3256], [3256, 3269], [3269, 3272], [3272, 3277], [3277, 3282], [3282, 3285], [3285, 3294], [3294, 3297], [3297, 3301], [3301, 3314], [3314, 3325], [3325, 3329], [3330, 3334], [3334, 3342], [3342, 3343], [3343, 3348], [3348, 3353], [3353, 3359], [3359, 3362], [3362, 3367], [3367, 3375], [3375, 3376], [3376, 3380], [3380, 3393], [3393, 3405], [3405, 3409], [3409, 3415], [3415, 3419], [3419, 3424], [3424, 3427], [3427, 3432], [3433, 3441], [3441, 3444], [3444, 3445], [3445, 3450], [3450, 3451], [3451, 3456], [3456, 3463], [3463, 3470], [3470, 3477], [3477, 3480], [3480, 3489], [3489, 3492], [3492, 3496], [3496, 3504], [3504, 3505], [3505, 3507], [3507, 3513], [3513, 3526], [3526, 3529], [3529, 3535], [3535, 3536], [3537, 3542], [3542, 3555], [3555, 3559], [3559, 3574], [3574, 3577], [3577, 3585], [3585, 3593], [3593, 3594], [3595, 3602], [3602, 3611], [3611, 3615], [3615, 3626], [3626, 3633], [3633, 3636], [3636, 3637], [3637, 3639], [3639, 3642], [3642, 3647], [3647, 3648], [3648, 3649], [3649, 3653], [3653, 3656], [3656, 3658], [3658, 3662], [3663, 3669], [3669, 3671], [3671, 3672], [3672, 3677], [3677, 3681], [3681, 3688], [3688, 3699], [3699, 3707], [0, 0]]\n",
      "labels  --->  [12, 12, 12, 12, 12, 12, 12, 12, 12, 12, 12, 12, 2, 2, 2, 8, 8, 12, 12, 12, 12, 12, 12, 12, 12, 12, 12, 12, 12, 12, 12, 12, 12, 12, 12, 12, 12, 12, 12, 12, 12, 12, 12, 12, 12, 12, 12, 12, 12, 12, 12, 12, 12, 12, 12, 12, 12, 12, 12, 12, 12, 12, 12, 12, 12, 12, 12, 12, 12, 12, 12, 12, 12, 12, 12, 12, 12, 12, 12, 12, 12, 12, 12, 12, 12, 12, 12, 12, 12, 12, 12, 12, 12, 12, 12, 12, 12, 12, 12, 12, 12, 12, 12, 12, 12, 12, 12, 12, 12, 12, 12, 12, 12, 12, 12, 12, 12, 12, 12, 12, 12, 12, 12, 12, 12, 12, 12, 12, 12, 12, 12, 12, 12, 12, 12, 12, 12, 12, 12, 12, 12, 12, 12, 12, 12, 12, 12, 12, 12, 12, 12, 12, 12, 12, 12, 12, 12, 12, 12, 12, 12, 12, 12, 12, 12, 12, 12, 12, 12, 12, 12, 12, 12, 12, 12, 12, 12, 12, 12, 12, 12, 12, 12, 12, 12, 12, 12, 12, 12, 12, 12, 12, 12, 12, 12, 12, 12, 12, 12, 12, 12, 12, 12, 12, 12, 12, 12, 12, 12, 12, 12, 12, 12, 12, 12, 12, 12, 12, 12, 12, 12, 12, 12, 12, 12, 12, 12, 12, 12, 12, 12, 12, 12, 12, 12, 12, 12, 12, 12, 12, 12, 12, 12, 12, 12, 12, 12, 12, 12, 12, 12, 12, 12, 12, 12, 12, 12, 12, 12, 12, 12, 12, 12, 12, 12, 12, 12, 12, 12, 12, 12, 12, 12, 12, 12, 12, 12, 12, 12, 12, 12, 12, 12, 12, 12, 12, 12, 12, 12, 12, 12, 12, 12, 12, 12, 12, 12, 12, 12, 12, 12, 12, 12, 12, 12, 12, 12, 12, 12, 12, 12, 12, 12, 12, 12, 12, 12, 12, 12, 12, 12, 12, 12, 12, 12, 12, 12, 12, 12, 12, 12, 12, 12, 12, 12, 12, 12, 12, 12, 12, 12, 12, 12, 12, 12, 12, 12, 12, 12, 12, 12, 12, 12, 12, 12, 12, 12, 12, 12, 12, 12, 12, 12, 12, 12, 12, 12, 12, 12, 12, 12, 12, 12, 12, 12, 12, 12, 12, 12, 12, 12, 12, 12, 12, 12, 12, 12, 12, 12, 12, 12, 12, 12, 12, 12, 12, 12, 12, 12, 12, 12, 12, 12, 12, 12, 12, 12, 12, 12, 12, 12, 12, 12, 12, 12, 12, 12, 12, 12, 12, 12, 12, 12, 12, 12, 12, 12, 12, 12, 12, 12, 12, 12, 12, 12, 12, 12, 12, 12, 12, 12, 12, 12, 12, 12, 12, 12, 12, 12, 12, 12, 12, 12, 12, 12, 12, 12, 12, 12, 12, 12, 12, 12, 2, 2, 2, 8, 8, 12, 12, 12, 12, 12, 12, 12, 12, 12, 12, 12, 12, 12, 12, 12, 12, 12, 12, 12, 12, 12, 12, 12, 12, 12, 12, 12, 12, 12, 12, 12, 12, 12, 12, 12, 12, 12, 12, 12, 12, 12, 12, 12, 12, 12, 12, 12, 12, 12, 12, 12, 12, 12, 12, 12, 12, 12, 12, 12, 12, 12, 12, 12, 12, 12, 12, 12, 12, 12, 12, 12, 12, 12, 12, 12, 12, 12, 12, 12, 12, 12, 12, 12, 12, 12, 12, 12, 12, 12, 12, 12, 12, 12, 12, 12, 12, 12, 12, 12, 12, 12, 12, 12, 12, 12, 12, 12, 12, 12, 12, 12, 12, 12, 12, 12, 12, 12, 12, 12, 12, 12, 12, 12, 12, 12, 12, 12, 12, 12, 12, 12, 12, 12, 12, 12, 12, 12, 12, 12, 12, 12, 12, 12, 12, 12, 12, 12, 12, 12, 12, 12, 12, 12, 12, 12, 12, 12, 12, 12, 12, 12, 12, 12, 12, 12, 12, 12, 12, 12, 12, 12, 12, 12, 12, 12, 12, 12, 12, 12, 12, 12, 12, 12, 12, 12, 12, 12, 12, 12, 12, 12, 12, 12, 12, 12, 12, 12, 12, 12, 12, 12, 12, 12, 12, 12, 12, 12, 12, 12, 12, 12, 12, 12, 12, 12, 12, 12, 12, 12, 12, 12, 12, 12, 12, 12, 12, 12, 12, 12, 12, 12, 12, 12, 12, 12, 12, 12, 12, 12, 12, 12, 12, 12, 12, 2, 2, 2, 8, 8, 12, 12, 12, 12, 12, 12, 12, 12, 12]\n",
      "length  --->  726\n"
     ]
    }
   ],
   "source": [
    "for key in ds[0].keys():\n",
    "    print(key, \" ---> \", ds[0][key])"
   ]
  },
  {
   "cell_type": "code",
   "execution_count": 6,
   "metadata": {},
   "outputs": [
    {
     "name": "stdout",
     "output_type": "stream",
     "text": [
      "10806\n",
      "****************************************************************************************************\n",
      "18639\n",
      "****************************************************************************************************\n",
      "14259\n",
      "****************************************************************************************************\n",
      "5258\n",
      "('Nitish', 'B-NAME_STUDENT')\n",
      "('Kumar', 'I-NAME_STUDENT')\n",
      "****************************************************************************************************\n",
      "('▁Nitish', 'B-NAME_STUDENT')\n",
      "('▁Kumar', 'I-NAME_STUDENT')\n",
      "9106\n",
      "****************************************************************************************************\n",
      "13034\n",
      "****************************************************************************************************\n",
      "21352\n",
      "****************************************************************************************************\n",
      "10391\n",
      "('Deepak', 'B-NAME_STUDENT')\n",
      "('Das', 'I-NAME_STUDENT')\n",
      "****************************************************************************************************\n",
      "('▁Deepak', 'B-NAME_STUDENT')\n",
      "('▁Das', 'I-NAME_STUDENT')\n",
      "9262\n",
      "****************************************************************************************************\n",
      "16481\n",
      "****************************************************************************************************\n"
     ]
    }
   ],
   "source": [
    "# Confirm that alignment is good\n",
    "\n",
    "# run multiple times to see different rows\n",
    "\n",
    "for i in range(10):\n",
    "    x = ds.shuffle()[0]\n",
    "    print(x[\"document\"])\n",
    "\n",
    "    for single_token,single_label in zip(x[\"tokens\"], x[\"provided_labels\"]):\n",
    "        if single_label != \"O\":\n",
    "            print((single_token,single_label))\n",
    "\n",
    "    print(\"*\"*100)\n",
    "            \n",
    "    for single_token, single_label in zip(tokenizer.convert_ids_to_tokens(x[\"input_ids\"]), x[\"labels\"]):\n",
    "        if id2label[single_label] != \"O\":\n",
    "            print((single_token,id2label[single_label]))"
   ]
  },
  {
   "cell_type": "code",
   "execution_count": 7,
   "metadata": {},
   "outputs": [
    {
     "data": {
      "text/plain": [
       "(array([  9.,  19.,  29.,  50.,  56.,  61.,  83., 104., 147., 165., 190.,\n",
       "        209., 262., 271., 311., 302., 317., 299., 307., 342., 320., 294.,\n",
       "        275., 241., 214., 223., 210., 167., 175., 180., 109., 116.,  84.,\n",
       "         81.,  58.,  57.,  67.,  51.,  50.,  41.,  27.,  32.,  36.,  14.,\n",
       "         27.,  13.,  11.,   9.,   5.,  13.,  10.,   9.,   8.,   1.,   5.,\n",
       "          2.,   6.,   3.,   5.,   1.,   2.,   2.,   2.,   0.,   2.,   2.,\n",
       "          2.,   0.,   0.,   2.,   2.,   0.,   0.,   0.,   0.,   1.,   1.,\n",
       "          0.,   0.,   0.,   0.,   0.,   2.,   0.,   0.,   0.,   0.,   0.,\n",
       "          0.,   1.,   0.,   1.,   0.,   0.,   1.,   0.,   0.,   0.,   0.,\n",
       "          1.]),\n",
       " array([  67.  ,   97.09,  127.18,  157.27,  187.36,  217.45,  247.54,\n",
       "         277.63,  307.72,  337.81,  367.9 ,  397.99,  428.08,  458.17,\n",
       "         488.26,  518.35,  548.44,  578.53,  608.62,  638.71,  668.8 ,\n",
       "         698.89,  728.98,  759.07,  789.16,  819.25,  849.34,  879.43,\n",
       "         909.52,  939.61,  969.7 ,  999.79, 1029.88, 1059.97, 1090.06,\n",
       "        1120.15, 1150.24, 1180.33, 1210.42, 1240.51, 1270.6 , 1300.69,\n",
       "        1330.78, 1360.87, 1390.96, 1421.05, 1451.14, 1481.23, 1511.32,\n",
       "        1541.41, 1571.5 , 1601.59, 1631.68, 1661.77, 1691.86, 1721.95,\n",
       "        1752.04, 1782.13, 1812.22, 1842.31, 1872.4 , 1902.49, 1932.58,\n",
       "        1962.67, 1992.76, 2022.85, 2052.94, 2083.03, 2113.12, 2143.21,\n",
       "        2173.3 , 2203.39, 2233.48, 2263.57, 2293.66, 2323.75, 2353.84,\n",
       "        2383.93, 2414.02, 2444.11, 2474.2 , 2504.29, 2534.38, 2564.47,\n",
       "        2594.56, 2624.65, 2654.74, 2684.83, 2714.92, 2745.01, 2775.1 ,\n",
       "        2805.19, 2835.28, 2865.37, 2895.46, 2925.55, 2955.64, 2985.73,\n",
       "        3015.82, 3045.91, 3076.  ]),\n",
       " <BarContainer object of 100 artists>)"
      ]
     },
     "execution_count": 7,
     "metadata": {},
     "output_type": "execute_result"
    },
    {
     "data": {
      "image/png": "[encoded data removed]",
      "text/plain": [
       "<Figure size 640x480 with 1 Axes>"
      ]
     },
     "metadata": {},
     "output_type": "display_data"
    }
   ],
   "source": [
    "\n",
    "import matplotlib.pyplot as plt\n",
    "\n",
    "\n",
    "plt.hist(ds[\"length\"], bins=100)"
   ]
  },
  {
   "cell_type": "code",
   "execution_count": 8,
   "metadata": {},
   "outputs": [
    {
     "ename": "ValueError",
     "evalue": "Mime type rendering requires nbformat>=4.2.0 but it is not installed",
     "output_type": "error",
     "traceback": [
      "\u001b[1;31m---------------------------------------------------------------------------\u001b[0m",
      "\u001b[1;31mValueError\u001b[0m                                Traceback (most recent call last)",
      "File \u001b[1;32mc:\\Users\\Shadow\\anaconda3\\envs\\mytorch\\lib\\site-packages\\IPython\\core\\formatters.py:922\u001b[0m, in \u001b[0;36mIPythonDisplayFormatter.__call__\u001b[1;34m(self, obj)\u001b[0m\n\u001b[0;32m    920\u001b[0m method \u001b[38;5;241m=\u001b[39m get_real_method(obj, \u001b[38;5;28mself\u001b[39m\u001b[38;5;241m.\u001b[39mprint_method)\n\u001b[0;32m    921\u001b[0m \u001b[38;5;28;01mif\u001b[39;00m method \u001b[38;5;129;01mis\u001b[39;00m \u001b[38;5;129;01mnot\u001b[39;00m \u001b[38;5;28;01mNone\u001b[39;00m:\n\u001b[1;32m--> 922\u001b[0m     \u001b[43mmethod\u001b[49m\u001b[43m(\u001b[49m\u001b[43m)\u001b[49m\n\u001b[0;32m    923\u001b[0m     \u001b[38;5;28;01mreturn\u001b[39;00m \u001b[38;5;28;01mTrue\u001b[39;00m\n",
      "File \u001b[1;32mc:\\Users\\Shadow\\anaconda3\\envs\\mytorch\\lib\\site-packages\\plotly\\basedatatypes.py:832\u001b[0m, in \u001b[0;36mBaseFigure._ipython_display_\u001b[1;34m(self)\u001b[0m\n\u001b[0;32m    829\u001b[0m \u001b[38;5;28;01mimport\u001b[39;00m \u001b[38;5;21;01mplotly\u001b[39;00m\u001b[38;5;21;01m.\u001b[39;00m\u001b[38;5;21;01mio\u001b[39;00m \u001b[38;5;28;01mas\u001b[39;00m \u001b[38;5;21;01mpio\u001b[39;00m\n\u001b[0;32m    831\u001b[0m \u001b[38;5;28;01mif\u001b[39;00m pio\u001b[38;5;241m.\u001b[39mrenderers\u001b[38;5;241m.\u001b[39mrender_on_display \u001b[38;5;129;01mand\u001b[39;00m pio\u001b[38;5;241m.\u001b[39mrenderers\u001b[38;5;241m.\u001b[39mdefault:\n\u001b[1;32m--> 832\u001b[0m     \u001b[43mpio\u001b[49m\u001b[38;5;241;43m.\u001b[39;49m\u001b[43mshow\u001b[49m\u001b[43m(\u001b[49m\u001b[38;5;28;43mself\u001b[39;49m\u001b[43m)\u001b[49m\n\u001b[0;32m    833\u001b[0m \u001b[38;5;28;01melse\u001b[39;00m:\n\u001b[0;32m    834\u001b[0m     \u001b[38;5;28mprint\u001b[39m(\u001b[38;5;28mrepr\u001b[39m(\u001b[38;5;28mself\u001b[39m))\n",
      "File \u001b[1;32mc:\\Users\\Shadow\\anaconda3\\envs\\mytorch\\lib\\site-packages\\plotly\\io\\_renderers.py:394\u001b[0m, in \u001b[0;36mshow\u001b[1;34m(fig, renderer, validate, **kwargs)\u001b[0m\n\u001b[0;32m    389\u001b[0m         \u001b[38;5;28;01mraise\u001b[39;00m \u001b[38;5;167;01mValueError\u001b[39;00m(\n\u001b[0;32m    390\u001b[0m             \u001b[38;5;124m\"\u001b[39m\u001b[38;5;124mMime type rendering requires ipython but it is not installed\u001b[39m\u001b[38;5;124m\"\u001b[39m\n\u001b[0;32m    391\u001b[0m         )\n\u001b[0;32m    393\u001b[0m     \u001b[38;5;28;01mif\u001b[39;00m \u001b[38;5;129;01mnot\u001b[39;00m nbformat \u001b[38;5;129;01mor\u001b[39;00m Version(nbformat\u001b[38;5;241m.\u001b[39m__version__) \u001b[38;5;241m<\u001b[39m Version(\u001b[38;5;124m\"\u001b[39m\u001b[38;5;124m4.2.0\u001b[39m\u001b[38;5;124m\"\u001b[39m):\n\u001b[1;32m--> 394\u001b[0m         \u001b[38;5;28;01mraise\u001b[39;00m \u001b[38;5;167;01mValueError\u001b[39;00m(\n\u001b[0;32m    395\u001b[0m             \u001b[38;5;124m\"\u001b[39m\u001b[38;5;124mMime type rendering requires nbformat>=4.2.0 but it is not installed\u001b[39m\u001b[38;5;124m\"\u001b[39m\n\u001b[0;32m    396\u001b[0m         )\n\u001b[0;32m    398\u001b[0m     ipython_display\u001b[38;5;241m.\u001b[39mdisplay(bundle, raw\u001b[38;5;241m=\u001b[39m\u001b[38;5;28;01mTrue\u001b[39;00m)\n\u001b[0;32m    400\u001b[0m \u001b[38;5;66;03m# external renderers\u001b[39;00m\n",
      "\u001b[1;31mValueError\u001b[0m: Mime type rendering requires nbformat>=4.2.0 but it is not installed"
     ]
    },
    {
     "data": {
      "application/vnd.plotly.v1+json": {
       "config": {
        "plotlyServerURL": "https://plot.ly"
       },
       "data": [
        {
         "hovertemplate": "label=B-NAME_STUDENT<br>range=%{x}<br>count=%{y}<extra></extra>",
         "legendgroup": "B-NAME_STUDENT",
         "marker": {
          "color": "#636efa",
          "symbol": "circle"
         },
         "mode": "markers",
         "name": "B-NAME_STUDENT",
         "orientation": "v",
         "showlegend": true,
         "type": "scatter",
         "x": [
          "0-50",
          "200-500",
          "500-1000",
          "1000-2000",
          "50-100",
          "100-200",
          "2000-10000"
         ],
         "xaxis": "x",
         "y": [
          793,
          163,
          283,
          57,
          31,
          33,
          5
         ],
         "yaxis": "y"
        },
        {
         "hovertemplate": "label=I-NAME_STUDENT<br>range=%{x}<br>count=%{y}<extra></extra>",
         "legendgroup": "I-NAME_STUDENT",
         "marker": {
          "color": "#EF553B",
          "symbol": "circle"
         },
         "mode": "markers",
         "name": "I-NAME_STUDENT",
         "orientation": "v",
         "showlegend": true,
         "type": "scatter",
         "x": [
          "0-50",
          "200-500",
          "500-1000",
          "1000-2000",
          "50-100",
          "100-200",
          "2000-10000"
         ],
         "xaxis": "x",
         "y": [
          752,
          86,
          190,
          41,
          16,
          6,
          5
         ],
         "yaxis": "y"
        },
        {
         "hovertemplate": "label=B-URL_PERSONAL<br>range=%{x}<br>count=%{y}<extra></extra>",
         "legendgroup": "B-URL_PERSONAL",
         "marker": {
          "color": "#00cc96",
          "symbol": "circle"
         },
         "mode": "markers",
         "name": "B-URL_PERSONAL",
         "orientation": "v",
         "showlegend": true,
         "type": "scatter",
         "x": [
          "500-1000",
          "0-50",
          "200-500",
          "1000-2000",
          "50-100",
          "2000-10000",
          "100-200"
         ],
         "xaxis": "x",
         "y": [
          32,
          15,
          31,
          15,
          10,
          1,
          6
         ],
         "yaxis": "y"
        },
        {
         "hovertemplate": "label=B-EMAIL<br>range=%{x}<br>count=%{y}<extra></extra>",
         "legendgroup": "B-EMAIL",
         "marker": {
          "color": "#ab63fa",
          "symbol": "circle"
         },
         "mode": "markers",
         "name": "B-EMAIL",
         "orientation": "v",
         "showlegend": true,
         "type": "scatter",
         "x": [
          "0-50",
          "50-100",
          "500-1000",
          "200-500"
         ],
         "xaxis": "x",
         "y": [
          21,
          3,
          6,
          9
         ],
         "yaxis": "y"
        },
        {
         "hovertemplate": "label=B-ID_NUM<br>range=%{x}<br>count=%{y}<extra></extra>",
         "legendgroup": "B-ID_NUM",
         "marker": {
          "color": "#FFA15A",
          "symbol": "circle"
         },
         "mode": "markers",
         "name": "B-ID_NUM",
         "orientation": "v",
         "showlegend": true,
         "type": "scatter",
         "x": [
          "0-50",
          "50-100",
          "500-1000",
          "200-500",
          "100-200"
         ],
         "xaxis": "x",
         "y": [
          37,
          10,
          12,
          17,
          2
         ],
         "yaxis": "y"
        },
        {
         "hovertemplate": "label=I-URL_PERSONAL<br>range=%{x}<br>count=%{y}<extra></extra>",
         "legendgroup": "I-URL_PERSONAL",
         "marker": {
          "color": "#19d3f3",
          "symbol": "circle"
         },
         "mode": "markers",
         "name": "I-URL_PERSONAL",
         "orientation": "v",
         "showlegend": true,
         "type": "scatter",
         "x": [
          "0-50"
         ],
         "xaxis": "x",
         "y": [
          1
         ],
         "yaxis": "y"
        },
        {
         "hovertemplate": "label=B-USERNAME<br>range=%{x}<br>count=%{y}<extra></extra>",
         "legendgroup": "B-USERNAME",
         "marker": {
          "color": "#FF6692",
          "symbol": "circle"
         },
         "mode": "markers",
         "name": "B-USERNAME",
         "orientation": "v",
         "showlegend": true,
         "type": "scatter",
         "x": [
          "50-100",
          "0-50",
          "500-1000"
         ],
         "xaxis": "x",
         "y": [
          1,
          3,
          2
         ],
         "yaxis": "y"
        },
        {
         "hovertemplate": "label=B-PHONE_NUM<br>range=%{x}<br>count=%{y}<extra></extra>",
         "legendgroup": "B-PHONE_NUM",
         "marker": {
          "color": "#B6E880",
          "symbol": "circle"
         },
         "mode": "markers",
         "name": "B-PHONE_NUM",
         "orientation": "v",
         "showlegend": true,
         "type": "scatter",
         "x": [
          "0-50",
          "200-500"
         ],
         "xaxis": "x",
         "y": [
          3,
          3
         ],
         "yaxis": "y"
        },
        {
         "hovertemplate": "label=I-PHONE_NUM<br>range=%{x}<br>count=%{y}<extra></extra>",
         "legendgroup": "I-PHONE_NUM",
         "marker": {
          "color": "#FF97FF",
          "symbol": "circle"
         },
         "mode": "markers",
         "name": "I-PHONE_NUM",
         "orientation": "v",
         "showlegend": true,
         "type": "scatter",
         "x": [
          "0-50",
          "200-500"
         ],
         "xaxis": "x",
         "y": [
          6,
          9
         ],
         "yaxis": "y"
        },
        {
         "hovertemplate": "label=B-STREET_ADDRESS<br>range=%{x}<br>count=%{y}<extra></extra>",
         "legendgroup": "B-STREET_ADDRESS",
         "marker": {
          "color": "#FECB52",
          "symbol": "circle"
         },
         "mode": "markers",
         "name": "B-STREET_ADDRESS",
         "orientation": "v",
         "showlegend": true,
         "type": "scatter",
         "x": [
          "0-50",
          "100-200"
         ],
         "xaxis": "x",
         "y": [
          1,
          1
         ],
         "yaxis": "y"
        },
        {
         "hovertemplate": "label=I-STREET_ADDRESS<br>range=%{x}<br>count=%{y}<extra></extra>",
         "legendgroup": "I-STREET_ADDRESS",
         "marker": {
          "color": "#636efa",
          "symbol": "circle"
         },
         "mode": "markers",
         "name": "I-STREET_ADDRESS",
         "orientation": "v",
         "showlegend": true,
         "type": "scatter",
         "x": [
          "0-50",
          "100-200"
         ],
         "xaxis": "x",
         "y": [
          10,
          10
         ],
         "yaxis": "y"
        },
        {
         "hovertemplate": "label=I-ID_NUM<br>range=%{x}<br>count=%{y}<extra></extra>",
         "legendgroup": "I-ID_NUM",
         "marker": {
          "color": "#EF553B",
          "symbol": "circle"
         },
         "mode": "markers",
         "name": "I-ID_NUM",
         "orientation": "v",
         "showlegend": true,
         "type": "scatter",
         "x": [
          "50-100"
         ],
         "xaxis": "x",
         "y": [
          1
         ],
         "yaxis": "y"
        }
       ],
       "layout": {
        "height": 1000,
        "legend": {
         "title": {
          "text": "label"
         },
         "tracegroupgap": 0
        },
        "margin": {
         "t": 60
        },
        "template": {
         "data": {
          "bar": [
           {
            "error_x": {
             "color": "#2a3f5f"
            },
            "error_y": {
             "color": "#2a3f5f"
            },
            "marker": {
             "line": {
              "color": "#E5ECF6",
              "width": 0.5
             },
             "pattern": {
              "fillmode": "overlay",
              "size": 10,
              "solidity": 0.2
             }
            },
            "type": "bar"
           }
          ],
          "barpolar": [
           {
            "marker": {
             "line": {
              "color": "#E5ECF6",
              "width": 0.5
             },
             "pattern": {
              "fillmode": "overlay",
              "size": 10,
              "solidity": 0.2
             }
            },
            "type": "barpolar"
           }
          ],
          "carpet": [
           {
            "aaxis": {
             "endlinecolor": "#2a3f5f",
             "gridcolor": "white",
             "linecolor": "white",
             "minorgridcolor": "white",
             "startlinecolor": "#2a3f5f"
            },
            "baxis": {
             "endlinecolor": "#2a3f5f",
             "gridcolor": "white",
             "linecolor": "white",
             "minorgridcolor": "white",
             "startlinecolor": "#2a3f5f"
            },
            "type": "carpet"
           }
          ],
          "choropleth": [
           {
            "colorbar": {
             "outlinewidth": 0,
             "ticks": ""
            },
            "type": "choropleth"
           }
          ],
          "contour": [
           {
            "colorbar": {
             "outlinewidth": 0,
             "ticks": ""
            },
            "colorscale": [
             [
              0,
              "#0d0887"
             ],
             [
              0.1111111111111111,
              "#46039f"
             ],
             [
              0.2222222222222222,
              "#7201a8"
             ],
             [
              0.3333333333333333,
              "#9c179e"
             ],
             [
              0.4444444444444444,
              "#bd3786"
             ],
             [
              0.5555555555555556,
              "#d8576b"
             ],
             [
              0.6666666666666666,
              "#ed7953"
             ],
             [
              0.7777777777777778,
              "#fb9f3a"
             ],
             [
              0.8888888888888888,
              "#fdca26"
             ],
             [
              1,
              "#f0f921"
             ]
            ],
            "type": "contour"
           }
          ],
          "contourcarpet": [
           {
            "colorbar": {
             "outlinewidth": 0,
             "ticks": ""
            },
            "type": "contourcarpet"
           }
          ],
          "heatmap": [
           {
            "colorbar": {
             "outlinewidth": 0,
             "ticks": ""
            },
            "colorscale": [
             [
              0,
              "#0d0887"
             ],
             [
              0.1111111111111111,
              "#46039f"
             ],
             [
              0.2222222222222222,
              "#7201a8"
             ],
             [
              0.3333333333333333,
              "#9c179e"
             ],
             [
              0.4444444444444444,
              "#bd3786"
             ],
             [
              0.5555555555555556,
              "#d8576b"
             ],
             [
              0.6666666666666666,
              "#ed7953"
             ],
             [
              0.7777777777777778,
              "#fb9f3a"
             ],
             [
              0.8888888888888888,
              "#fdca26"
             ],
             [
              1,
              "#f0f921"
             ]
            ],
            "type": "heatmap"
           }
          ],
          "heatmapgl": [
           {
            "colorbar": {
             "outlinewidth": 0,
             "ticks": ""
            },
            "colorscale": [
             [
              0,
              "#0d0887"
             ],
             [
              0.1111111111111111,
              "#46039f"
             ],
             [
              0.2222222222222222,
              "#7201a8"
             ],
             [
              0.3333333333333333,
              "#9c179e"
             ],
             [
              0.4444444444444444,
              "#bd3786"
             ],
             [
              0.5555555555555556,
              "#d8576b"
             ],
             [
              0.6666666666666666,
              "#ed7953"
             ],
             [
              0.7777777777777778,
              "#fb9f3a"
             ],
             [
              0.8888888888888888,
              "#fdca26"
             ],
             [
              1,
              "#f0f921"
             ]
            ],
            "type": "heatmapgl"
           }
          ],
          "histogram": [
           {
            "marker": {
             "pattern": {
              "fillmode": "overlay",
              "size": 10,
              "solidity": 0.2
             }
            },
            "type": "histogram"
           }
          ],
          "histogram2d": [
           {
            "colorbar": {
             "outlinewidth": 0,
             "ticks": ""
            },
            "colorscale": [
             [
              0,
              "#0d0887"
             ],
             [
              0.1111111111111111,
              "#46039f"
             ],
             [
              0.2222222222222222,
              "#7201a8"
             ],
             [
              0.3333333333333333,
              "#9c179e"
             ],
             [
              0.4444444444444444,
              "#bd3786"
             ],
             [
              0.5555555555555556,
              "#d8576b"
             ],
             [
              0.6666666666666666,
              "#ed7953"
             ],
             [
              0.7777777777777778,
              "#fb9f3a"
             ],
             [
              0.8888888888888888,
              "#fdca26"
             ],
             [
              1,
              "#f0f921"
             ]
            ],
            "type": "histogram2d"
           }
          ],
          "histogram2dcontour": [
           {
            "colorbar": {
             "outlinewidth": 0,
             "ticks": ""
            },
            "colorscale": [
             [
              0,
              "#0d0887"
             ],
             [
              0.1111111111111111,
              "#46039f"
             ],
             [
              0.2222222222222222,
              "#7201a8"
             ],
             [
              0.3333333333333333,
              "#9c179e"
             ],
             [
              0.4444444444444444,
              "#bd3786"
             ],
             [
              0.5555555555555556,
              "#d8576b"
             ],
             [
              0.6666666666666666,
              "#ed7953"
             ],
             [
              0.7777777777777778,
              "#fb9f3a"
             ],
             [
              0.8888888888888888,
              "#fdca26"
             ],
             [
              1,
              "#f0f921"
             ]
            ],
            "type": "histogram2dcontour"
           }
          ],
          "mesh3d": [
           {
            "colorbar": {
             "outlinewidth": 0,
             "ticks": ""
            },
            "type": "mesh3d"
           }
          ],
          "parcoords": [
           {
            "line": {
             "colorbar": {
              "outlinewidth": 0,
              "ticks": ""
             }
            },
            "type": "parcoords"
           }
          ],
          "pie": [
           {
            "automargin": true,
            "type": "pie"
           }
          ],
          "scatter": [
           {
            "fillpattern": {
             "fillmode": "overlay",
             "size": 10,
             "solidity": 0.2
            },
            "type": "scatter"
           }
          ],
          "scatter3d": [
           {
            "line": {
             "colorbar": {
              "outlinewidth": 0,
              "ticks": ""
             }
            },
            "marker": {
             "colorbar": {
              "outlinewidth": 0,
              "ticks": ""
             }
            },
            "type": "scatter3d"
           }
          ],
          "scattercarpet": [
           {
            "marker": {
             "colorbar": {
              "outlinewidth": 0,
              "ticks": ""
             }
            },
            "type": "scattercarpet"
           }
          ],
          "scattergeo": [
           {
            "marker": {
             "colorbar": {
              "outlinewidth": 0,
              "ticks": ""
             }
            },
            "type": "scattergeo"
           }
          ],
          "scattergl": [
           {
            "marker": {
             "colorbar": {
              "outlinewidth": 0,
              "ticks": ""
             }
            },
            "type": "scattergl"
           }
          ],
          "scattermapbox": [
           {
            "marker": {
             "colorbar": {
              "outlinewidth": 0,
              "ticks": ""
             }
            },
            "type": "scattermapbox"
           }
          ],
          "scatterpolar": [
           {
            "marker": {
             "colorbar": {
              "outlinewidth": 0,
              "ticks": ""
             }
            },
            "type": "scatterpolar"
           }
          ],
          "scatterpolargl": [
           {
            "marker": {
             "colorbar": {
              "outlinewidth": 0,
              "ticks": ""
             }
            },
            "type": "scatterpolargl"
           }
          ],
          "scatterternary": [
           {
            "marker": {
             "colorbar": {
              "outlinewidth": 0,
              "ticks": ""
             }
            },
            "type": "scatterternary"
           }
          ],
          "surface": [
           {
            "colorbar": {
             "outlinewidth": 0,
             "ticks": ""
            },
            "colorscale": [
             [
              0,
              "#0d0887"
             ],
             [
              0.1111111111111111,
              "#46039f"
             ],
             [
              0.2222222222222222,
              "#7201a8"
             ],
             [
              0.3333333333333333,
              "#9c179e"
             ],
             [
              0.4444444444444444,
              "#bd3786"
             ],
             [
              0.5555555555555556,
              "#d8576b"
             ],
             [
              0.6666666666666666,
              "#ed7953"
             ],
             [
              0.7777777777777778,
              "#fb9f3a"
             ],
             [
              0.8888888888888888,
              "#fdca26"
             ],
             [
              1,
              "#f0f921"
             ]
            ],
            "type": "surface"
           }
          ],
          "table": [
           {
            "cells": {
             "fill": {
              "color": "#EBF0F8"
             },
             "line": {
              "color": "white"
             }
            },
            "header": {
             "fill": {
              "color": "#C8D4E3"
             },
             "line": {
              "color": "white"
             }
            },
            "type": "table"
           }
          ]
         },
         "layout": {
          "annotationdefaults": {
           "arrowcolor": "#2a3f5f",
           "arrowhead": 0,
           "arrowwidth": 1
          },
          "autotypenumbers": "strict",
          "coloraxis": {
           "colorbar": {
            "outlinewidth": 0,
            "ticks": ""
           }
          },
          "colorscale": {
           "diverging": [
            [
             0,
             "#8e0152"
            ],
            [
             0.1,
             "#c51b7d"
            ],
            [
             0.2,
             "#de77ae"
            ],
            [
             0.3,
             "#f1b6da"
            ],
            [
             0.4,
             "#fde0ef"
            ],
            [
             0.5,
             "#f7f7f7"
            ],
            [
             0.6,
             "#e6f5d0"
            ],
            [
             0.7,
             "#b8e186"
            ],
            [
             0.8,
             "#7fbc41"
            ],
            [
             0.9,
             "#4d9221"
            ],
            [
             1,
             "#276419"
            ]
           ],
           "sequential": [
            [
             0,
             "#0d0887"
            ],
            [
             0.1111111111111111,
             "#46039f"
            ],
            [
             0.2222222222222222,
             "#7201a8"
            ],
            [
             0.3333333333333333,
             "#9c179e"
            ],
            [
             0.4444444444444444,
             "#bd3786"
            ],
            [
             0.5555555555555556,
             "#d8576b"
            ],
            [
             0.6666666666666666,
             "#ed7953"
            ],
            [
             0.7777777777777778,
             "#fb9f3a"
            ],
            [
             0.8888888888888888,
             "#fdca26"
            ],
            [
             1,
             "#f0f921"
            ]
           ],
           "sequentialminus": [
            [
             0,
             "#0d0887"
            ],
            [
             0.1111111111111111,
             "#46039f"
            ],
            [
             0.2222222222222222,
             "#7201a8"
            ],
            [
             0.3333333333333333,
             "#9c179e"
            ],
            [
             0.4444444444444444,
             "#bd3786"
            ],
            [
             0.5555555555555556,
             "#d8576b"
            ],
            [
             0.6666666666666666,
             "#ed7953"
            ],
            [
             0.7777777777777778,
             "#fb9f3a"
            ],
            [
             0.8888888888888888,
             "#fdca26"
            ],
            [
             1,
             "#f0f921"
            ]
           ]
          },
          "colorway": [
           "#636efa",
           "#EF553B",
           "#00cc96",
           "#ab63fa",
           "#FFA15A",
           "#19d3f3",
           "#FF6692",
           "#B6E880",
           "#FF97FF",
           "#FECB52"
          ],
          "font": {
           "color": "#2a3f5f"
          },
          "geo": {
           "bgcolor": "white",
           "lakecolor": "white",
           "landcolor": "#E5ECF6",
           "showlakes": true,
           "showland": true,
           "subunitcolor": "white"
          },
          "hoverlabel": {
           "align": "left"
          },
          "hovermode": "closest",
          "mapbox": {
           "style": "light"
          },
          "paper_bgcolor": "white",
          "plot_bgcolor": "#E5ECF6",
          "polar": {
           "angularaxis": {
            "gridcolor": "white",
            "linecolor": "white",
            "ticks": ""
           },
           "bgcolor": "#E5ECF6",
           "radialaxis": {
            "gridcolor": "white",
            "linecolor": "white",
            "ticks": ""
           }
          },
          "scene": {
           "xaxis": {
            "backgroundcolor": "#E5ECF6",
            "gridcolor": "white",
            "gridwidth": 2,
            "linecolor": "white",
            "showbackground": true,
            "ticks": "",
            "zerolinecolor": "white"
           },
           "yaxis": {
            "backgroundcolor": "#E5ECF6",
            "gridcolor": "white",
            "gridwidth": 2,
            "linecolor": "white",
            "showbackground": true,
            "ticks": "",
            "zerolinecolor": "white"
           },
           "zaxis": {
            "backgroundcolor": "#E5ECF6",
            "gridcolor": "white",
            "gridwidth": 2,
            "linecolor": "white",
            "showbackground": true,
            "ticks": "",
            "zerolinecolor": "white"
           }
          },
          "shapedefaults": {
           "line": {
            "color": "#2a3f5f"
           }
          },
          "ternary": {
           "aaxis": {
            "gridcolor": "white",
            "linecolor": "white",
            "ticks": ""
           },
           "baxis": {
            "gridcolor": "white",
            "linecolor": "white",
            "ticks": ""
           },
           "bgcolor": "#E5ECF6",
           "caxis": {
            "gridcolor": "white",
            "linecolor": "white",
            "ticks": ""
           }
          },
          "title": {
           "x": 0.05
          },
          "xaxis": {
           "automargin": true,
           "gridcolor": "white",
           "linecolor": "white",
           "ticks": "",
           "title": {
            "standoff": 15
           },
           "zerolinecolor": "white",
           "zerolinewidth": 2
          },
          "yaxis": {
           "automargin": true,
           "gridcolor": "white",
           "linecolor": "white",
           "ticks": "",
           "title": {
            "standoff": 15
           },
           "zerolinecolor": "white",
           "zerolinewidth": 2
          }
         }
        },
        "xaxis": {
         "anchor": "y",
         "domain": [
          0,
          1
         ],
         "title": {
          "text": "range"
         }
        },
        "yaxis": {
         "anchor": "x",
         "domain": [
          0,
          1
         ],
         "title": {
          "text": "count"
         },
         "type": "log"
        }
       }
      },
      "text/html": [
       "<div>                        <script type=\"text/javascript\">window.PlotlyConfig = {MathJaxConfig: 'local'};</script>\n",
       "        <script charset=\"utf-8\" src=\"https://cdn.plot.ly/plotly-2.27.0.min.js\"></script>                <div id=\"476b7646-0c7d-4182-be42-b9f2d2d56b09\" class=\"plotly-graph-div\" style=\"height:1000px; width:100%;\"></div>            <script type=\"text/javascript\">                                    window.PLOTLYENV=window.PLOTLYENV || {};                                    if (document.getElementById(\"476b7646-0c7d-4182-be42-b9f2d2d56b09\")) {                    Plotly.newPlot(                        \"476b7646-0c7d-4182-be42-b9f2d2d56b09\",                        [{\"hovertemplate\":\"label=B-NAME_STUDENT\\u003cbr\\u003erange=%{x}\\u003cbr\\u003ecount=%{y}\\u003cextra\\u003e\\u003c\\u002fextra\\u003e\",\"legendgroup\":\"B-NAME_STUDENT\",\"marker\":{\"color\":\"#636efa\",\"symbol\":\"circle\"},\"mode\":\"markers\",\"name\":\"B-NAME_STUDENT\",\"orientation\":\"v\",\"showlegend\":true,\"x\":[\"0-50\",\"200-500\",\"500-1000\",\"1000-2000\",\"50-100\",\"100-200\",\"2000-10000\"],\"xaxis\":\"x\",\"y\":[793,163,283,57,31,33,5],\"yaxis\":\"y\",\"type\":\"scatter\"},{\"hovertemplate\":\"label=I-NAME_STUDENT\\u003cbr\\u003erange=%{x}\\u003cbr\\u003ecount=%{y}\\u003cextra\\u003e\\u003c\\u002fextra\\u003e\",\"legendgroup\":\"I-NAME_STUDENT\",\"marker\":{\"color\":\"#EF553B\",\"symbol\":\"circle\"},\"mode\":\"markers\",\"name\":\"I-NAME_STUDENT\",\"orientation\":\"v\",\"showlegend\":true,\"x\":[\"0-50\",\"200-500\",\"500-1000\",\"1000-2000\",\"50-100\",\"100-200\",\"2000-10000\"],\"xaxis\":\"x\",\"y\":[752,86,190,41,16,6,5],\"yaxis\":\"y\",\"type\":\"scatter\"},{\"hovertemplate\":\"label=B-URL_PERSONAL\\u003cbr\\u003erange=%{x}\\u003cbr\\u003ecount=%{y}\\u003cextra\\u003e\\u003c\\u002fextra\\u003e\",\"legendgroup\":\"B-URL_PERSONAL\",\"marker\":{\"color\":\"#00cc96\",\"symbol\":\"circle\"},\"mode\":\"markers\",\"name\":\"B-URL_PERSONAL\",\"orientation\":\"v\",\"showlegend\":true,\"x\":[\"500-1000\",\"0-50\",\"200-500\",\"1000-2000\",\"50-100\",\"2000-10000\",\"100-200\"],\"xaxis\":\"x\",\"y\":[32,15,31,15,10,1,6],\"yaxis\":\"y\",\"type\":\"scatter\"},{\"hovertemplate\":\"label=B-EMAIL\\u003cbr\\u003erange=%{x}\\u003cbr\\u003ecount=%{y}\\u003cextra\\u003e\\u003c\\u002fextra\\u003e\",\"legendgroup\":\"B-EMAIL\",\"marker\":{\"color\":\"#ab63fa\",\"symbol\":\"circle\"},\"mode\":\"markers\",\"name\":\"B-EMAIL\",\"orientation\":\"v\",\"showlegend\":true,\"x\":[\"0-50\",\"50-100\",\"500-1000\",\"200-500\"],\"xaxis\":\"x\",\"y\":[21,3,6,9],\"yaxis\":\"y\",\"type\":\"scatter\"},{\"hovertemplate\":\"label=B-ID_NUM\\u003cbr\\u003erange=%{x}\\u003cbr\\u003ecount=%{y}\\u003cextra\\u003e\\u003c\\u002fextra\\u003e\",\"legendgroup\":\"B-ID_NUM\",\"marker\":{\"color\":\"#FFA15A\",\"symbol\":\"circle\"},\"mode\":\"markers\",\"name\":\"B-ID_NUM\",\"orientation\":\"v\",\"showlegend\":true,\"x\":[\"0-50\",\"50-100\",\"500-1000\",\"200-500\",\"100-200\"],\"xaxis\":\"x\",\"y\":[37,10,12,17,2],\"yaxis\":\"y\",\"type\":\"scatter\"},{\"hovertemplate\":\"label=I-URL_PERSONAL\\u003cbr\\u003erange=%{x}\\u003cbr\\u003ecount=%{y}\\u003cextra\\u003e\\u003c\\u002fextra\\u003e\",\"legendgroup\":\"I-URL_PERSONAL\",\"marker\":{\"color\":\"#19d3f3\",\"symbol\":\"circle\"},\"mode\":\"markers\",\"name\":\"I-URL_PERSONAL\",\"orientation\":\"v\",\"showlegend\":true,\"x\":[\"0-50\"],\"xaxis\":\"x\",\"y\":[1],\"yaxis\":\"y\",\"type\":\"scatter\"},{\"hovertemplate\":\"label=B-USERNAME\\u003cbr\\u003erange=%{x}\\u003cbr\\u003ecount=%{y}\\u003cextra\\u003e\\u003c\\u002fextra\\u003e\",\"legendgroup\":\"B-USERNAME\",\"marker\":{\"color\":\"#FF6692\",\"symbol\":\"circle\"},\"mode\":\"markers\",\"name\":\"B-USERNAME\",\"orientation\":\"v\",\"showlegend\":true,\"x\":[\"50-100\",\"0-50\",\"500-1000\"],\"xaxis\":\"x\",\"y\":[1,3,2],\"yaxis\":\"y\",\"type\":\"scatter\"},{\"hovertemplate\":\"label=B-PHONE_NUM\\u003cbr\\u003erange=%{x}\\u003cbr\\u003ecount=%{y}\\u003cextra\\u003e\\u003c\\u002fextra\\u003e\",\"legendgroup\":\"B-PHONE_NUM\",\"marker\":{\"color\":\"#B6E880\",\"symbol\":\"circle\"},\"mode\":\"markers\",\"name\":\"B-PHONE_NUM\",\"orientation\":\"v\",\"showlegend\":true,\"x\":[\"0-50\",\"200-500\"],\"xaxis\":\"x\",\"y\":[3,3],\"yaxis\":\"y\",\"type\":\"scatter\"},{\"hovertemplate\":\"label=I-PHONE_NUM\\u003cbr\\u003erange=%{x}\\u003cbr\\u003ecount=%{y}\\u003cextra\\u003e\\u003c\\u002fextra\\u003e\",\"legendgroup\":\"I-PHONE_NUM\",\"marker\":{\"color\":\"#FF97FF\",\"symbol\":\"circle\"},\"mode\":\"markers\",\"name\":\"I-PHONE_NUM\",\"orientation\":\"v\",\"showlegend\":true,\"x\":[\"0-50\",\"200-500\"],\"xaxis\":\"x\",\"y\":[6,9],\"yaxis\":\"y\",\"type\":\"scatter\"},{\"hovertemplate\":\"label=B-STREET_ADDRESS\\u003cbr\\u003erange=%{x}\\u003cbr\\u003ecount=%{y}\\u003cextra\\u003e\\u003c\\u002fextra\\u003e\",\"legendgroup\":\"B-STREET_ADDRESS\",\"marker\":{\"color\":\"#FECB52\",\"symbol\":\"circle\"},\"mode\":\"markers\",\"name\":\"B-STREET_ADDRESS\",\"orientation\":\"v\",\"showlegend\":true,\"x\":[\"0-50\",\"100-200\"],\"xaxis\":\"x\",\"y\":[1,1],\"yaxis\":\"y\",\"type\":\"scatter\"},{\"hovertemplate\":\"label=I-STREET_ADDRESS\\u003cbr\\u003erange=%{x}\\u003cbr\\u003ecount=%{y}\\u003cextra\\u003e\\u003c\\u002fextra\\u003e\",\"legendgroup\":\"I-STREET_ADDRESS\",\"marker\":{\"color\":\"#636efa\",\"symbol\":\"circle\"},\"mode\":\"markers\",\"name\":\"I-STREET_ADDRESS\",\"orientation\":\"v\",\"showlegend\":true,\"x\":[\"0-50\",\"100-200\"],\"xaxis\":\"x\",\"y\":[10,10],\"yaxis\":\"y\",\"type\":\"scatter\"},{\"hovertemplate\":\"label=I-ID_NUM\\u003cbr\\u003erange=%{x}\\u003cbr\\u003ecount=%{y}\\u003cextra\\u003e\\u003c\\u002fextra\\u003e\",\"legendgroup\":\"I-ID_NUM\",\"marker\":{\"color\":\"#EF553B\",\"symbol\":\"circle\"},\"mode\":\"markers\",\"name\":\"I-ID_NUM\",\"orientation\":\"v\",\"showlegend\":true,\"x\":[\"50-100\"],\"xaxis\":\"x\",\"y\":[1],\"yaxis\":\"y\",\"type\":\"scatter\"}],                        {\"template\":{\"data\":{\"histogram2dcontour\":[{\"type\":\"histogram2dcontour\",\"colorbar\":{\"outlinewidth\":0,\"ticks\":\"\"},\"colorscale\":[[0.0,\"#0d0887\"],[0.1111111111111111,\"#46039f\"],[0.2222222222222222,\"#7201a8\"],[0.3333333333333333,\"#9c179e\"],[0.4444444444444444,\"#bd3786\"],[0.5555555555555556,\"#d8576b\"],[0.6666666666666666,\"#ed7953\"],[0.7777777777777778,\"#fb9f3a\"],[0.8888888888888888,\"#fdca26\"],[1.0,\"#f0f921\"]]}],\"choropleth\":[{\"type\":\"choropleth\",\"colorbar\":{\"outlinewidth\":0,\"ticks\":\"\"}}],\"histogram2d\":[{\"type\":\"histogram2d\",\"colorbar\":{\"outlinewidth\":0,\"ticks\":\"\"},\"colorscale\":[[0.0,\"#0d0887\"],[0.1111111111111111,\"#46039f\"],[0.2222222222222222,\"#7201a8\"],[0.3333333333333333,\"#9c179e\"],[0.4444444444444444,\"#bd3786\"],[0.5555555555555556,\"#d8576b\"],[0.6666666666666666,\"#ed7953\"],[0.7777777777777778,\"#fb9f3a\"],[0.8888888888888888,\"#fdca26\"],[1.0,\"#f0f921\"]]}],\"heatmap\":[{\"type\":\"heatmap\",\"colorbar\":{\"outlinewidth\":0,\"ticks\":\"\"},\"colorscale\":[[0.0,\"#0d0887\"],[0.1111111111111111,\"#46039f\"],[0.2222222222222222,\"#7201a8\"],[0.3333333333333333,\"#9c179e\"],[0.4444444444444444,\"#bd3786\"],[0.5555555555555556,\"#d8576b\"],[0.6666666666666666,\"#ed7953\"],[0.7777777777777778,\"#fb9f3a\"],[0.8888888888888888,\"#fdca26\"],[1.0,\"#f0f921\"]]}],\"heatmapgl\":[{\"type\":\"heatmapgl\",\"colorbar\":{\"outlinewidth\":0,\"ticks\":\"\"},\"colorscale\":[[0.0,\"#0d0887\"],[0.1111111111111111,\"#46039f\"],[0.2222222222222222,\"#7201a8\"],[0.3333333333333333,\"#9c179e\"],[0.4444444444444444,\"#bd3786\"],[0.5555555555555556,\"#d8576b\"],[0.6666666666666666,\"#ed7953\"],[0.7777777777777778,\"#fb9f3a\"],[0.8888888888888888,\"#fdca26\"],[1.0,\"#f0f921\"]]}],\"contourcarpet\":[{\"type\":\"contourcarpet\",\"colorbar\":{\"outlinewidth\":0,\"ticks\":\"\"}}],\"contour\":[{\"type\":\"contour\",\"colorbar\":{\"outlinewidth\":0,\"ticks\":\"\"},\"colorscale\":[[0.0,\"#0d0887\"],[0.1111111111111111,\"#46039f\"],[0.2222222222222222,\"#7201a8\"],[0.3333333333333333,\"#9c179e\"],[0.4444444444444444,\"#bd3786\"],[0.5555555555555556,\"#d8576b\"],[0.6666666666666666,\"#ed7953\"],[0.7777777777777778,\"#fb9f3a\"],[0.8888888888888888,\"#fdca26\"],[1.0,\"#f0f921\"]]}],\"surface\":[{\"type\":\"surface\",\"colorbar\":{\"outlinewidth\":0,\"ticks\":\"\"},\"colorscale\":[[0.0,\"#0d0887\"],[0.1111111111111111,\"#46039f\"],[0.2222222222222222,\"#7201a8\"],[0.3333333333333333,\"#9c179e\"],[0.4444444444444444,\"#bd3786\"],[0.5555555555555556,\"#d8576b\"],[0.6666666666666666,\"#ed7953\"],[0.7777777777777778,\"#fb9f3a\"],[0.8888888888888888,\"#fdca26\"],[1.0,\"#f0f921\"]]}],\"mesh3d\":[{\"type\":\"mesh3d\",\"colorbar\":{\"outlinewidth\":0,\"ticks\":\"\"}}],\"scatter\":[{\"fillpattern\":{\"fillmode\":\"overlay\",\"size\":10,\"solidity\":0.2},\"type\":\"scatter\"}],\"parcoords\":[{\"type\":\"parcoords\",\"line\":{\"colorbar\":{\"outlinewidth\":0,\"ticks\":\"\"}}}],\"scatterpolargl\":[{\"type\":\"scatterpolargl\",\"marker\":{\"colorbar\":{\"outlinewidth\":0,\"ticks\":\"\"}}}],\"bar\":[{\"error_x\":{\"color\":\"#2a3f5f\"},\"error_y\":{\"color\":\"#2a3f5f\"},\"marker\":{\"line\":{\"color\":\"#E5ECF6\",\"width\":0.5},\"pattern\":{\"fillmode\":\"overlay\",\"size\":10,\"solidity\":0.2}},\"type\":\"bar\"}],\"scattergeo\":[{\"type\":\"scattergeo\",\"marker\":{\"colorbar\":{\"outlinewidth\":0,\"ticks\":\"\"}}}],\"scatterpolar\":[{\"type\":\"scatterpolar\",\"marker\":{\"colorbar\":{\"outlinewidth\":0,\"ticks\":\"\"}}}],\"histogram\":[{\"marker\":{\"pattern\":{\"fillmode\":\"overlay\",\"size\":10,\"solidity\":0.2}},\"type\":\"histogram\"}],\"scattergl\":[{\"type\":\"scattergl\",\"marker\":{\"colorbar\":{\"outlinewidth\":0,\"ticks\":\"\"}}}],\"scatter3d\":[{\"type\":\"scatter3d\",\"line\":{\"colorbar\":{\"outlinewidth\":0,\"ticks\":\"\"}},\"marker\":{\"colorbar\":{\"outlinewidth\":0,\"ticks\":\"\"}}}],\"scattermapbox\":[{\"type\":\"scattermapbox\",\"marker\":{\"colorbar\":{\"outlinewidth\":0,\"ticks\":\"\"}}}],\"scatterternary\":[{\"type\":\"scatterternary\",\"marker\":{\"colorbar\":{\"outlinewidth\":0,\"ticks\":\"\"}}}],\"scattercarpet\":[{\"type\":\"scattercarpet\",\"marker\":{\"colorbar\":{\"outlinewidth\":0,\"ticks\":\"\"}}}],\"carpet\":[{\"aaxis\":{\"endlinecolor\":\"#2a3f5f\",\"gridcolor\":\"white\",\"linecolor\":\"white\",\"minorgridcolor\":\"white\",\"startlinecolor\":\"#2a3f5f\"},\"baxis\":{\"endlinecolor\":\"#2a3f5f\",\"gridcolor\":\"white\",\"linecolor\":\"white\",\"minorgridcolor\":\"white\",\"startlinecolor\":\"#2a3f5f\"},\"type\":\"carpet\"}],\"table\":[{\"cells\":{\"fill\":{\"color\":\"#EBF0F8\"},\"line\":{\"color\":\"white\"}},\"header\":{\"fill\":{\"color\":\"#C8D4E3\"},\"line\":{\"color\":\"white\"}},\"type\":\"table\"}],\"barpolar\":[{\"marker\":{\"line\":{\"color\":\"#E5ECF6\",\"width\":0.5},\"pattern\":{\"fillmode\":\"overlay\",\"size\":10,\"solidity\":0.2}},\"type\":\"barpolar\"}],\"pie\":[{\"automargin\":true,\"type\":\"pie\"}]},\"layout\":{\"autotypenumbers\":\"strict\",\"colorway\":[\"#636efa\",\"#EF553B\",\"#00cc96\",\"#ab63fa\",\"#FFA15A\",\"#19d3f3\",\"#FF6692\",\"#B6E880\",\"#FF97FF\",\"#FECB52\"],\"font\":{\"color\":\"#2a3f5f\"},\"hovermode\":\"closest\",\"hoverlabel\":{\"align\":\"left\"},\"paper_bgcolor\":\"white\",\"plot_bgcolor\":\"#E5ECF6\",\"polar\":{\"bgcolor\":\"#E5ECF6\",\"angularaxis\":{\"gridcolor\":\"white\",\"linecolor\":\"white\",\"ticks\":\"\"},\"radialaxis\":{\"gridcolor\":\"white\",\"linecolor\":\"white\",\"ticks\":\"\"}},\"ternary\":{\"bgcolor\":\"#E5ECF6\",\"aaxis\":{\"gridcolor\":\"white\",\"linecolor\":\"white\",\"ticks\":\"\"},\"baxis\":{\"gridcolor\":\"white\",\"linecolor\":\"white\",\"ticks\":\"\"},\"caxis\":{\"gridcolor\":\"white\",\"linecolor\":\"white\",\"ticks\":\"\"}},\"coloraxis\":{\"colorbar\":{\"outlinewidth\":0,\"ticks\":\"\"}},\"colorscale\":{\"sequential\":[[0.0,\"#0d0887\"],[0.1111111111111111,\"#46039f\"],[0.2222222222222222,\"#7201a8\"],[0.3333333333333333,\"#9c179e\"],[0.4444444444444444,\"#bd3786\"],[0.5555555555555556,\"#d8576b\"],[0.6666666666666666,\"#ed7953\"],[0.7777777777777778,\"#fb9f3a\"],[0.8888888888888888,\"#fdca26\"],[1.0,\"#f0f921\"]],\"sequentialminus\":[[0.0,\"#0d0887\"],[0.1111111111111111,\"#46039f\"],[0.2222222222222222,\"#7201a8\"],[0.3333333333333333,\"#9c179e\"],[0.4444444444444444,\"#bd3786\"],[0.5555555555555556,\"#d8576b\"],[0.6666666666666666,\"#ed7953\"],[0.7777777777777778,\"#fb9f3a\"],[0.8888888888888888,\"#fdca26\"],[1.0,\"#f0f921\"]],\"diverging\":[[0,\"#8e0152\"],[0.1,\"#c51b7d\"],[0.2,\"#de77ae\"],[0.3,\"#f1b6da\"],[0.4,\"#fde0ef\"],[0.5,\"#f7f7f7\"],[0.6,\"#e6f5d0\"],[0.7,\"#b8e186\"],[0.8,\"#7fbc41\"],[0.9,\"#4d9221\"],[1,\"#276419\"]]},\"xaxis\":{\"gridcolor\":\"white\",\"linecolor\":\"white\",\"ticks\":\"\",\"title\":{\"standoff\":15},\"zerolinecolor\":\"white\",\"automargin\":true,\"zerolinewidth\":2},\"yaxis\":{\"gridcolor\":\"white\",\"linecolor\":\"white\",\"ticks\":\"\",\"title\":{\"standoff\":15},\"zerolinecolor\":\"white\",\"automargin\":true,\"zerolinewidth\":2},\"scene\":{\"xaxis\":{\"backgroundcolor\":\"#E5ECF6\",\"gridcolor\":\"white\",\"linecolor\":\"white\",\"showbackground\":true,\"ticks\":\"\",\"zerolinecolor\":\"white\",\"gridwidth\":2},\"yaxis\":{\"backgroundcolor\":\"#E5ECF6\",\"gridcolor\":\"white\",\"linecolor\":\"white\",\"showbackground\":true,\"ticks\":\"\",\"zerolinecolor\":\"white\",\"gridwidth\":2},\"zaxis\":{\"backgroundcolor\":\"#E5ECF6\",\"gridcolor\":\"white\",\"linecolor\":\"white\",\"showbackground\":true,\"ticks\":\"\",\"zerolinecolor\":\"white\",\"gridwidth\":2}},\"shapedefaults\":{\"line\":{\"color\":\"#2a3f5f\"}},\"annotationdefaults\":{\"arrowcolor\":\"#2a3f5f\",\"arrowhead\":0,\"arrowwidth\":1},\"geo\":{\"bgcolor\":\"white\",\"landcolor\":\"#E5ECF6\",\"subunitcolor\":\"white\",\"showland\":true,\"showlakes\":true,\"lakecolor\":\"white\"},\"title\":{\"x\":0.05},\"mapbox\":{\"style\":\"light\"}}},\"xaxis\":{\"anchor\":\"y\",\"domain\":[0.0,1.0],\"title\":{\"text\":\"range\"}},\"yaxis\":{\"anchor\":\"x\",\"domain\":[0.0,1.0],\"title\":{\"text\":\"count\"},\"type\":\"log\"},\"legend\":{\"title\":{\"text\":\"label\"},\"tracegroupgap\":0},\"margin\":{\"t\":60},\"height\":1000},                        {\"responsive\": true}                    )                };                            </script>        </div>"
      ],
      "text/plain": [
       "Figure({\n",
       "    'data': [{'hovertemplate': 'label=B-NAME_STUDENT<br>range=%{x}<br>count=%{y}<extra></extra>',\n",
       "              'legendgroup': 'B-NAME_STUDENT',\n",
       "              'marker': {'color': '#636efa', 'symbol': 'circle'},\n",
       "              'mode': 'markers',\n",
       "              'name': 'B-NAME_STUDENT',\n",
       "              'orientation': 'v',\n",
       "              'showlegend': True,\n",
       "              'type': 'scatter',\n",
       "              'x': array(['0-50', '200-500', '500-1000', '1000-2000', '50-100', '100-200',\n",
       "                          '2000-10000'], dtype=object),\n",
       "              'xaxis': 'x',\n",
       "              'y': array([793, 163, 283,  57,  31,  33,   5], dtype=int64),\n",
       "              'yaxis': 'y'},\n",
       "             {'hovertemplate': 'label=I-NAME_STUDENT<br>range=%{x}<br>count=%{y}<extra></extra>',\n",
       "              'legendgroup': 'I-NAME_STUDENT',\n",
       "              'marker': {'color': '#EF553B', 'symbol': 'circle'},\n",
       "              'mode': 'markers',\n",
       "              'name': 'I-NAME_STUDENT',\n",
       "              'orientation': 'v',\n",
       "              'showlegend': True,\n",
       "              'type': 'scatter',\n",
       "              'x': array(['0-50', '200-500', '500-1000', '1000-2000', '50-100', '100-200',\n",
       "                          '2000-10000'], dtype=object),\n",
       "              'xaxis': 'x',\n",
       "              'y': array([752,  86, 190,  41,  16,   6,   5], dtype=int64),\n",
       "              'yaxis': 'y'},\n",
       "             {'hovertemplate': 'label=B-URL_PERSONAL<br>range=%{x}<br>count=%{y}<extra></extra>',\n",
       "              'legendgroup': 'B-URL_PERSONAL',\n",
       "              'marker': {'color': '#00cc96', 'symbol': 'circle'},\n",
       "              'mode': 'markers',\n",
       "              'name': 'B-URL_PERSONAL',\n",
       "              'orientation': 'v',\n",
       "              'showlegend': True,\n",
       "              'type': 'scatter',\n",
       "              'x': array(['500-1000', '0-50', '200-500', '1000-2000', '50-100', '2000-10000',\n",
       "                          '100-200'], dtype=object),\n",
       "              'xaxis': 'x',\n",
       "              'y': array([32, 15, 31, 15, 10,  1,  6], dtype=int64),\n",
       "              'yaxis': 'y'},\n",
       "             {'hovertemplate': 'label=B-EMAIL<br>range=%{x}<br>count=%{y}<extra></extra>',\n",
       "              'legendgroup': 'B-EMAIL',\n",
       "              'marker': {'color': '#ab63fa', 'symbol': 'circle'},\n",
       "              'mode': 'markers',\n",
       "              'name': 'B-EMAIL',\n",
       "              'orientation': 'v',\n",
       "              'showlegend': True,\n",
       "              'type': 'scatter',\n",
       "              'x': array(['0-50', '50-100', '500-1000', '200-500'], dtype=object),\n",
       "              'xaxis': 'x',\n",
       "              'y': array([21,  3,  6,  9], dtype=int64),\n",
       "              'yaxis': 'y'},\n",
       "             {'hovertemplate': 'label=B-ID_NUM<br>range=%{x}<br>count=%{y}<extra></extra>',\n",
       "              'legendgroup': 'B-ID_NUM',\n",
       "              'marker': {'color': '#FFA15A', 'symbol': 'circle'},\n",
       "              'mode': 'markers',\n",
       "              'name': 'B-ID_NUM',\n",
       "              'orientation': 'v',\n",
       "              'showlegend': True,\n",
       "              'type': 'scatter',\n",
       "              'x': array(['0-50', '50-100', '500-1000', '200-500', '100-200'], dtype=object),\n",
       "              'xaxis': 'x',\n",
       "              'y': array([37, 10, 12, 17,  2], dtype=int64),\n",
       "              'yaxis': 'y'},\n",
       "             {'hovertemplate': 'label=I-URL_PERSONAL<br>range=%{x}<br>count=%{y}<extra></extra>',\n",
       "              'legendgroup': 'I-URL_PERSONAL',\n",
       "              'marker': {'color': '#19d3f3', 'symbol': 'circle'},\n",
       "              'mode': 'markers',\n",
       "              'name': 'I-URL_PERSONAL',\n",
       "              'orientation': 'v',\n",
       "              'showlegend': True,\n",
       "              'type': 'scatter',\n",
       "              'x': array(['0-50'], dtype=object),\n",
       "              'xaxis': 'x',\n",
       "              'y': array([1], dtype=int64),\n",
       "              'yaxis': 'y'},\n",
       "             {'hovertemplate': 'label=B-USERNAME<br>range=%{x}<br>count=%{y}<extra></extra>',\n",
       "              'legendgroup': 'B-USERNAME',\n",
       "              'marker': {'color': '#FF6692', 'symbol': 'circle'},\n",
       "              'mode': 'markers',\n",
       "              'name': 'B-USERNAME',\n",
       "              'orientation': 'v',\n",
       "              'showlegend': True,\n",
       "              'type': 'scatter',\n",
       "              'x': array(['50-100', '0-50', '500-1000'], dtype=object),\n",
       "              'xaxis': 'x',\n",
       "              'y': array([1, 3, 2], dtype=int64),\n",
       "              'yaxis': 'y'},\n",
       "             {'hovertemplate': 'label=B-PHONE_NUM<br>range=%{x}<br>count=%{y}<extra></extra>',\n",
       "              'legendgroup': 'B-PHONE_NUM',\n",
       "              'marker': {'color': '#B6E880', 'symbol': 'circle'},\n",
       "              'mode': 'markers',\n",
       "              'name': 'B-PHONE_NUM',\n",
       "              'orientation': 'v',\n",
       "              'showlegend': True,\n",
       "              'type': 'scatter',\n",
       "              'x': array(['0-50', '200-500'], dtype=object),\n",
       "              'xaxis': 'x',\n",
       "              'y': array([3, 3], dtype=int64),\n",
       "              'yaxis': 'y'},\n",
       "             {'hovertemplate': 'label=I-PHONE_NUM<br>range=%{x}<br>count=%{y}<extra></extra>',\n",
       "              'legendgroup': 'I-PHONE_NUM',\n",
       "              'marker': {'color': '#FF97FF', 'symbol': 'circle'},\n",
       "              'mode': 'markers',\n",
       "              'name': 'I-PHONE_NUM',\n",
       "              'orientation': 'v',\n",
       "              'showlegend': True,\n",
       "              'type': 'scatter',\n",
       "              'x': array(['0-50', '200-500'], dtype=object),\n",
       "              'xaxis': 'x',\n",
       "              'y': array([6, 9], dtype=int64),\n",
       "              'yaxis': 'y'},\n",
       "             {'hovertemplate': 'label=B-STREET_ADDRESS<br>range=%{x}<br>count=%{y}<extra></extra>',\n",
       "              'legendgroup': 'B-STREET_ADDRESS',\n",
       "              'marker': {'color': '#FECB52', 'symbol': 'circle'},\n",
       "              'mode': 'markers',\n",
       "              'name': 'B-STREET_ADDRESS',\n",
       "              'orientation': 'v',\n",
       "              'showlegend': True,\n",
       "              'type': 'scatter',\n",
       "              'x': array(['0-50', '100-200'], dtype=object),\n",
       "              'xaxis': 'x',\n",
       "              'y': array([1, 1], dtype=int64),\n",
       "              'yaxis': 'y'},\n",
       "             {'hovertemplate': 'label=I-STREET_ADDRESS<br>range=%{x}<br>count=%{y}<extra></extra>',\n",
       "              'legendgroup': 'I-STREET_ADDRESS',\n",
       "              'marker': {'color': '#636efa', 'symbol': 'circle'},\n",
       "              'mode': 'markers',\n",
       "              'name': 'I-STREET_ADDRESS',\n",
       "              'orientation': 'v',\n",
       "              'showlegend': True,\n",
       "              'type': 'scatter',\n",
       "              'x': array(['0-50', '100-200'], dtype=object),\n",
       "              'xaxis': 'x',\n",
       "              'y': array([10, 10], dtype=int64),\n",
       "              'yaxis': 'y'},\n",
       "             {'hovertemplate': 'label=I-ID_NUM<br>range=%{x}<br>count=%{y}<extra></extra>',\n",
       "              'legendgroup': 'I-ID_NUM',\n",
       "              'marker': {'color': '#EF553B', 'symbol': 'circle'},\n",
       "              'mode': 'markers',\n",
       "              'name': 'I-ID_NUM',\n",
       "              'orientation': 'v',\n",
       "              'showlegend': True,\n",
       "              'type': 'scatter',\n",
       "              'x': array(['50-100'], dtype=object),\n",
       "              'xaxis': 'x',\n",
       "              'y': array([1], dtype=int64),\n",
       "              'yaxis': 'y'}],\n",
       "    'layout': {'height': 1000,\n",
       "               'legend': {'title': {'text': 'label'}, 'tracegroupgap': 0},\n",
       "               'margin': {'t': 60},\n",
       "               'template': '...',\n",
       "               'xaxis': {'anchor': 'y', 'domain': [0.0, 1.0], 'title': {'text': 'range'}},\n",
       "               'yaxis': {'anchor': 'x', 'domain': [0.0, 1.0], 'title': {'text': 'count'}, 'type': 'log'}}\n",
       "})"
      ]
     },
     "execution_count": 8,
     "metadata": {},
     "output_type": "execute_result"
    }
   ],
   "source": [
    "\n",
    "import pandas as pd\n",
    "import plotly.express as px\n",
    "from collections import Counter\n",
    "\n",
    "\n",
    "group = []\n",
    "labels = []\n",
    "\n",
    "group_thresholds = [0, 50, 100, 200, 500, 1000, 2000, 10000]\n",
    "\n",
    "for sample_labels in ds[\"provided_labels\"]:\n",
    "    for i, label in enumerate(sample_labels):\n",
    "        if label != \"O\":\n",
    "            for j in range(1, len(group_thresholds)):\n",
    "                lower = group_thresholds[j-1]\n",
    "                upper = group_thresholds[j]\n",
    "                \n",
    "                if lower <= i < upper:\n",
    "                    group.append(f\"{lower}-{upper}\")\n",
    "                    labels.append(label)\n",
    "                    break\n",
    "\n",
    "pairs = list(zip(labels, group))\n",
    "\n",
    "counts = Counter(pairs)\n",
    "\n",
    "\n",
    "data = {\n",
    "    \"label\": [],\n",
    "    \"count\": [],\n",
    "    \"range\": [],\n",
    "}\n",
    "\n",
    "for (label, range_), count in counts.items():\n",
    "    data[\"label\"].append(label)\n",
    "    data[\"range\"].append(range_)\n",
    "    data[\"count\"].append(count)\n",
    "\n",
    "            \n",
    "df = pd.DataFrame(data)\n",
    "\n",
    "\n",
    "px.scatter(df, x=\"range\", y=\"count\", color=\"label\", log_y=True, height=1000)"
   ]
  }
 ],
 "metadata": {
  "kernelspec": {
   "display_name": "mytorch",
   "language": "python",
   "name": "python3"
  },
  "language_info": {
   "codemirror_mode": {
    "name": "ipython",
    "version": 3
   },
   "file_extension": ".py",
   "mimetype": "text/x-python",
   "name": "python",
   "nbconvert_exporter": "python",
   "pygments_lexer": "ipython3",
   "version": "3.10.13"
  }
 },
 "nbformat": 4,
 "nbformat_minor": 2
}
