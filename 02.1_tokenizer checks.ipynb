{
 "cells": [
  {
   "cell_type": "code",
   "execution_count": 506,
   "metadata": {},
   "outputs": [
    {
     "name": "stdout",
     "output_type": "stream",
     "text": [
      "6807\n",
      "dict_keys(['document', 'full_text', 'tokens', 'trailing_whitespace', 'labels'])\n",
      "['Design', 'Thinking', 'for', 'innovation', 'reflexion', '-', 'Avril', '2021', '-', 'Nathalie']\n",
      "['O', 'O', 'O', 'O', 'O', 'O', 'O', 'O', 'O', 'B-NAME_STUDENT']\n",
      "[True, True, True, True, False, False, True, False, False, True]\n"
     ]
    },
    {
     "data": {
      "text/plain": [
       "{0: 'B-EMAIL',\n",
       " 1: 'B-ID_NUM',\n",
       " 2: 'B-NAME_STUDENT',\n",
       " 3: 'B-PHONE_NUM',\n",
       " 4: 'B-STREET_ADDRESS',\n",
       " 5: 'B-URL_PERSONAL',\n",
       " 6: 'B-USERNAME',\n",
       " 7: 'I-ID_NUM',\n",
       " 8: 'I-NAME_STUDENT',\n",
       " 9: 'I-PHONE_NUM',\n",
       " 10: 'I-STREET_ADDRESS',\n",
       " 11: 'I-URL_PERSONAL',\n",
       " 12: 'O'}"
      ]
     },
     "execution_count": 506,
     "metadata": {},
     "output_type": "execute_result"
    }
   ],
   "source": [
    "TRAINING_MODEL_PATH = \"microsoft/deberta-v3-base\"\n",
    "\n",
    "import json\n",
    "\n",
    "data = json.load(open(\"data/train.json\"))\n",
    "\n",
    "print(len(data))\n",
    "print(data[0].keys())\n",
    "\n",
    "x = data[0]\n",
    "\n",
    "print(x[\"tokens\"][:10])\n",
    "print(x[\"labels\"][:10])\n",
    "print(x[\"trailing_whitespace\"][:10])\n",
    "\n",
    "from itertools import chain\n",
    "\n",
    "all_labels = sorted(list(set(chain(*[x[\"labels\"] for x in data]))))\n",
    "label2id = {l: i for i,l in enumerate(all_labels)}\n",
    "id2label = {v:k for k,v in label2id.items()}\n",
    "\n",
    "id2label"
   ]
  },
  {
   "cell_type": "code",
   "execution_count": 495,
   "metadata": {},
   "outputs": [
    {
     "data": {
      "text/plain": [
       "6807"
      ]
     },
     "execution_count": 495,
     "metadata": {},
     "output_type": "execute_result"
    }
   ],
   "source": [
    "len(data)"
   ]
  },
  {
   "cell_type": "code",
   "execution_count": 496,
   "metadata": {},
   "outputs": [],
   "source": [
    "target = [\n",
    "    'B-EMAIL', 'B-ID_NUM', 'B-NAME_STUDENT', 'B-PHONE_NUM', \n",
    "    'B-STREET_ADDRESS', 'B-URL_PERSONAL', 'B-USERNAME', 'I-ID_NUM', \n",
    "    'I-NAME_STUDENT', 'I-PHONE_NUM', 'I-STREET_ADDRESS', 'I-URL_PERSONAL'\n",
    "]"
   ]
  },
  {
   "cell_type": "code",
   "execution_count": 497,
   "metadata": {},
   "outputs": [
    {
     "name": "stderr",
     "output_type": "stream",
     "text": [
      "Special tokens have been added in the vocabulary, make sure the associated word embeddings are fine-tuned or trained.\n",
      "/opt/homebrew/Caskroom/miniconda/base/envs/torch_ds/lib/python3.10/site-packages/transformers/convert_slow_tokenizer.py:454: UserWarning: The sentencepiece tokenizer that you are converting to a fast tokenizer uses the byte fallback option which is not implemented in the fast tokenizers. In practice this means that the fast version of the tokenizer can produce unknown tokens whereas the sentencepiece version would have converted these unknown tokens into a sequence of byte tokens matching the original piece of text.\n",
      "  warnings.warn(\n",
      "Special tokens have been added in the vocabulary, make sure the associated word embeddings are fine-tuned or trained.\n"
     ]
    },
    {
     "name": "stdout",
     "output_type": "stream",
     "text": [
      "dict_keys(['input_ids', 'token_type_ids', 'attention_mask', 'offset_mapping', 'labels', 'length', 'target_num', 'group'])\n",
      "original: [CLS] Design Thinking for Innovation  Reflection  1. Challenge: To expand the distribution of Indian Sindhi papad, globally, to the areas  where the Indian diaspora lives.  A papad basically is a crisp, round flatbread from India. It is typically based on a  seasoned dough usually made from peeled black gram flour, either fried or cooked  with dry heat. And Sindhis are an ethno-linguistic group who speak the Sindhi  language. After the partition of India, most of them migrated to other parts of the  world. And Sindhi papad has a unique taste of its own. But it is usually restricted to  some of the Indian cities itself. Not everyone has the access to have the food items  in their households, especially those who stay thousands of kilometres away from  India.  2. Selection: The tool I’ve selected is Learning Launch. I selected it for the challenge  because I’ve never approached this idea much in the exercises. Also, I mostly liked the  approach of having an initial ‘hypothesis’. Learning Launch process is basically an idea  generating tool which includes a rough idea, a specific group of persons, who have a  specific need, the idea that meets the need, and which might turn out to be better than  the current alternatives. This overall creates a hypothesis. An appropriate video lecture  reference for this could be the one which was there in the course itself, “Learning Launch  Tool”, in week 4.  3. Application: First, I pondered upon an idea for which there might be a need for a certain  section of people. For instance, here, it is the Sindhi diaspora’s need for having their  traditional Sindhi food item for themselves. Although, there might be several ways to  order Sindhi papad online, they are usually expensive due to the shipping charges. Here,  I am mostly highlighting on the alternative of having a collaboration or a joint venture with  further international organizations and to build a franchise. Although there could be a  probability of the tool being partially effective.  4. Insight: To be frank, I’m only at a nascent stage of the challenge. From this conception,  to the actual establishment of the products inside the global supermarkets and grocery  stores, it’ll require several other aspects like market research, demographic research and  furthermore aspects. Also, as the professor in the video said, that the idea can also be  inserted in the ‘trash bin’, that is, it might be used not now but later, when it’s need  becomes quite pertinent.  5. Approach: Next time, or rather, whenever I’ll brainstorm more with this idea, I shall apply  the storytelling tool. The reason being that there actually have been several fact-based  stories in which Sindhi papad has been appreciated across several groups of people,  especially in India. For more, you can look-up this link:  https://alvarado.com/categoriesindex.html  \n",
      "tokenize: [CLS] Design Thinking for Innovation Reflection 1. Challenge: To expand the distribution of Indian Sindhi papad, globally, to the areas where the Indian diaspora lives. A papad basically is a crisp, round flatbread from India. It is typically based on a seasoned dough usually made from peeled black gram flour, either fried or cooked with dry heat. And Sindhis are an ethno-linguistic group who speak the Sindhi language. After the partition of India, most of them migrated to other parts of the world. And Sindhi papad has a unique taste of its own. But it is usually restricted to some of the Indian cities itself. Not everyone has the access to have the food items in their households, especially those who stay thousands of kilometres away from India. 2. Selection: The tool I’ve selected is Learning Launch. I selected it for the challenge because I’ve never approached this idea much in the exercises. Also, I mostly liked the approach of having an initial ‘hypothesis’. Learning Launch process is basically an idea generating tool which includes a rough idea, a specific group of persons, who have a specific need, the idea that meets the need, and which might turn out to be better than the current alternatives. This overall creates a hypothesis. An appropriate video lecture reference for this could be the one which was there in the course itself, “Learning Launch Tool”, in week 4. 3. Application: First, I pondered upon an idea for which there might be a need for a certain section of people. For instance, here, it is the Sindhi diaspora’s need for having their traditional Sindhi food item for themselves. Although, there might be several ways to order Sindhi papad online, they are usually expensive due to the shipping charges. Here, I am mostly highlighting on the alternative of having a collaboration or a joint venture with further international organizations and to build a franchise. Although there could be a probability of the tool being partially effective. 4. Insight: To be frank, I’m only at a nascent stage of the challenge. From this conception, to the actual establishment of the products inside the global supermarkets and grocery stores, it’ll require several other aspects like market research, demographic research and furthermore aspects. Also, as the professor in the video said, that the idea can also be inserted in the ‘trash bin’, that is, it might be used not now but later, when it’s need becomes quite pertinent. 5. Approach: Next time, or rather, whenever I’ll brainstorm more with[SEP]\n",
      "labels: O O O O O O O O O O O O O O O O O O O O O O O O O O O O O O O O O O O O O O O O O O O O O O O O O O O O O O O O O O O O O O O O O O O O O O O O O O O O O O O O O O O O O O O O O O O O O O O O O O O O O O O O O O O O O O O O O O O O O O O O O O O O O O O O O O O O O O O O O O O O O O O O O O O O O O O O O O O O O O O O O O O O O O O O O O O O O O O O O O O O O O O O O O O O O O O O O O O O O O O O O O O O O O O O O O O O O O O O O O O O O O O O O O O O O O O O O O O O O O O O O O O O O O O O O O O O O O O O O O O O O O O O O O O O O O O O O O O O O O O O O O O O O O O O O O O O O O O O O O O O O O O O O O O O O O O O O O O O O O O O O O O O O O O O O O O O O O O O O O O O O O O O O O O O O O O O O O O O O O O O O O O O O O O O O O O O O O O O O O O O O O O O O O O O O O O O O O O O O O O O O O O O O O O O O O O O O O O O O O O O O O O O O O O O O O O O O O O O O O O O O O O O O O O O O O O O O O O O O O O O O O O O O O O O O O O O O O O O O O O O O O O O O O O O O O O O O O O O O O O O O O O O O O O O O O O O\n"
     ]
    }
   ],
   "source": [
    "\n",
    "from transformers import AutoTokenizer\n",
    "import numpy as np\n",
    "\n",
    "tokenizer = AutoTokenizer.from_pretrained(TRAINING_MODEL_PATH)\n",
    "\n",
    "\n",
    "def tokenize(example, tokenizer, label2id, max_length):\n",
    "    text = []\n",
    "\n",
    "    # these are at the character level\n",
    "    labels = []\n",
    "    targets = []\n",
    "\n",
    "    for t, l, ws in zip(example[\"tokens\"], example[\"labels\"], example[\"trailing_whitespace\"]):\n",
    "\n",
    "        text.append(t)\n",
    "        labels.extend([l]*len(t))\n",
    "        \n",
    "        if l in target:\n",
    "            targets.append(1)\n",
    "        else:\n",
    "            targets.append(0)\n",
    "        # if there is trailing whitespace\n",
    "        if ws:\n",
    "            text.append(\" \")\n",
    "            labels.append(\"O\")\n",
    "\n",
    "    tokenized = tokenizer(\"\".join(text), return_offsets_mapping=True, truncation=True, max_length=max_length)\n",
    "    \n",
    "    target_num = sum(targets)\n",
    "    labels = np.array(labels)\n",
    "\n",
    "    text = \"\".join(text)\n",
    "    token_labels = []\n",
    "\n",
    "    for start_idx, end_idx in tokenized.offset_mapping:\n",
    "\n",
    "        # CLS token\n",
    "        if start_idx == 0 and end_idx == 0: \n",
    "            token_labels.append(label2id[\"O\"])\n",
    "            continue\n",
    "\n",
    "        # case when token starts with whitespace\n",
    "        if text[start_idx].isspace():\n",
    "            start_idx += 1\n",
    "\n",
    "        token_labels.append(label2id[labels[start_idx]])\n",
    "\n",
    "    length = len(tokenized.input_ids)\n",
    "\n",
    "    return {\n",
    "        **tokenized,\n",
    "        \"labels\": token_labels,\n",
    "        \"length\": length,\n",
    "        \"target_num\": target_num,\n",
    "        \"group\": 1 if target_num>0 else 0\n",
    "    }\n",
    "\n",
    "\n",
    "\n",
    "#id=0\n",
    "#for entry in ds:\n",
    "#    if entry['document'] == 13315:\n",
    "#        print(id)\n",
    "#        break\n",
    "#    id+=1\n",
    "\n",
    "sample = data[2790]\n",
    "sample_tokenized=tokenize(sample, tokenizer, label2id, max_length=512)\n",
    "\n",
    "\n",
    "print(sample_tokenized.keys())\n",
    "\n",
    "# create text of sample_tokenized\n",
    "\n",
    "text = tokenizer.decode(sample_tokenized[\"input_ids\"])\n",
    "\n",
    "print(\"original: [CLS] \" + sample[\"full_text\"].replace(\"\\n\", \" \"))\n",
    "print(\"tokenize: \" + text)\n",
    "print(\"labels: \" + \" \".join([id2label[x] for x in sample_tokenized[\"labels\"]]))\n",
    "\n",
    "# tokenizer.convert_ids_to_tokens(sample_tokenized[\"input_ids\"])\n"
   ]
  },
  {
   "cell_type": "code",
   "execution_count": 498,
   "metadata": {},
   "outputs": [],
   "source": [
    "#for i in range(100):\n",
    "#    x=data[i]\n",
    "#    print(i, sum([1 if x[\"labels\"][i] != \"O\" else 0 for i in range(len(x[\"labels\"]))]))"
   ]
  },
  {
   "cell_type": "code",
   "execution_count": 499,
   "metadata": {},
   "outputs": [
    {
     "name": "stdout",
     "output_type": "stream",
     "text": [
      "keys dict_keys(['document', 'full_text', 'tokens', 'trailing_whitespace', 'labels'])\n",
      "document id 609\n",
      "['O' 'B-NAME_STUDENT' 'I-NAME_STUDENT' 'B-ID_NUM']\n"
     ]
    },
    {
     "data": {
      "text/html": [
       "<div>\n",
       "<style scoped>\n",
       "    .dataframe tbody tr th:only-of-type {\n",
       "        vertical-align: middle;\n",
       "    }\n",
       "\n",
       "    .dataframe tbody tr th {\n",
       "        vertical-align: top;\n",
       "    }\n",
       "\n",
       "    .dataframe thead th {\n",
       "        text-align: right;\n",
       "    }\n",
       "</style>\n",
       "<table border=\"1\" class=\"dataframe\">\n",
       "  <thead>\n",
       "    <tr style=\"text-align: right;\">\n",
       "      <th></th>\n",
       "      <th>original</th>\n",
       "      <th>decoded</th>\n",
       "      <th>tokenized_labels</th>\n",
       "      <th>original_labels</th>\n",
       "    </tr>\n",
       "  </thead>\n",
       "  <tbody>\n",
       "    <tr>\n",
       "      <th>0</th>\n",
       "      <td>Date:14</td>\n",
       "      <td>[CLS]</td>\n",
       "      <td>O</td>\n",
       "      <td>O</td>\n",
       "    </tr>\n",
       "    <tr>\n",
       "      <th>1</th>\n",
       "      <td>-</td>\n",
       "      <td>▁Date</td>\n",
       "      <td>O</td>\n",
       "      <td>O</td>\n",
       "    </tr>\n",
       "    <tr>\n",
       "      <th>2</th>\n",
       "      <td>09</td>\n",
       "      <td>:</td>\n",
       "      <td>O</td>\n",
       "      <td>O</td>\n",
       "    </tr>\n",
       "    <tr>\n",
       "      <th>3</th>\n",
       "      <td>-</td>\n",
       "      <td>14</td>\n",
       "      <td>O</td>\n",
       "      <td>O</td>\n",
       "    </tr>\n",
       "    <tr>\n",
       "      <th>4</th>\n",
       "      <td>2021</td>\n",
       "      <td>-</td>\n",
       "      <td>O</td>\n",
       "      <td>O</td>\n",
       "    </tr>\n",
       "    <tr>\n",
       "      <th>5</th>\n",
       "      <td>\\n\\n</td>\n",
       "      <td>09</td>\n",
       "      <td>O</td>\n",
       "      <td>O</td>\n",
       "    </tr>\n",
       "    <tr>\n",
       "      <th>6</th>\n",
       "      <td>NEWS</td>\n",
       "      <td>-</td>\n",
       "      <td>O</td>\n",
       "      <td>O</td>\n",
       "    </tr>\n",
       "    <tr>\n",
       "      <th>7</th>\n",
       "      <td>PAPER</td>\n",
       "      <td>2021</td>\n",
       "      <td>O</td>\n",
       "      <td>O</td>\n",
       "    </tr>\n",
       "    <tr>\n",
       "      <th>8</th>\n",
       "      <td>\\n\\n</td>\n",
       "      <td>▁NEWS</td>\n",
       "      <td>O</td>\n",
       "      <td>O</td>\n",
       "    </tr>\n",
       "    <tr>\n",
       "      <th>9</th>\n",
       "      <td>Project</td>\n",
       "      <td>▁PAPER</td>\n",
       "      <td>O</td>\n",
       "      <td>O</td>\n",
       "    </tr>\n",
       "    <tr>\n",
       "      <th>10</th>\n",
       "      <td>:</td>\n",
       "      <td>▁Project</td>\n",
       "      <td>O</td>\n",
       "      <td>O</td>\n",
       "    </tr>\n",
       "    <tr>\n",
       "      <th>11</th>\n",
       "      <td>News</td>\n",
       "      <td>:</td>\n",
       "      <td>O</td>\n",
       "      <td>O</td>\n",
       "    </tr>\n",
       "    <tr>\n",
       "      <th>12</th>\n",
       "      <td>Paper</td>\n",
       "      <td>▁News</td>\n",
       "      <td>O</td>\n",
       "      <td>O</td>\n",
       "    </tr>\n",
       "    <tr>\n",
       "      <th>13</th>\n",
       "      <td>Designing</td>\n",
       "      <td>▁Paper</td>\n",
       "      <td>O</td>\n",
       "      <td>O</td>\n",
       "    </tr>\n",
       "    <tr>\n",
       "      <th>14</th>\n",
       "      <td></td>\n",
       "      <td>▁Designing</td>\n",
       "      <td>O</td>\n",
       "      <td>O</td>\n",
       "    </tr>\n",
       "    <tr>\n",
       "      <th>15</th>\n",
       "      <td>Interviewer</td>\n",
       "      <td>▁Interviewer</td>\n",
       "      <td>O</td>\n",
       "      <td>O</td>\n",
       "    </tr>\n",
       "    <tr>\n",
       "      <th>16</th>\n",
       "      <td>Name</td>\n",
       "      <td>▁Name</td>\n",
       "      <td>O</td>\n",
       "      <td>O</td>\n",
       "    </tr>\n",
       "    <tr>\n",
       "      <th>17</th>\n",
       "      <td>:</td>\n",
       "      <td>▁:</td>\n",
       "      <td>O</td>\n",
       "      <td>O</td>\n",
       "    </tr>\n",
       "    <tr>\n",
       "      <th>18</th>\n",
       "      <td></td>\n",
       "      <td>▁Gabriel</td>\n",
       "      <td>B-NAME_STUDENT</td>\n",
       "      <td>O</td>\n",
       "    </tr>\n",
       "    <tr>\n",
       "      <th>19</th>\n",
       "      <td>Gabriel</td>\n",
       "      <td>▁Bravo</td>\n",
       "      <td>I-NAME_STUDENT</td>\n",
       "      <td>B-NAME_STUDENT</td>\n",
       "    </tr>\n",
       "    <tr>\n",
       "      <th>20</th>\n",
       "      <td>Bravo</td>\n",
       "      <td>▁Interviewer</td>\n",
       "      <td>O</td>\n",
       "      <td>I-NAME_STUDENT</td>\n",
       "    </tr>\n",
       "    <tr>\n",
       "      <th>21</th>\n",
       "      <td></td>\n",
       "      <td>▁Pin</td>\n",
       "      <td>O</td>\n",
       "      <td>O</td>\n",
       "    </tr>\n",
       "    <tr>\n",
       "      <th>22</th>\n",
       "      <td>Interviewer</td>\n",
       "      <td>No</td>\n",
       "      <td>O</td>\n",
       "      <td>O</td>\n",
       "    </tr>\n",
       "    <tr>\n",
       "      <th>23</th>\n",
       "      <td>PinNo</td>\n",
       "      <td>▁:</td>\n",
       "      <td>O</td>\n",
       "      <td>O</td>\n",
       "    </tr>\n",
       "    <tr>\n",
       "      <th>24</th>\n",
       "      <td>:</td>\n",
       "      <td>▁860</td>\n",
       "      <td>B-ID_NUM</td>\n",
       "      <td>O</td>\n",
       "    </tr>\n",
       "    <tr>\n",
       "      <th>25</th>\n",
       "      <td></td>\n",
       "      <td>632</td>\n",
       "      <td>B-ID_NUM</td>\n",
       "      <td>O</td>\n",
       "    </tr>\n",
       "    <tr>\n",
       "      <th>26</th>\n",
       "      <td>860632713425</td>\n",
       "      <td>713</td>\n",
       "      <td>B-ID_NUM</td>\n",
       "      <td>B-ID_NUM</td>\n",
       "    </tr>\n",
       "    <tr>\n",
       "      <th>27</th>\n",
       "      <td></td>\n",
       "      <td>425</td>\n",
       "      <td>B-ID_NUM</td>\n",
       "      <td>O</td>\n",
       "    </tr>\n",
       "    <tr>\n",
       "      <th>28</th>\n",
       "      <td>Interviewee</td>\n",
       "      <td>▁Interview</td>\n",
       "      <td>O</td>\n",
       "      <td>O</td>\n",
       "    </tr>\n",
       "    <tr>\n",
       "      <th>29</th>\n",
       "      <td>Name</td>\n",
       "      <td>ee</td>\n",
       "      <td>O</td>\n",
       "      <td>O</td>\n",
       "    </tr>\n",
       "    <tr>\n",
       "      <th>30</th>\n",
       "      <td>:</td>\n",
       "      <td>▁Name</td>\n",
       "      <td>O</td>\n",
       "      <td>O</td>\n",
       "    </tr>\n",
       "    <tr>\n",
       "      <th>31</th>\n",
       "      <td></td>\n",
       "      <td>▁:</td>\n",
       "      <td>O</td>\n",
       "      <td>O</td>\n",
       "    </tr>\n",
       "    <tr>\n",
       "      <th>32</th>\n",
       "      <td>Hlengiwe</td>\n",
       "      <td>▁H</td>\n",
       "      <td>B-NAME_STUDENT</td>\n",
       "      <td>B-NAME_STUDENT</td>\n",
       "    </tr>\n",
       "    <tr>\n",
       "      <th>33</th>\n",
       "      <td>Swetha</td>\n",
       "      <td>leng</td>\n",
       "      <td>B-NAME_STUDENT</td>\n",
       "      <td>I-NAME_STUDENT</td>\n",
       "    </tr>\n",
       "    <tr>\n",
       "      <th>34</th>\n",
       "      <td></td>\n",
       "      <td>i</td>\n",
       "      <td>B-NAME_STUDENT</td>\n",
       "      <td>O</td>\n",
       "    </tr>\n",
       "    <tr>\n",
       "      <th>35</th>\n",
       "      <td>Interviewee</td>\n",
       "      <td>we</td>\n",
       "      <td>B-NAME_STUDENT</td>\n",
       "      <td>O</td>\n",
       "    </tr>\n",
       "    <tr>\n",
       "      <th>36</th>\n",
       "      <td>PinNo</td>\n",
       "      <td>▁Swet</td>\n",
       "      <td>I-NAME_STUDENT</td>\n",
       "      <td>O</td>\n",
       "    </tr>\n",
       "    <tr>\n",
       "      <th>37</th>\n",
       "      <td>:</td>\n",
       "      <td>ha</td>\n",
       "      <td>I-NAME_STUDENT</td>\n",
       "      <td>O</td>\n",
       "    </tr>\n",
       "    <tr>\n",
       "      <th>38</th>\n",
       "      <td></td>\n",
       "      <td>▁Interview</td>\n",
       "      <td>O</td>\n",
       "      <td>O</td>\n",
       "    </tr>\n",
       "    <tr>\n",
       "      <th>39</th>\n",
       "      <td>530670102508</td>\n",
       "      <td>ee</td>\n",
       "      <td>O</td>\n",
       "      <td>B-ID_NUM</td>\n",
       "    </tr>\n",
       "    <tr>\n",
       "      <th>40</th>\n",
       "      <td></td>\n",
       "      <td>▁Pin</td>\n",
       "      <td>O</td>\n",
       "      <td>O</td>\n",
       "    </tr>\n",
       "    <tr>\n",
       "      <th>41</th>\n",
       "      <td>Team</td>\n",
       "      <td>No</td>\n",
       "      <td>O</td>\n",
       "      <td>O</td>\n",
       "    </tr>\n",
       "    <tr>\n",
       "      <th>42</th>\n",
       "      <td>:</td>\n",
       "      <td>▁:</td>\n",
       "      <td>O</td>\n",
       "      <td>O</td>\n",
       "    </tr>\n",
       "    <tr>\n",
       "      <th>43</th>\n",
       "      <td>“</td>\n",
       "      <td>▁530</td>\n",
       "      <td>B-ID_NUM</td>\n",
       "      <td>O</td>\n",
       "    </tr>\n",
       "    <tr>\n",
       "      <th>44</th>\n",
       "      <td>CSE</td>\n",
       "      <td>670</td>\n",
       "      <td>B-ID_NUM</td>\n",
       "      <td>O</td>\n",
       "    </tr>\n",
       "    <tr>\n",
       "      <th>45</th>\n",
       "      <td>AIML</td>\n",
       "      <td>102</td>\n",
       "      <td>B-ID_NUM</td>\n",
       "      <td>O</td>\n",
       "    </tr>\n",
       "    <tr>\n",
       "      <th>46</th>\n",
       "      <td>group</td>\n",
       "      <td>508</td>\n",
       "      <td>B-ID_NUM</td>\n",
       "      <td>O</td>\n",
       "    </tr>\n",
       "    <tr>\n",
       "      <th>47</th>\n",
       "      <td>5</td>\n",
       "      <td>▁Team</td>\n",
       "      <td>O</td>\n",
       "      <td>O</td>\n",
       "    </tr>\n",
       "    <tr>\n",
       "      <th>48</th>\n",
       "      <td>”</td>\n",
       "      <td>:</td>\n",
       "      <td>O</td>\n",
       "      <td>O</td>\n",
       "    </tr>\n",
       "    <tr>\n",
       "      <th>49</th>\n",
       "      <td></td>\n",
       "      <td>▁“</td>\n",
       "      <td>O</td>\n",
       "      <td>O</td>\n",
       "    </tr>\n",
       "    <tr>\n",
       "      <th>50</th>\n",
       "      <td>530670102508</td>\n",
       "      <td>CSE</td>\n",
       "      <td>O</td>\n",
       "      <td>B-ID_NUM</td>\n",
       "    </tr>\n",
       "    <tr>\n",
       "      <th>51</th>\n",
       "      <td>-</td>\n",
       "      <td>▁AIM</td>\n",
       "      <td>O</td>\n",
       "      <td>O</td>\n",
       "    </tr>\n",
       "    <tr>\n",
       "      <th>52</th>\n",
       "      <td></td>\n",
       "      <td>L</td>\n",
       "      <td>O</td>\n",
       "      <td>O</td>\n",
       "    </tr>\n",
       "    <tr>\n",
       "      <th>53</th>\n",
       "      <td>Tino</td>\n",
       "      <td>▁group</td>\n",
       "      <td>O</td>\n",
       "      <td>B-NAME_STUDENT</td>\n",
       "    </tr>\n",
       "    <tr>\n",
       "      <th>54</th>\n",
       "      <td>Swetha</td>\n",
       "      <td>▁5</td>\n",
       "      <td>O</td>\n",
       "      <td>I-NAME_STUDENT</td>\n",
       "    </tr>\n",
       "    <tr>\n",
       "      <th>55</th>\n",
       "      <td></td>\n",
       "      <td>▁</td>\n",
       "      <td>O</td>\n",
       "      <td>O</td>\n",
       "    </tr>\n",
       "    <tr>\n",
       "      <th>56</th>\n",
       "      <td>875673967537</td>\n",
       "      <td>”</td>\n",
       "      <td>O</td>\n",
       "      <td>B-ID_NUM</td>\n",
       "    </tr>\n",
       "    <tr>\n",
       "      <th>57</th>\n",
       "      <td>-</td>\n",
       "      <td>▁530</td>\n",
       "      <td>B-ID_NUM</td>\n",
       "      <td>O</td>\n",
       "    </tr>\n",
       "    <tr>\n",
       "      <th>58</th>\n",
       "      <td></td>\n",
       "      <td>670</td>\n",
       "      <td>B-ID_NUM</td>\n",
       "      <td>O</td>\n",
       "    </tr>\n",
       "    <tr>\n",
       "      <th>59</th>\n",
       "      <td>SSRK</td>\n",
       "      <td>[SEP]</td>\n",
       "      <td>O</td>\n",
       "      <td>O</td>\n",
       "    </tr>\n",
       "  </tbody>\n",
       "</table>\n",
       "</div>"
      ],
      "text/plain": [
       "                            original       decoded tokenized_labels  \\\n",
       "0                            Date:14         [CLS]                O   \n",
       "1                                  -         ▁Date                O   \n",
       "2                                 09             :                O   \n",
       "3                                  -            14                O   \n",
       "4                               2021             -                O   \n",
       "5                               \\n\\n            09                O   \n",
       "6                               NEWS             -                O   \n",
       "7                              PAPER          2021                O   \n",
       "8                               \\n\\n         ▁NEWS                O   \n",
       "9                            Project        ▁PAPER                O   \n",
       "10                                 :      ▁Project                O   \n",
       "11                              News             :                O   \n",
       "12                             Paper         ▁News                O   \n",
       "13                         Designing        ▁Paper                O   \n",
       "14                                      ▁Designing                O   \n",
       "15                       Interviewer  ▁Interviewer                O   \n",
       "16                              Name         ▁Name                O   \n",
       "17                                 :            ▁:                O   \n",
       "18                                        ▁Gabriel   B-NAME_STUDENT   \n",
       "19                           Gabriel        ▁Bravo   I-NAME_STUDENT   \n",
       "20                             Bravo  ▁Interviewer                O   \n",
       "21                                            ▁Pin                O   \n",
       "22                       Interviewer            No                O   \n",
       "23                             PinNo            ▁:                O   \n",
       "24                                 :          ▁860         B-ID_NUM   \n",
       "25                                             632         B-ID_NUM   \n",
       "26                      860632713425           713         B-ID_NUM   \n",
       "27                                             425         B-ID_NUM   \n",
       "28                       Interviewee    ▁Interview                O   \n",
       "29                              Name            ee                O   \n",
       "30                                 :         ▁Name                O   \n",
       "31                                              ▁:                O   \n",
       "32                          Hlengiwe            ▁H   B-NAME_STUDENT   \n",
       "33                            Swetha          leng   B-NAME_STUDENT   \n",
       "34                                               i   B-NAME_STUDENT   \n",
       "35                       Interviewee            we   B-NAME_STUDENT   \n",
       "36                             PinNo         ▁Swet   I-NAME_STUDENT   \n",
       "37                                 :            ha   I-NAME_STUDENT   \n",
       "38                                      ▁Interview                O   \n",
       "39                      530670102508            ee                O   \n",
       "40                                            ▁Pin                O   \n",
       "41                              Team            No                O   \n",
       "42                                 :            ▁:                O   \n",
       "43                                 “          ▁530         B-ID_NUM   \n",
       "44                               CSE           670         B-ID_NUM   \n",
       "45                              AIML           102         B-ID_NUM   \n",
       "46                             group           508         B-ID_NUM   \n",
       "47                                 5         ▁Team                O   \n",
       "48                                 ”             :                O   \n",
       "49                                              ▁“                O   \n",
       "50                      530670102508           CSE                O   \n",
       "51                                 -          ▁AIM                O   \n",
       "52                                               L                O   \n",
       "53                              Tino        ▁group                O   \n",
       "54                            Swetha            ▁5                O   \n",
       "55                                               ▁                O   \n",
       "56                      875673967537             ”                O   \n",
       "57                                 -          ▁530         B-ID_NUM   \n",
       "58                                             670         B-ID_NUM   \n",
       "59                              SSRK         [SEP]                O   \n",
       "\n",
       "   original_labels  \n",
       "0                O  \n",
       "1                O  \n",
       "2                O  \n",
       "3                O  \n",
       "4                O  \n",
       "5                O  \n",
       "6                O  \n",
       "7                O  \n",
       "8                O  \n",
       "9                O  \n",
       "10               O  \n",
       "11               O  \n",
       "12               O  \n",
       "13               O  \n",
       "14               O  \n",
       "15               O  \n",
       "16               O  \n",
       "17               O  \n",
       "18               O  \n",
       "19  B-NAME_STUDENT  \n",
       "20  I-NAME_STUDENT  \n",
       "21               O  \n",
       "22               O  \n",
       "23               O  \n",
       "24               O  \n",
       "25               O  \n",
       "26        B-ID_NUM  \n",
       "27               O  \n",
       "28               O  \n",
       "29               O  \n",
       "30               O  \n",
       "31               O  \n",
       "32  B-NAME_STUDENT  \n",
       "33  I-NAME_STUDENT  \n",
       "34               O  \n",
       "35               O  \n",
       "36               O  \n",
       "37               O  \n",
       "38               O  \n",
       "39        B-ID_NUM  \n",
       "40               O  \n",
       "41               O  \n",
       "42               O  \n",
       "43               O  \n",
       "44               O  \n",
       "45               O  \n",
       "46               O  \n",
       "47               O  \n",
       "48               O  \n",
       "49               O  \n",
       "50        B-ID_NUM  \n",
       "51               O  \n",
       "52               O  \n",
       "53  B-NAME_STUDENT  \n",
       "54  I-NAME_STUDENT  \n",
       "55               O  \n",
       "56        B-ID_NUM  \n",
       "57               O  \n",
       "58               O  \n",
       "59               O  "
      ]
     },
     "execution_count": 499,
     "metadata": {},
     "output_type": "execute_result"
    }
   ],
   "source": [
    "# Confirm that alignment is good\n",
    "\n",
    "# run multiple times to see different rows\n",
    "import random\n",
    "import pandas as pd\n",
    "\n",
    "max_length=60\n",
    "\n",
    "x=data[29]\n",
    "print(\"keys\", x.keys())\n",
    "print(\"document id\", x[\"document\"])\n",
    "original_token_list = []\n",
    "\n",
    "original_token_list=x[\"tokens\"][:max_length]\n",
    "cls_token=\"[CLS]\"\n",
    "#original_token_list.insert(0, cls_token)\n",
    "\n",
    "decoded_token_list=[]\n",
    "input_ids=tokenize(x, tokenizer, label2id, max_length=max_length)['input_ids']\n",
    "labels=tokenize(x, tokenizer, label2id, max_length=max_length)['labels']\n",
    "\n",
    "for single_token in tokenizer.convert_ids_to_tokens(input_ids):\n",
    "    decoded_token_list.append((single_token))\n",
    "\n",
    "#for i in range(max_length):\n",
    "#    print(f\"{i} {original_token_list[i]} {decoded_token_list[i]}\")\n",
    "    \n",
    "df = pd.DataFrame(list(zip(original_token_list, decoded_token_list)), columns =['original', 'decoded'])\n",
    "df['tokenized_labels'] = [id2label[x] for x in labels]\n",
    "df['original_labels'] = x['labels'][:max_length]\n",
    "\n",
    "print(df['original_labels'].unique())\n",
    "df"
   ]
  },
  {
   "cell_type": "code",
   "execution_count": 500,
   "metadata": {},
   "outputs": [
    {
     "data": {
      "text/html": [
       "<div>\n",
       "<style scoped>\n",
       "    .dataframe tbody tr th:only-of-type {\n",
       "        vertical-align: middle;\n",
       "    }\n",
       "\n",
       "    .dataframe tbody tr th {\n",
       "        vertical-align: top;\n",
       "    }\n",
       "\n",
       "    .dataframe thead th {\n",
       "        text-align: right;\n",
       "    }\n",
       "</style>\n",
       "<table border=\"1\" class=\"dataframe\">\n",
       "  <thead>\n",
       "    <tr style=\"text-align: right;\">\n",
       "      <th></th>\n",
       "      <th>original</th>\n",
       "      <th>decoded</th>\n",
       "      <th>tokenized_labels</th>\n",
       "      <th>original_labels</th>\n",
       "    </tr>\n",
       "  </thead>\n",
       "  <tbody>\n",
       "    <tr>\n",
       "      <th>0</th>\n",
       "      <td>Date:14</td>\n",
       "      <td>[CLS]</td>\n",
       "      <td>O</td>\n",
       "      <td>O</td>\n",
       "    </tr>\n",
       "    <tr>\n",
       "      <th>1</th>\n",
       "      <td>-</td>\n",
       "      <td>▁Date</td>\n",
       "      <td>O</td>\n",
       "      <td>O</td>\n",
       "    </tr>\n",
       "    <tr>\n",
       "      <th>2</th>\n",
       "      <td>09</td>\n",
       "      <td>:</td>\n",
       "      <td>O</td>\n",
       "      <td>O</td>\n",
       "    </tr>\n",
       "    <tr>\n",
       "      <th>3</th>\n",
       "      <td>-</td>\n",
       "      <td>14</td>\n",
       "      <td>O</td>\n",
       "      <td>O</td>\n",
       "    </tr>\n",
       "    <tr>\n",
       "      <th>4</th>\n",
       "      <td>2021</td>\n",
       "      <td>-</td>\n",
       "      <td>O</td>\n",
       "      <td>O</td>\n",
       "    </tr>\n",
       "    <tr>\n",
       "      <th>5</th>\n",
       "      <td>\\n\\n</td>\n",
       "      <td>09</td>\n",
       "      <td>O</td>\n",
       "      <td>O</td>\n",
       "    </tr>\n",
       "    <tr>\n",
       "      <th>6</th>\n",
       "      <td>NEWS</td>\n",
       "      <td>-</td>\n",
       "      <td>O</td>\n",
       "      <td>O</td>\n",
       "    </tr>\n",
       "    <tr>\n",
       "      <th>7</th>\n",
       "      <td>PAPER</td>\n",
       "      <td>2021</td>\n",
       "      <td>O</td>\n",
       "      <td>O</td>\n",
       "    </tr>\n",
       "    <tr>\n",
       "      <th>8</th>\n",
       "      <td>\\n\\n</td>\n",
       "      <td>▁NEWS</td>\n",
       "      <td>O</td>\n",
       "      <td>O</td>\n",
       "    </tr>\n",
       "    <tr>\n",
       "      <th>9</th>\n",
       "      <td>Project</td>\n",
       "      <td>▁PAPER</td>\n",
       "      <td>O</td>\n",
       "      <td>O</td>\n",
       "    </tr>\n",
       "    <tr>\n",
       "      <th>10</th>\n",
       "      <td>:</td>\n",
       "      <td>▁Project</td>\n",
       "      <td>O</td>\n",
       "      <td>O</td>\n",
       "    </tr>\n",
       "    <tr>\n",
       "      <th>11</th>\n",
       "      <td>News</td>\n",
       "      <td>:</td>\n",
       "      <td>O</td>\n",
       "      <td>O</td>\n",
       "    </tr>\n",
       "    <tr>\n",
       "      <th>12</th>\n",
       "      <td>Paper</td>\n",
       "      <td>▁News</td>\n",
       "      <td>O</td>\n",
       "      <td>O</td>\n",
       "    </tr>\n",
       "    <tr>\n",
       "      <th>13</th>\n",
       "      <td>Designing</td>\n",
       "      <td>▁Paper</td>\n",
       "      <td>O</td>\n",
       "      <td>O</td>\n",
       "    </tr>\n",
       "    <tr>\n",
       "      <th>14</th>\n",
       "      <td></td>\n",
       "      <td>▁Designing</td>\n",
       "      <td>O</td>\n",
       "      <td>O</td>\n",
       "    </tr>\n",
       "    <tr>\n",
       "      <th>15</th>\n",
       "      <td>Interviewer</td>\n",
       "      <td>▁Interviewer</td>\n",
       "      <td>O</td>\n",
       "      <td>O</td>\n",
       "    </tr>\n",
       "    <tr>\n",
       "      <th>16</th>\n",
       "      <td>Name</td>\n",
       "      <td>▁Name</td>\n",
       "      <td>O</td>\n",
       "      <td>O</td>\n",
       "    </tr>\n",
       "    <tr>\n",
       "      <th>17</th>\n",
       "      <td>:</td>\n",
       "      <td>▁:</td>\n",
       "      <td>O</td>\n",
       "      <td>O</td>\n",
       "    </tr>\n",
       "    <tr>\n",
       "      <th>18</th>\n",
       "      <td></td>\n",
       "      <td>▁Gabriel</td>\n",
       "      <td>B-NAME_STUDENT</td>\n",
       "      <td>O</td>\n",
       "    </tr>\n",
       "    <tr>\n",
       "      <th>19</th>\n",
       "      <td>Gabriel</td>\n",
       "      <td>▁Bravo</td>\n",
       "      <td>I-NAME_STUDENT</td>\n",
       "      <td>B-NAME_STUDENT</td>\n",
       "    </tr>\n",
       "    <tr>\n",
       "      <th>20</th>\n",
       "      <td>Bravo</td>\n",
       "      <td>▁Interviewer</td>\n",
       "      <td>O</td>\n",
       "      <td>I-NAME_STUDENT</td>\n",
       "    </tr>\n",
       "    <tr>\n",
       "      <th>21</th>\n",
       "      <td></td>\n",
       "      <td>▁Pin</td>\n",
       "      <td>O</td>\n",
       "      <td>O</td>\n",
       "    </tr>\n",
       "    <tr>\n",
       "      <th>22</th>\n",
       "      <td>Interviewer</td>\n",
       "      <td>No</td>\n",
       "      <td>O</td>\n",
       "      <td>O</td>\n",
       "    </tr>\n",
       "    <tr>\n",
       "      <th>23</th>\n",
       "      <td>PinNo</td>\n",
       "      <td>▁:</td>\n",
       "      <td>O</td>\n",
       "      <td>O</td>\n",
       "    </tr>\n",
       "    <tr>\n",
       "      <th>24</th>\n",
       "      <td>:</td>\n",
       "      <td>▁860</td>\n",
       "      <td>B-ID_NUM</td>\n",
       "      <td>O</td>\n",
       "    </tr>\n",
       "    <tr>\n",
       "      <th>25</th>\n",
       "      <td></td>\n",
       "      <td>632</td>\n",
       "      <td>B-ID_NUM</td>\n",
       "      <td>O</td>\n",
       "    </tr>\n",
       "    <tr>\n",
       "      <th>26</th>\n",
       "      <td>860632713425</td>\n",
       "      <td>713</td>\n",
       "      <td>B-ID_NUM</td>\n",
       "      <td>B-ID_NUM</td>\n",
       "    </tr>\n",
       "    <tr>\n",
       "      <th>27</th>\n",
       "      <td></td>\n",
       "      <td>425</td>\n",
       "      <td>B-ID_NUM</td>\n",
       "      <td>O</td>\n",
       "    </tr>\n",
       "    <tr>\n",
       "      <th>28</th>\n",
       "      <td>Interviewee</td>\n",
       "      <td>▁Interview</td>\n",
       "      <td>O</td>\n",
       "      <td>O</td>\n",
       "    </tr>\n",
       "    <tr>\n",
       "      <th>29</th>\n",
       "      <td>Name</td>\n",
       "      <td>ee</td>\n",
       "      <td>O</td>\n",
       "      <td>O</td>\n",
       "    </tr>\n",
       "    <tr>\n",
       "      <th>30</th>\n",
       "      <td>:</td>\n",
       "      <td>▁Name</td>\n",
       "      <td>O</td>\n",
       "      <td>O</td>\n",
       "    </tr>\n",
       "    <tr>\n",
       "      <th>31</th>\n",
       "      <td></td>\n",
       "      <td>▁:</td>\n",
       "      <td>O</td>\n",
       "      <td>O</td>\n",
       "    </tr>\n",
       "    <tr>\n",
       "      <th>32</th>\n",
       "      <td>Hlengiwe</td>\n",
       "      <td>▁H</td>\n",
       "      <td>B-NAME_STUDENT</td>\n",
       "      <td>B-NAME_STUDENT</td>\n",
       "    </tr>\n",
       "    <tr>\n",
       "      <th>33</th>\n",
       "      <td>Swetha</td>\n",
       "      <td>leng</td>\n",
       "      <td>B-NAME_STUDENT</td>\n",
       "      <td>I-NAME_STUDENT</td>\n",
       "    </tr>\n",
       "    <tr>\n",
       "      <th>34</th>\n",
       "      <td></td>\n",
       "      <td>i</td>\n",
       "      <td>B-NAME_STUDENT</td>\n",
       "      <td>O</td>\n",
       "    </tr>\n",
       "    <tr>\n",
       "      <th>35</th>\n",
       "      <td>Interviewee</td>\n",
       "      <td>we</td>\n",
       "      <td>B-NAME_STUDENT</td>\n",
       "      <td>O</td>\n",
       "    </tr>\n",
       "    <tr>\n",
       "      <th>36</th>\n",
       "      <td>PinNo</td>\n",
       "      <td>▁Swet</td>\n",
       "      <td>I-NAME_STUDENT</td>\n",
       "      <td>O</td>\n",
       "    </tr>\n",
       "    <tr>\n",
       "      <th>37</th>\n",
       "      <td>:</td>\n",
       "      <td>ha</td>\n",
       "      <td>I-NAME_STUDENT</td>\n",
       "      <td>O</td>\n",
       "    </tr>\n",
       "    <tr>\n",
       "      <th>38</th>\n",
       "      <td></td>\n",
       "      <td>▁Interview</td>\n",
       "      <td>O</td>\n",
       "      <td>O</td>\n",
       "    </tr>\n",
       "    <tr>\n",
       "      <th>39</th>\n",
       "      <td>530670102508</td>\n",
       "      <td>ee</td>\n",
       "      <td>O</td>\n",
       "      <td>B-ID_NUM</td>\n",
       "    </tr>\n",
       "    <tr>\n",
       "      <th>40</th>\n",
       "      <td></td>\n",
       "      <td>▁Pin</td>\n",
       "      <td>O</td>\n",
       "      <td>O</td>\n",
       "    </tr>\n",
       "    <tr>\n",
       "      <th>41</th>\n",
       "      <td>Team</td>\n",
       "      <td>No</td>\n",
       "      <td>O</td>\n",
       "      <td>O</td>\n",
       "    </tr>\n",
       "    <tr>\n",
       "      <th>42</th>\n",
       "      <td>:</td>\n",
       "      <td>▁:</td>\n",
       "      <td>O</td>\n",
       "      <td>O</td>\n",
       "    </tr>\n",
       "    <tr>\n",
       "      <th>43</th>\n",
       "      <td>“</td>\n",
       "      <td>▁530</td>\n",
       "      <td>B-ID_NUM</td>\n",
       "      <td>O</td>\n",
       "    </tr>\n",
       "    <tr>\n",
       "      <th>44</th>\n",
       "      <td>CSE</td>\n",
       "      <td>670</td>\n",
       "      <td>B-ID_NUM</td>\n",
       "      <td>O</td>\n",
       "    </tr>\n",
       "    <tr>\n",
       "      <th>45</th>\n",
       "      <td>AIML</td>\n",
       "      <td>102</td>\n",
       "      <td>B-ID_NUM</td>\n",
       "      <td>O</td>\n",
       "    </tr>\n",
       "    <tr>\n",
       "      <th>46</th>\n",
       "      <td>group</td>\n",
       "      <td>508</td>\n",
       "      <td>B-ID_NUM</td>\n",
       "      <td>O</td>\n",
       "    </tr>\n",
       "    <tr>\n",
       "      <th>47</th>\n",
       "      <td>5</td>\n",
       "      <td>▁Team</td>\n",
       "      <td>O</td>\n",
       "      <td>O</td>\n",
       "    </tr>\n",
       "    <tr>\n",
       "      <th>48</th>\n",
       "      <td>”</td>\n",
       "      <td>:</td>\n",
       "      <td>O</td>\n",
       "      <td>O</td>\n",
       "    </tr>\n",
       "    <tr>\n",
       "      <th>49</th>\n",
       "      <td></td>\n",
       "      <td>▁“</td>\n",
       "      <td>O</td>\n",
       "      <td>O</td>\n",
       "    </tr>\n",
       "    <tr>\n",
       "      <th>50</th>\n",
       "      <td>530670102508</td>\n",
       "      <td>CSE</td>\n",
       "      <td>O</td>\n",
       "      <td>B-ID_NUM</td>\n",
       "    </tr>\n",
       "    <tr>\n",
       "      <th>51</th>\n",
       "      <td>-</td>\n",
       "      <td>▁AIM</td>\n",
       "      <td>O</td>\n",
       "      <td>O</td>\n",
       "    </tr>\n",
       "    <tr>\n",
       "      <th>52</th>\n",
       "      <td></td>\n",
       "      <td>L</td>\n",
       "      <td>O</td>\n",
       "      <td>O</td>\n",
       "    </tr>\n",
       "    <tr>\n",
       "      <th>53</th>\n",
       "      <td>Tino</td>\n",
       "      <td>▁group</td>\n",
       "      <td>O</td>\n",
       "      <td>B-NAME_STUDENT</td>\n",
       "    </tr>\n",
       "    <tr>\n",
       "      <th>54</th>\n",
       "      <td>Swetha</td>\n",
       "      <td>▁5</td>\n",
       "      <td>O</td>\n",
       "      <td>I-NAME_STUDENT</td>\n",
       "    </tr>\n",
       "    <tr>\n",
       "      <th>55</th>\n",
       "      <td></td>\n",
       "      <td>▁</td>\n",
       "      <td>O</td>\n",
       "      <td>O</td>\n",
       "    </tr>\n",
       "    <tr>\n",
       "      <th>56</th>\n",
       "      <td>875673967537</td>\n",
       "      <td>”</td>\n",
       "      <td>O</td>\n",
       "      <td>B-ID_NUM</td>\n",
       "    </tr>\n",
       "    <tr>\n",
       "      <th>57</th>\n",
       "      <td>-</td>\n",
       "      <td>▁530</td>\n",
       "      <td>B-ID_NUM</td>\n",
       "      <td>O</td>\n",
       "    </tr>\n",
       "    <tr>\n",
       "      <th>58</th>\n",
       "      <td></td>\n",
       "      <td>670</td>\n",
       "      <td>B-ID_NUM</td>\n",
       "      <td>O</td>\n",
       "    </tr>\n",
       "    <tr>\n",
       "      <th>59</th>\n",
       "      <td>SSRK</td>\n",
       "      <td>[SEP]</td>\n",
       "      <td>O</td>\n",
       "      <td>O</td>\n",
       "    </tr>\n",
       "  </tbody>\n",
       "</table>\n",
       "</div>"
      ],
      "text/plain": [
       "                            original       decoded tokenized_labels  \\\n",
       "0                            Date:14         [CLS]                O   \n",
       "1                                  -         ▁Date                O   \n",
       "2                                 09             :                O   \n",
       "3                                  -            14                O   \n",
       "4                               2021             -                O   \n",
       "5                               \\n\\n            09                O   \n",
       "6                               NEWS             -                O   \n",
       "7                              PAPER          2021                O   \n",
       "8                               \\n\\n         ▁NEWS                O   \n",
       "9                            Project        ▁PAPER                O   \n",
       "10                                 :      ▁Project                O   \n",
       "11                              News             :                O   \n",
       "12                             Paper         ▁News                O   \n",
       "13                         Designing        ▁Paper                O   \n",
       "14                                      ▁Designing                O   \n",
       "15                       Interviewer  ▁Interviewer                O   \n",
       "16                              Name         ▁Name                O   \n",
       "17                                 :            ▁:                O   \n",
       "18                                        ▁Gabriel   B-NAME_STUDENT   \n",
       "19                           Gabriel        ▁Bravo   I-NAME_STUDENT   \n",
       "20                             Bravo  ▁Interviewer                O   \n",
       "21                                            ▁Pin                O   \n",
       "22                       Interviewer            No                O   \n",
       "23                             PinNo            ▁:                O   \n",
       "24                                 :          ▁860         B-ID_NUM   \n",
       "25                                             632         B-ID_NUM   \n",
       "26                      860632713425           713         B-ID_NUM   \n",
       "27                                             425         B-ID_NUM   \n",
       "28                       Interviewee    ▁Interview                O   \n",
       "29                              Name            ee                O   \n",
       "30                                 :         ▁Name                O   \n",
       "31                                              ▁:                O   \n",
       "32                          Hlengiwe            ▁H   B-NAME_STUDENT   \n",
       "33                            Swetha          leng   B-NAME_STUDENT   \n",
       "34                                               i   B-NAME_STUDENT   \n",
       "35                       Interviewee            we   B-NAME_STUDENT   \n",
       "36                             PinNo         ▁Swet   I-NAME_STUDENT   \n",
       "37                                 :            ha   I-NAME_STUDENT   \n",
       "38                                      ▁Interview                O   \n",
       "39                      530670102508            ee                O   \n",
       "40                                            ▁Pin                O   \n",
       "41                              Team            No                O   \n",
       "42                                 :            ▁:                O   \n",
       "43                                 “          ▁530         B-ID_NUM   \n",
       "44                               CSE           670         B-ID_NUM   \n",
       "45                              AIML           102         B-ID_NUM   \n",
       "46                             group           508         B-ID_NUM   \n",
       "47                                 5         ▁Team                O   \n",
       "48                                 ”             :                O   \n",
       "49                                              ▁“                O   \n",
       "50                      530670102508           CSE                O   \n",
       "51                                 -          ▁AIM                O   \n",
       "52                                               L                O   \n",
       "53                              Tino        ▁group                O   \n",
       "54                            Swetha            ▁5                O   \n",
       "55                                               ▁                O   \n",
       "56                      875673967537             ”                O   \n",
       "57                                 -          ▁530         B-ID_NUM   \n",
       "58                                             670         B-ID_NUM   \n",
       "59                              SSRK         [SEP]                O   \n",
       "\n",
       "   original_labels  \n",
       "0                O  \n",
       "1                O  \n",
       "2                O  \n",
       "3                O  \n",
       "4                O  \n",
       "5                O  \n",
       "6                O  \n",
       "7                O  \n",
       "8                O  \n",
       "9                O  \n",
       "10               O  \n",
       "11               O  \n",
       "12               O  \n",
       "13               O  \n",
       "14               O  \n",
       "15               O  \n",
       "16               O  \n",
       "17               O  \n",
       "18               O  \n",
       "19  B-NAME_STUDENT  \n",
       "20  I-NAME_STUDENT  \n",
       "21               O  \n",
       "22               O  \n",
       "23               O  \n",
       "24               O  \n",
       "25               O  \n",
       "26        B-ID_NUM  \n",
       "27               O  \n",
       "28               O  \n",
       "29               O  \n",
       "30               O  \n",
       "31               O  \n",
       "32  B-NAME_STUDENT  \n",
       "33  I-NAME_STUDENT  \n",
       "34               O  \n",
       "35               O  \n",
       "36               O  \n",
       "37               O  \n",
       "38               O  \n",
       "39        B-ID_NUM  \n",
       "40               O  \n",
       "41               O  \n",
       "42               O  \n",
       "43               O  \n",
       "44               O  \n",
       "45               O  \n",
       "46               O  \n",
       "47               O  \n",
       "48               O  \n",
       "49               O  \n",
       "50        B-ID_NUM  \n",
       "51               O  \n",
       "52               O  \n",
       "53  B-NAME_STUDENT  \n",
       "54  I-NAME_STUDENT  \n",
       "55               O  \n",
       "56        B-ID_NUM  \n",
       "57               O  \n",
       "58               O  \n",
       "59               O  "
      ]
     },
     "execution_count": 500,
     "metadata": {},
     "output_type": "execute_result"
    }
   ],
   "source": [
    "df"
   ]
  },
  {
   "cell_type": "code",
   "execution_count": 501,
   "metadata": {},
   "outputs": [
    {
     "name": "stdout",
     "output_type": "stream",
     "text": [
      "keys dict_keys(['document', 'full_text', 'tokens', 'trailing_whitespace', 'labels'])\n",
      "document id 470\n",
      "('Daniel', 'B-NAME_STUDENT')\n",
      "****************************************************************************************************\n",
      "input_ids [1, 4113, 45730, 377, 4735, 16508, 6738, 5365, 77529, 268, 300, 273, 276, 358, 266, 1034, 265, 312, 1416, 276, 268, 5950, 2049, 2307, 263, 316, 1719, 269, 264, 1300, 316, 2155, 265, 1117, 2422, 267, 556, 264, 286, 1761, 380, 263, 5645, 270, 1779, 264, 262, 1099, 260, 581, 1117, 2475, 303, 266, 813, 265, 3248, 261, 399, 301, 3355, 275, 266, 3856, 265, 1157, 277, 266, 12962, 1599, 261, 275, 2407, 475, 6100, 260, 279, 374, 269, 1466, 261, 301, 516, 676, 266, 1327, 264, 993, 316, 1117, 5384, 583, 266, 996, 326, 261, 385, 262, 513, 265, 262, 3983, 301, 286, 637, 2784, 270, 3275, 267, 262, 410, 628, 384, 260, 14700, 581, 511, 303, 17699, 656, 1028, 478, 347, 587, 1291, 1415, 260, 345, 281, 615, 264, 2062, 266, 310, 15788, 263, 1287, 1779, 270, 462, 2510, 263, 262, 1099, 260, 344, 1042, 1169, 261, 262, 2529, 265, 1101, 269, 491, 2149, 270, 381, 264, 2716, 2510, 267, 262, 410, 2918, 1040, 265, 374, 2475, 261, 267, 316, 571, 346, 5769, 260, 5736, 581, 362, 1101, 2529, 517, 261, 301, 636, 277, 262, 3983, 3344, 265, 15180, 316, 1117, 568, 260, 344, 262, 410, 384, 261, 301, 849, 264, 398, 337, 301, 387, 1730, 316, 3344, 263, 2422, 264, 7052, 262, 1870, 265, 3699, 35122, 1205, 264, 316, 374, 287, 2102, 738, 261, 3315, 366, 17029, 261, 965, 260, 285, 261, 267, 299, 1622, 264, 638, 310, 15788, 260, 329, 3457, 316, 9979, 272, 1730, 263, 5938, 332, 262, 872, 2884, 265, 316, 11715, 1719, 260, 581, 2140, 6807, 316, 374, 511, 267, 405, 266, 384, 272, 448, 2802, 303, 1761, 19379, 267, 448, 568, 261, 324, 313, 8289, 326, 895, 283, 371, 283, 262, 895, 265, 35122, 1205, 260, 1060, 261, 301, 700, 390, 266, 1122, 263, 5938, 265, 1000, 264, 1730, 316, 3344, 263, 2422, 267, 266, 310, 15788, 384, 260, 606, 3315, 413, 470, 469, 9334, 538, 261, 264, 2520, 316, 793, 263, 1040, 353, 1000, 260, 345, 1256, 264, 1750, 266, 2419, 275, 266, 913, 3175, 265, 316, 353, 261, 310, 17970, 2422, 840, 24910, 260, 344, 316, 567, 1101, 2529, 261, 301, 2282, 277, 646, 7510, 314, 316, 3344, 263, 7523, 260, 344, 908, 261, 316, 2395, 265, 517, 275, 340, 2339, 263, 2395, 265, 1101, 268, 2238, 272, 262, 3786, 263, 24910, 263, 1117, 332, 961, 76799, 970, 264, 1935, 260, 22459, 486, 4422, 262, 1101, 564, 1637, 261, 316, 511, 2723, 316, 29284, 263, 972, 1527, 264, 1010, 260, 344, 908, 261, 301, 708, 314, 262, 1256, 793, 261, 10006, 272, 266, 310, 15788, 1218, 338, 1300, 316, 5769, 11715, 263, 272, 316, 511, 263, 262, 872, 6998, 338, 282, 817, 615, 264, 262, 353, 58596, 265, 3344, 263, 2422, 260, 581, 609, 793, 332, 266, 480, 467, 354, 301, 6853, 294, 438, 316, 511, 284, 615, 263, 6626, 264, 18307, 3344, 263, 2422, 261, 262, 872, 6998, 267, 262, 2049, 263, 607, 2307, 961, 24793, 353, 1117, 7423, 260, 581, 511, 296, 950, 1078, 291, 4524, 263, 6414, 278, 2]\n",
      "('▁Daniel', 'B-NAME_STUDENT')\n",
      "\n",
      "\n",
      "\n",
      "\n",
      "\n",
      "\n",
      "keys dict_keys(['document', 'full_text', 'tokens', 'trailing_whitespace', 'labels'])\n",
      "document id 472\n",
      "('Suhag', 'B-NAME_STUDENT')\n",
      "('Shah', 'I-NAME_STUDENT')\n",
      "('https://youtu.be/rFD2lJuvace', 'B-URL_PERSONAL')\n",
      "****************************************************************************************************\n",
      "input_ids [1, 118697, 17884, 377, 43121, 1193, 108749, 93082, 948, 11209, 71559, 1715, 280, 268, 688, 594, 269, 1344, 2922, 260, 279, 1459, 265, 21958, 269, 299, 905, 271, 1371, 1105, 260, 420, 262, 6948, 265, 3628, 262, 423, 3050, 390, 291, 1759, 1459, 269, 3899, 11344, 271, 11129, 2498, 19752, 260, 279, 112032, 473, 267, 561, 276, 268, 21958, 9102, 1006, 808, 334, 377, 1738, 264, 623, 346, 10267, 934, 271, 55686, 268, 346, 363, 380, 265, 46329, 346, 298, 609, 271, 1445, 346, 86024, 514, 346, 363, 5774, 2949, 492, 263, 298, 1166, 60343, 1950, 260, 443, 281, 2053, 265, 2592, 272, 281, 839, 886, 264, 5213, 266, 3050, 493, 263, 1928, 2866, 266, 7636, 4619, 264, 413, 266, 493, 271, 27139, 1129, 260, 344, 405, 266, 5097, 261, 1512, 262, 423, 14936, 268, 264, 12008, 311, 276, 268, 1471, 9795, 296, 365, 349, 1457, 321, 292, 262, 12107, 265, 6549, 321, 343, 270, 266, 7636, 4619, 264, 1003, 292, 260, 3780, 269, 266, 397, 2434, 264, 4105, 493, 260, 420, 348, 3780, 41182, 17608, 23820, 277, 359, 451, 296, 298, 527, 262, 7636, 4619, 618, 439, 314, 299, 12031, 264, 365, 266, 2219, 4291, 265, 308, 1068, 263, 1188, 260, 471, 261, 262, 735, 269, 5774, 263, 262, 763, 1327, 461, 269, 28243, 267, 763, 9822, 2348, 260, 502, 861, 267, 266, 14199, 3426, 267, 857, 2565, 267, 21958, 299, 1056, 261, 262, 410, 384, 264, 861, 267, 16049, 1239, 269, 293, 478, 11712, 260, 109276, 279, 1719, 265, 2864, 6350, 266, 115044, 387, 282, 493, 5007, 293, 44230, 116069, 90671, 476, 30183, 260, 414, 363, 493, 384, 354, 264, 848, 262, 447, 753, 609, 271, 4833, 1497, 265, 12107, 265, 1500, 390, 262, 380, 262, 17543, 271, 7982, 1835, 835, 1327, 510, 1218, 260, 67948, 463, 835, 8130, 261, 262, 4143, 265, 14355, 411, 2960, 293, 299, 1416, 281, 379, 459, 260, 559, 380, 265, 835, 267, 262, 7588, 754, 261, 266, 509, 265, 10248, 281, 277, 262, 60848, 263, 1928, 295, 276, 297, 282, 6935, 260, 279, 362, 263, 10926, 539, 12024, 269, 262, 3780, 41182, 17608, 5858, 260, 559, 311, 276, 268, 451, 3780, 93252, 261, 311, 296, 350, 299, 19752, 761, 271, 13301, 275, 308, 688, 1004, 260, 329, 269, 262, 410, 384, 270, 688, 15032, 264, 7002, 308, 4938, 1579, 262, 4070, 265, 266, 1471, 1089, 4247, 260, 279, 3780, 41182, 17608, 5858, 1279, 7636, 5231, 264, 398, 263, 1275, 13231, 261, 3042, 292, 646, 266, 551, 270, 361, 311, 910, 1147, 260, 559, 1252, 4070, 265, 23674, 5917, 750, 261, 3780, 41182, 17608, 23820, 269, 446, 264, 282, 262, 410, 353, 12024, 267, 262, 5108, 754, 260, 5668, 116069, 90671, 476, 30183, 260, 7518, 750, 276, 268, 261, 9795, 276, 268, 281, 493, 1992, 390, 8489, 93252, 260, 329, 12213, 296, 282, 1344, 5378, 283, 278, 296, 2604, 262, 688, 271, 58976, 283, 266, 850, 4083, 260, 329, 1218, 295, 282, 757, 283, 262, 362, 465, 265, 299, 2109, 377, 319, 269, 264, 4506, 14734, 260, 1184, 261, 335, 266, 688, 271, 58976, 2]\n",
      "('▁Suha', 'B-NAME_STUDENT')\n",
      "('g', 'B-NAME_STUDENT')\n",
      "('▁Shah', 'I-NAME_STUDENT')\n",
      "\n",
      "\n",
      "\n",
      "\n",
      "\n",
      "\n",
      "keys dict_keys(['document', 'full_text', 'tokens', 'trailing_whitespace', 'labels'])\n",
      "document id 591\n",
      "('Eina', 'B-NAME_STUDENT')\n",
      "('Nazim', 'I-NAME_STUDENT')\n",
      "****************************************************************************************************\n",
      "input_ids [1, 2169, 12103, 829, 6570, 10794, 358, 11134, 45730, 377, 5372, 37812, 6738, 429, 14700, 273, 286, 427, 347, 265, 262, 1415, 319, 269, 1897, 267, 2169, 1291, 44337, 500, 51146, 263, 12629, 28771, 263, 5030, 1376, 2820, 260, 344, 291, 6817, 273, 338, 334, 264, 752, 312, 1101, 268, 275, 1936, 264, 478, 5372, 2757, 283, 266, 1637, 260, 273, 481, 1249, 1567, 2981, 1416, 267, 17770, 6288, 587, 2939, 587, 7530, 261, 775, 264, 1739, 2064, 947, 263, 1592, 1099, 1517, 301, 286, 266, 4145, 265, 8944, 42293, 462, 10929, 263, 3225, 267, 1481, 1599, 260, 463, 2481, 265, 514, 263, 1337, 1423, 514, 911, 27500, 262, 896, 1424, 263, 327, 1881, 262, 13249, 270, 262, 1099, 272, 301, 281, 560, 277, 262, 423, 947, 263, 282, 526, 264, 3634, 6423, 2159, 2070, 261, 273, 286, 427, 697, 2757, 3395, 267, 459, 1517, 1192, 264, 3443, 262, 735, 263, 327, 29467, 275, 262, 406, 264, 406, 4980, 265, 262, 1099, 263, 361, 316, 1327, 295, 5515, 701, 1340, 267, 7273, 315, 561, 268, 735, 263, 408, 417, 264, 1446, 315, 1522, 19668, 438, 301, 374, 277, 1879, 455, 1384, 1327, 260, 273, 286, 427, 291, 3395, 264, 380, 262, 514, 304, 6277, 264, 262, 406, 264, 406, 735, 265, 262, 3548, 263, 361, 262, 1538, 2760, 303, 1666, 351, 267, 262, 695, 261, 697, 2757, 3395, 1530, 264, 907, 275, 262, 5944, 906, 265, 514, 263, 327, 1530, 267, 7160, 262, 1138, 263, 1591, 1166, 267, 1466, 326, 263, 327, 2088, 262, 886, 12118, 641, 275, 1789, 264, 1044, 262, 1903, 275, 262, 753, 1853, 260, 5736, 263, 22459, 294, 1258, 265, 262, 631, 402, 267, 996, 3315, 399, 274, 286, 264, 2647, 267, 514, 263, 327, 264, 3443, 262, 262, 2008, 264, 487, 262, 2758, 261, 273, 380, 262, 697, 2757, 3395, 319, 1530, 264, 1044, 262, 48140, 265, 262, 976, 263, 262, 2008, 2758, 319, 1530, 264, 861, 262, 1976, 264, 262, 454, 11024, 416, 301, 7174, 267, 264, 262, 514, 1423, 263, 327, 326, 264, 326, 861, 267, 262, 1138, 263, 1591, 264, 487, 262, 498, 1884, 1530, 264, 1044, 262, 7371, 2155, 263, 327, 264, 1166, 4738, 3461, 263, 24671, 283, 858, 390, 262, 2155, 265, 697, 976, 260, 279, 22459, 319, 273, 5056, 324, 659, 636, 277, 262, 2508, 263, 3225, 3315, 399, 273, 286, 427, 291, 3395, 269, 272, 278, 269, 1660, 264, 487, 262, 2758, 261, 350, 886, 1251, 337, 6167, 371, 261, 11314, 265, 478, 291, 337, 298, 619, 4337, 275, 262, 1825, 326, 1680, 1976, 295, 2038, 262, 1251, 263, 327, 23228, 262, 1251, 292, 20256, 265, 2302, 260, 5579, 311, 265, 262, 410, 1637, 264, 350, 12118, 261, 487, 262, 2758, 263, 327, 487, 262, 610, 1355, 263, 1591, 320, 19333, 335, 427, 2864, 260, 17798, 273, 338, 389, 264, 2716, 262, 872, 20256, 263, 3461, 270, 262, 697, 2757, 335, 3378, 275, 1337, 1262, 265, 1976, 261, 267, 1281, 265, 335, 273, 481, 298, 2149, 273, 338, 449, 2829, 264, 380, 697, 2757, 275, 262, 408, 265, 15895, 2]\n",
      "('▁E', 'B-NAME_STUDENT')\n",
      "('ina', 'B-NAME_STUDENT')\n",
      "('▁Nazi', 'I-NAME_STUDENT')\n",
      "('m', 'I-NAME_STUDENT')\n",
      "\n",
      "\n",
      "\n",
      "\n",
      "\n",
      "\n",
      "keys dict_keys(['document', 'full_text', 'tokens', 'trailing_whitespace', 'labels'])\n",
      "document id 607\n",
      "('Mauro', 'B-NAME_STUDENT')\n",
      "('Pacheco', 'I-NAME_STUDENT')\n",
      "****************************************************************************************************\n",
      "input_ids [1, 45730, 377, 53779, 6738, 429, 14700, 53779, 269, 561, 262, 872, 1415, 311, 286, 268, 264, 2655, 290, 1224, 261, 714, 289, 781, 260, 434, 262, 437, 466, 388, 261, 273, 276, 415, 331, 1190, 267, 2874, 1205, 261, 7556, 2282, 277, 21810, 260, 344, 556, 264, 796, 361, 264, 493, 4105, 262, 439, 301, 849, 316, 1976, 264, 799, 301, 921, 2510, 375, 841, 294, 339, 21810, 281, 1408, 267, 261, 263, 361, 306, 7772, 439, 260, 279, 10007, 1938, 381, 272, 306, 281, 310, 2608, 264, 7772, 439, 335, 269, 744, 293, 760, 267, 262, 2475, 265, 266, 697, 261, 270, 738, 261, 301, 1053, 266, 1288, 993, 267, 100023, 1525, 272, 3550, 314, 2671, 808, 334, 13842, 261, 3252, 263, 820, 261, 263, 306, 332, 379, 1473, 267, 308, 4161, 260, 5736, 345, 1216, 264, 848, 316, 697, 283, 316, 872, 2874, 1637, 260, 2650, 265, 1605, 314, 1042, 820, 261, 301, 696, 262, 2540, 2982, 2757, 316, 753, 820, 260, 2306, 402, 1605, 314, 1739, 13677, 261, 301, 3550, 314, 316, 753, 2070, 263, 39798, 260, 581, 2141, 1181, 3324, 263, 262, 1730, 265, 2274, 263, 598, 9818, 260, 345, 332, 17325, 1605, 314, 609, 808, 261, 1101, 314, 361, 820, 387, 408, 381, 5013, 316, 2070, 293, 1101, 292, 278, 260, 1811, 379, 539, 3322, 269, 272, 301, 4261, 262, 2754, 264, 286, 266, 2540, 275, 381, 261, 283, 21810, 281, 324, 427, 264, 333, 267, 728, 806, 261, 301, 1255, 349, 299, 1062, 264, 848, 308, 1497, 260, 22459, 429, 17798, 2279, 269, 266, 3341, 568, 261, 263, 275, 469, 2371, 301, 403, 797, 266, 493, 384, 264, 333, 278, 260, 10380, 261, 3972, 1082, 269, 625, 615, 264, 1028, 260, 581, 793, 553, 272, 261, 335, 4422, 11712, 2244, 264, 1082, 261, 3698, 7401, 263, 598, 281, 310, 615, 264, 799, 260, 927, 2757, 316, 697, 301, 1181, 3691, 264, 262, 2754, 261, 263, 306, 332, 1408, 267, 2358, 339, 301, 330, 264, 504, 260, 1366, 38261, 261, 301, 332, 526, 264, 2607, 272, 306, 330, 266, 509, 264, 504, 461, 263, 306, 3164, 272, 306, 1322, 310, 354, 339, 306, 708, 314, 262, 4225, 301, 332, 1605, 314, 790, 261, 273, 374, 267, 299, 2666, 2140, 1022, 260, 6550, 291, 586, 273, 284, 298, 526, 264, 398, 262, 380, 265, 291, 3395, 264, 312, 353, 688, 260, 329, 586, 1614, 351, 264, 493, 796, 361, 273, 295, 380, 2244, 292, 467, 9126, 264, 676, 310, 11412, 1254, 270, 262, 7793, 273, 2059, 260, 273, 428, 587, 1291, 261, 267, 2254, 275, 2205, 2244, 265, 663, 895, 261, 296, 1052, 381, 264, 676, 1309, 272, 7052, 493, 264, 262, 353, 1901, 265, 262, 447, 260, 61740, 79002, 2]\n",
      "('▁Mauro', 'B-NAME_STUDENT')\n",
      "('▁Pacheco', 'I-NAME_STUDENT')\n",
      "\n",
      "\n",
      "\n",
      "\n",
      "\n",
      "\n",
      "keys dict_keys(['document', 'full_text', 'tokens', 'trailing_whitespace', 'labels'])\n",
      "document id 609\n",
      "('Gabriel', 'B-NAME_STUDENT')\n",
      "('Bravo', 'I-NAME_STUDENT')\n",
      "('860632713425', 'B-ID_NUM')\n",
      "('Hlengiwe', 'B-NAME_STUDENT')\n",
      "('Swetha', 'I-NAME_STUDENT')\n",
      "('530670102508', 'B-ID_NUM')\n",
      "('530670102508', 'B-ID_NUM')\n",
      "('Tino', 'B-NAME_STUDENT')\n",
      "('Swetha', 'I-NAME_STUDENT')\n",
      "('875673967537', 'B-ID_NUM')\n",
      "('860632713425', 'B-ID_NUM')\n",
      "('Tino', 'B-NAME_STUDENT')\n",
      "('Lopez', 'I-NAME_STUDENT')\n",
      "('557349702179', 'B-ID_NUM')\n",
      "('Swetha', 'B-NAME_STUDENT')\n",
      "('Swetha', 'I-NAME_STUDENT')\n",
      "('784372734211', 'B-ID_NUM')\n",
      "('Alex', 'B-NAME_STUDENT')\n",
      "('Swetha', 'I-NAME_STUDENT')\n",
      "('054176622314', 'B-ID_NUM')\n",
      "('Alex', 'B-NAME_STUDENT')\n",
      "('Bravo', 'I-NAME_STUDENT')\n",
      "('674915248960', 'B-ID_NUM')\n",
      "('Tino', 'B-NAME_STUDENT')\n",
      "('Lopez', 'I-NAME_STUDENT')\n",
      "('Hlengiwe', 'B-NAME_STUDENT')\n",
      "****************************************************************************************************\n",
      "input_ids [1, 6892, 294, 2160, 271, 4505, 271, 66347, 21332, 55526, 2679, 294, 1864, 5711, 24767, 79665, 5445, 877, 12186, 21916, 79665, 9903, 3724, 877, 45925, 48788, 50033, 31342, 14221, 6225, 5445, 877, 1233, 98790, 667, 2837, 94503, 5370, 14221, 6225, 9903, 3724, 877, 30380, 36264, 16886, 41426, 2721, 294, 317, 56139, 33361, 1502, 596, 456, 507, 318, 30380, 36264, 16886, 41426, 341, 94449, 94503, 5370, 70714, 50154, 60088, 45298, 341, 51264, 1301, 20976, 608, 10256, 45925, 48788, 50033, 31342, 341, 94449, 14251, 74214, 34421, 41878, 25490, 341, 94503, 5370, 94503, 5370, 97351, 42364, 51215, 29715, 341, 4283, 94503, 5370, 8985, 41332, 41542, 3304, 2160, 341, 4283, 21916, 287, 11663, 1263, 94221, 54337, 31748, 36368, 341, 94449, 14251, 23619, 341, 376, 9824, 294, 16597, 45132, 955, 264, 262, 5096, 302, 16597, 1768, 274, 632, 4131, 18612, 267, 290, 432, 302, 507, 123982, 273, 481, 1233, 98790, 667, 2837, 292, 66642, 42470, 297, 267, 262, 96309, 35064, 2526, 260, 273, 286, 1797, 312, 11210, 280, 268, 1690, 267, 587, 1291, 293, 2402, 9391, 864, 260, 273, 286, 619, 312, 11210, 280, 268, 1690, 267, 38379, 34565, 46657, 260, 273, 286, 1188, 267, 7153, 261, 2052, 1188, 260, 273, 286, 1103, 288, 79195, 60928, 260, 273, 334, 264, 1300, 312, 1188, 263, 1118, 288, 290, 483, 260, 273, 296, 9013, 274, 272, 273, 296, 553, 312, 1188, 263, 1118, 267, 312, 374, 803, 864, 260, 507, 123982, 273, 3001, 322, 24511, 266, 509, 265, 2070, 515, 273, 284, 266, 3221, 261, 324, 2489, 261, 273, 330, 264, 5013, 16597, 577, 284, 290, 517, 560, 267, 291, 2190, 302, 266, 509, 265, 9111, 264, 350, 264, 399, 273, 481, 394, 260, 507, 123982, 273, 286, 375, 388, 265, 517, 267, 291, 2190, 260, 4822, 267, 291, 2190, 284, 379, 6003, 263, 8923, 261, 273, 284, 526, 264, 66533, 1113, 267, 847, 479, 263, 327, 4179, 266, 509, 265, 1118, 260, 3492, 291, 261, 273, 284, 526, 264, 10700, 312, 1188, 334, 35912, 1188, 261, 24759, 261, 10413, 3596, 261, 5023, 261, 326, 895, 260, 1467, 264, 391, 262, 1128, 697, 294, 16597, 2597, 465, 265, 291, 483, 333, 274, 428, 274, 295, 1340, 267, 423, 557, 302, 16597, 1167, 333, 274, 428, 274, 520, 1340, 291, 1022, 12173, 27189, 2169, 302, 16597, 771, 274, 286, 262, 1241, 3411, 487, 886, 270, 291, 688, 302, 16597, 577, 333, 274, 1997, 560, 275, 355, 328, 36244, 274, 302, 507, 123982, 573, 1188, 281, 262, 410, 7002, 267, 17083, 9479, 260, 507, 123982, 573, 2001, 263, 2297, 4938, 365, 351, 299, 1390, 3050, 270, 291, 1022, 260, 273, 481, 3797, 272, 273, 296, 282, 526, 264, 861, 291, 674, 265, 6238, 264, 291, 985, 260, 304, 370, 9962, 401, 273, 481, 2484, 264, 446, 764, 263, 764, 267, 312, 374, 260, 507, 123982, 463, 301, 391, 356, 1473, 663, 3548, 516, 282, 526, 264, 3634, 947, 261, 428, 10687, 261, 282, 1835, 261, 917, 690, 261, 10663, 261, 263, 4105, 2864, 261, 273, 770, 272, 273, 333, 286, 378, 6686, 267, 351, 260, 507, 123982, 21932, 299, 10783, 2]\n",
      "('▁Gabriel', 'B-NAME_STUDENT')\n",
      "('▁Bravo', 'I-NAME_STUDENT')\n",
      "('▁860', 'B-ID_NUM')\n",
      "('632', 'B-ID_NUM')\n",
      "('713', 'B-ID_NUM')\n",
      "('425', 'B-ID_NUM')\n",
      "('▁H', 'B-NAME_STUDENT')\n",
      "('leng', 'B-NAME_STUDENT')\n",
      "('i', 'B-NAME_STUDENT')\n",
      "('we', 'B-NAME_STUDENT')\n",
      "('▁Swet', 'I-NAME_STUDENT')\n",
      "('ha', 'I-NAME_STUDENT')\n",
      "('▁530', 'B-ID_NUM')\n",
      "('670', 'B-ID_NUM')\n",
      "('102', 'B-ID_NUM')\n",
      "('508', 'B-ID_NUM')\n",
      "('▁530', 'B-ID_NUM')\n",
      "('670', 'B-ID_NUM')\n",
      "('102', 'B-ID_NUM')\n",
      "('508', 'B-ID_NUM')\n",
      "('▁Tino', 'B-NAME_STUDENT')\n",
      "('▁Swet', 'I-NAME_STUDENT')\n",
      "('ha', 'I-NAME_STUDENT')\n",
      "('▁875', 'B-ID_NUM')\n",
      "('673', 'B-ID_NUM')\n",
      "('967', 'B-ID_NUM')\n",
      "('537', 'B-ID_NUM')\n",
      "('▁860', 'B-ID_NUM')\n",
      "('632', 'B-ID_NUM')\n",
      "('713', 'B-ID_NUM')\n",
      "('425', 'B-ID_NUM')\n",
      "('▁Tino', 'B-NAME_STUDENT')\n",
      "('▁Lopez', 'I-NAME_STUDENT')\n",
      "('▁557', 'B-ID_NUM')\n",
      "('349', 'B-ID_NUM')\n",
      "('702', 'B-ID_NUM')\n",
      "('179', 'B-ID_NUM')\n",
      "('▁Swet', 'B-NAME_STUDENT')\n",
      "('ha', 'B-NAME_STUDENT')\n",
      "('▁Swet', 'I-NAME_STUDENT')\n",
      "('ha', 'I-NAME_STUDENT')\n",
      "('▁784', 'B-ID_NUM')\n",
      "('372', 'B-ID_NUM')\n",
      "('734', 'B-ID_NUM')\n",
      "('211', 'B-ID_NUM')\n",
      "('▁Alex', 'B-NAME_STUDENT')\n",
      "('▁Swet', 'I-NAME_STUDENT')\n",
      "('ha', 'I-NAME_STUDENT')\n",
      "('▁05', 'B-ID_NUM')\n",
      "('417', 'B-ID_NUM')\n",
      "('662', 'B-ID_NUM')\n",
      "('23', 'B-ID_NUM')\n",
      "('14', 'B-ID_NUM')\n",
      "('▁Alex', 'B-NAME_STUDENT')\n",
      "('▁Bravo', 'I-NAME_STUDENT')\n",
      "('▁674', 'B-ID_NUM')\n",
      "('915', 'B-ID_NUM')\n",
      "('248', 'B-ID_NUM')\n",
      "('960', 'B-ID_NUM')\n",
      "('▁Tino', 'B-NAME_STUDENT')\n",
      "('▁Lopez', 'I-NAME_STUDENT')\n",
      "('▁H', 'B-NAME_STUDENT')\n",
      "('leng', 'B-NAME_STUDENT')\n",
      "('i', 'B-NAME_STUDENT')\n",
      "('we', 'B-NAME_STUDENT')\n",
      "\n",
      "\n",
      "\n",
      "\n",
      "\n",
      "\n",
      "keys dict_keys(['document', 'full_text', 'tokens', 'trailing_whitespace', 'labels'])\n",
      "document id 616\n",
      "('Mohd', 'B-NAME_STUDENT')\n",
      "('Asim', 'I-NAME_STUDENT')\n",
      "****************************************************************************************************\n",
      "input_ids [1, 69528, 463, 6263, 376, 260, 6738, 294, 23376, 290, 1719, 261, 500, 305, 2193, 439, 260, 344, 312, 985, 283, 5030, 5624, 2140, 261, 273, 7407, 263, 523, 353, 714, 12561, 267, 316, 4510, 260, 573, 985, 269, 264, 282, 262, 7095, 270, 262, 1099, 263, 1065, 1527, 411, 2621, 868, 267, 266, 1453, 517, 270, 262, 1099, 260, 7057, 273, 284, 1429, 267, 264, 5215, 266, 6455, 860, 663, 260, 325, 1190, 560, 275, 266, 1940, 263, 18481, 308, 565, 265, 262, 973, 9833, 1640, 264, 531, 266, 10403, 263, 3672, 4414, 741, 287, 476, 374, 270, 266, 31089, 483, 285, 260, 593, 265, 421, 1205, 272, 284, 19963, 266, 9445, 36112, 300, 643, 266, 477, 3315, 278, 1181, 913, 272, 343, 332, 266, 705, 2372, 292, 2706, 305, 360, 262, 4510, 261, 292, 5030, 2926, 264, 5442, 264, 2295, 260, 1630, 604, 5161, 308, 451, 4120, 537, 364, 1322, 311, 1302, 265, 262, 8264, 260, 3014, 1103, 267, 262, 4510, 270, 360, 466, 388, 267, 266, 12107, 265, 2706, 273, 1199, 272, 343, 332, 266, 509, 265, 2802, 263, 1099, 3106, 6598, 272, 332, 411, 2854, 283, 370, 355, 277, 262, 663, 464, 298, 398, 262, 5095, 52096, 35330, 265, 308, 2706, 260, 4042, 284, 2282, 277, 262, 317, 3125, 369, 318, 3138, 265, 587, 261, 438, 273, 4515, 272, 262, 1943, 4120, 511, 858, 264, 796, 263, 11540, 277, 262, 763, 565, 271, 317, 3125, 273, 268, 260, 318, 463, 1979, 267, 4336, 392, 261, 262, 697, 265, 2235, 263, 21150, 261, 312, 16958, 546, 262, 4510, 284, 2409, 351, 264, 1100, 262, 389, 270, 2062, 1099, 13249, 264, 1168, 5155, 261, 13198, 1604, 263, 2313, 3461, 260, 392, 260, 14700, 294, 273, 330, 1104, 623, 314, 262, 7826, 28771, 1637, 267, 317, 59062, 31861, 318, 293, 2790, 429, 1535, 22421, 260, 273, 1199, 291, 338, 282, 266, 426, 1637, 288, 291, 1484, 265, 262, 663, 515, 312, 1593, 284, 264, 861, 314, 266, 1019, 1507, 265, 262, 1099, 634, 261, 24329, 1977, 261, 2313, 3158, 265, 1062, 263, 1051, 263, 1629, 1168, 5155, 1356, 361, 410, 264, 7900, 291, 663, 260, 287, 34180, 392, 294, 279, 2436, 271, 2276, 271, 19535, 5372, 260, 285, 404, 260, 5736, 294, 23376, 361, 274, 2312, 262, 1637, 274, 2068, 264, 290, 1719, 287, 473, 260, 948, 260, 261, 339, 274, 464, 263, 361, 262, 1637, 284, 2312, 2864, 289, 267, 53960, 285, 260, 1589, 273, 4039, 267, 4964, 339, 7826, 28771, 284, 305, 314, 261, 263, 38883, 427, 278, 386, 631, 267, 312, 753, 432, 438, 89219, 263, 79458, 277, 2770, 947, 261, 273, 330, 518, 427, 278, 288, 374, 260, 273, 1216, 264, 550, 266, 404, 1476, 1122, 275, 305, 262, 6998, 260, 273, 412, 521, 273, 7344, 266, 629, 275, 1337, 881, 5086, 263, 1429, 275, 351, 299, 11720, 265, 467, 6837, 881, 1247, 10085, 260, 643, 7160, 264, 837, 262, 2558, 265, 562, 288, 291, 663, 68050, 261, 462, 292, 299, 2508, 263, 3225, 4538, 261, 273, 921, 837, 264, 1757, 1064, 262, 1238, 265, 262, 2]\n",
      "('▁Mohd', 'B-NAME_STUDENT')\n",
      "('▁As', 'I-NAME_STUDENT')\n",
      "('im', 'I-NAME_STUDENT')\n",
      "\n",
      "\n",
      "\n",
      "\n",
      "\n",
      "\n",
      "keys dict_keys(['document', 'full_text', 'tokens', 'trailing_whitespace', 'labels'])\n",
      "document id 651\n",
      "('Wilson', 'B-NAME_STUDENT')\n",
      "('Syafinaz', 'I-NAME_STUDENT')\n",
      "('Wilson', 'B-NAME_STUDENT')\n",
      "('Syafinaz', 'I-NAME_STUDENT')\n",
      "****************************************************************************************************\n",
      "input_ids [1, 4778, 19093, 52980, 70783, 3902, 1154, 261, 5070, 341, 435, 271, 16408, 5925, 11715, 3143, 287, 36040, 271, 70975, 285, 6738, 273, 481, 1190, 275, 882, 322, 275, 2977, 1000, 275, 266, 511, 264, 18639, 991, 2422, 267, 312, 1416, 260, 581, 9102, 14758, 30490, 378, 353, 1000, 267, 556, 264, 5574, 2070, 272, 488, 322, 267, 262, 1080, 263, 1698, 769, 260, 573, 4500, 265, 374, 1046, 351, 264, 907, 275, 3959, 261, 8224, 261, 263, 5269, 6296, 260, 279, 384, 265, 3650, 262, 1424, 265, 312, 781, 634, 264, 282, 4039, 293, 266, 2000, 271, 28118, 263, 3397, 2008, 265, 1855, 260, 1414, 299, 781, 4998, 262, 4361, 265, 1113, 263, 312, 7295, 261, 278, 303, 264, 10940, 11830, 12394, 293, 266, 511, 265, 6811, 272, 296, 5595, 262, 6581, 6325, 265, 262, 781, 264, 262, 7051, 742, 265, 262, 6581, 832, 260, 14700, 581, 511, 8967, 656, 587, 1291, 2244, 261, 301, 1216, 264, 2216, 262, 1101, 2529, 1637, 260, 345, 10723, 270, 262, 1101, 2529, 1637, 401, 278, 1614, 18891, 264, 1126, 1010, 299, 781, 272, 338, 917, 264, 266, 11013, 260, 5736, 434, 316, 362, 1101, 2529, 261, 301, 9892, 277, 262, 1730, 320, 111571, 265, 316, 6581, 2466, 1484, 10058, 260, 279, 1020, 6581, 7646, 10091, 403, 282, 1223, 267, 266, 1402, 639, 264, 12593, 263, 2714, 264, 262, 1976, 5007, 260, 345, 849, 264, 398, 337, 301, 387, 23314, 262, 11715, 270, 3875, 266, 6581, 292, 262, 1759, 11715, 11122, 260, 279, 763, 11715, 3960, 773, 10227, 294, 376, 285, 29200, 265, 262, 2140, 346, 392, 285, 29200, 293, 262, 6581, 3066, 346, 404, 285, 29200, 265, 2508, 6581, 3710, 346, 453, 285, 29200, 265, 3225, 6581, 3710, 346, 456, 285, 16710, 11127, 265, 262, 6581, 9336, 834, 726, 264, 262, 543, 260, 430, 260, 16408, 263, 4707, 1872, 287, 63681, 12459, 285, 260, 369, 301, 286, 4783, 10227, 261, 393, 301, 296, 286, 9338, 6581, 11715, 261, 319, 2593, 264, 5925, 270, 310, 13352, 1126, 260, 345, 1216, 264, 13932, 10227, 376, 263, 392, 346, 283, 371, 283, 261, 10227, 404, 263, 453, 260, 329, 353, 11013, 1614, 381, 264, 23314, 262, 6581, 11715, 444, 264, 364, 475, 10227, 346, 8801, 294, 376, 285, 29200, 265, 262, 2140, 328, 338, 761, 262, 6581, 3066, 346, 392, 285, 29200, 265, 6581, 3710, 346, 404, 285, 16710, 11127, 265, 262, 6581, 9336, 834, 726, 264, 262, 543, 260, 430, 260, 16408, 263, 4707, 1872, 287, 63681, 12459, 285, 260, 22459, 927, 4422, 262, 1101, 2529, 1637, 261, 316, 511, 284, 526, 264, 1514, 262, 339, 337, 1423, 1808, 265, 262, 587, 1291, 568, 260, 279, 11013, 284, 3457, 390, 6492, 261, 319, 949, 266, 1538, 5148, 264, 262, 6581, 11715, 3017, 260, 6115, 1632, 4820, 284, 11122, 293, 262, 511, 319, 949, 11804, 5148, 264, 262, 889, 263, 1614, 262, 14213, 265, 266, 8725, 11013, 260, 279, 868, 292, 262, 6492, 4776, 11489, 346, 278, 1584, 569, 322, 262, 568, 265, 4422, 270, 263, 3453, 286, 310, 13352, 4126, 267, 266, 6185, 926, 265, 2]\n",
      "('▁Wilson', 'B-NAME_STUDENT')\n",
      "('▁Sy', 'I-NAME_STUDENT')\n",
      "('afi', 'I-NAME_STUDENT')\n",
      "('naz', 'I-NAME_STUDENT')\n",
      "\n",
      "\n",
      "\n",
      "\n",
      "\n",
      "\n",
      "keys dict_keys(['document', 'full_text', 'tokens', 'trailing_whitespace', 'labels'])\n",
      "document id 659\n",
      "('Madina', 'B-NAME_STUDENT')\n",
      "('Eno', 'I-NAME_STUDENT')\n",
      "****************************************************************************************************\n",
      "input_ids [1, 106689, 42977, 6970, 1650, 271, 587, 12103, 270, 8432, 260, 45730, 377, 7826, 28771, 6738, 7826, 8793, 269, 298, 266, 353, 1284, 264, 351, 283, 411, 266, 2679, 2024, 4491, 273, 286, 427, 291, 1637, 263, 303, 331, 478, 2958, 267, 312, 904, 374, 260, 1717, 514, 5227, 270, 353, 1205, 273, 330, 2312, 262, 2244, 265, 1087, 1303, 261, 30490, 261, 791, 8793, 263, 32084, 260, 279, 1719, 273, 1018, 267, 312, 663, 264, 5148, 262, 5850, 265, 2698, 271, 62769, 281, 298, 646, 1487, 293, 262, 872, 6092, 260, 279, 4866, 499, 267, 316, 1759, 492, 269, 272, 262, 872, 6092, 269, 5925, 270, 1904, 269, 886, 264, 3361, 266, 1837, 264, 381, 272, 306, 286, 7485, 305, 262, 3213, 775, 264, 308, 35379, 260, 420, 262, 3761, 10462, 2301, 281, 324, 1288, 261, 262, 25307, 281, 17014, 264, 807, 786, 262, 6092, 303, 3761, 262, 1837, 289, 298, 260, 279, 2204, 284, 744, 264, 351, 263, 273, 2312, 262, 791, 8793, 3395, 293, 5227, 262, 1128, 511, 1190, 267, 10462, 2466, 263, 921, 467, 841, 261, 579, 301, 281, 2367, 264, 807, 261, 361, 301, 295, 1065, 272, 262, 3213, 281, 412, 260, 1717, 262, 2478, 2302, 656, 1000, 1454, 263, 4579, 260, 3954, 2070, 1140, 261, 46452, 261, 4578, 261, 781, 3251, 261, 11013, 263, 1010, 260, 7826, 8793, 1666, 267, 646, 262, 5023, 261, 1291, 261, 511, 374, 263, 460, 260, 14700, 573, 735, 284, 266, 353, 263, 1449, 264, 5197, 1000, 263, 6236, 273, 3537, 291, 791, 8793, 1637, 260, 279, 750, 293, 55175, 1895, 23932, 269, 266, 2337, 270, 312, 1055, 261, 283, 30983, 293, 13470, 9971, 261, 7826, 8793, 269, 311, 265, 262, 370, 1732, 1415, 267, 262, 587, 32554, 280, 268, 32941, 260, 325, 280, 268, 427, 264, 468, 270, 3158, 261, 278, 280, 268, 427, 264, 468, 270, 5155, 261, 272, 917, 264, 310, 1835, 1527, 264, 290, 587, 1719, 260, 344, 312, 1719, 278, 269, 266, 410, 1637, 401, 278, 1255, 262, 1062, 264, 262, 1976, 264, 1805, 321, 361, 262, 511, 295, 1065, 272, 262, 2698, 271, 6260, 263, 1146, 4708, 281, 1487, 293, 262, 872, 6092, 263, 301, 283, 266, 1648, 339, 6628, 264, 1514, 283, 266, 7582, 582, 277, 291, 912, 260, 5736, 279, 2337, 265, 312, 1977, 281, 636, 277, 262, 750, 3011, 412, 293, 55175, 1895, 23932, 261, 4154, 1944, 691, 72593, 689, 260, 279, 587, 1291, 568, 4091, 265, 654, 1884, 261, 339, 269, 1917, 339, 337, 261, 339, 10598, 268, 263, 339, 885, 260, 1717, 339, 269, 261, 301, 2914, 262, 1737, 263, 700, 390, 4422, 262, 587, 1291, 1415, 3936, 262, 654, 339, 276, 268, 260, 279, 362, 311, 377, 339, 269, 294, 271, 339, 269, 317, 17474, 8793, 318, 263, 361, 278, 269, 2312, 267, 316, 571, 7826, 8793, 269, 562, 270, 3158, 263, 5155, 267, 266, 614, 5384, 265, 514, 274, 3422, 482, 290, 6383, 265, 339, 269, 262, 763, 1901, 260, 279, 735, 284, 264, 2313, 293, 25639, 339, 4125, 268, 295, 282, 859, 264, 1065, 3213, 264, 2]\n",
      "('▁Madina', 'B-NAME_STUDENT')\n",
      "('▁Eno', 'I-NAME_STUDENT')\n",
      "\n",
      "\n",
      "\n",
      "\n",
      "\n",
      "\n",
      "keys dict_keys(['document', 'full_text', 'tokens', 'trailing_whitespace', 'labels'])\n",
      "document id 671\n",
      "('Amparo', 'B-NAME_STUDENT')\n",
      "****************************************************************************************************\n",
      "input_ids [1, 2169, 12103, 294, 336, 5913, 17798, 264, 11515, 271, 43275, 5445, 294, 20107, 14644, 38272, 297, 34432, 13945, 2169, 1291, 1507, 262, 857, 634, 1144, 264, 266, 735, 261, 104203, 262, 735, 267, 857, 271, 13699, 1029, 261, 1512, 386, 1000, 267, 30490, 3324, 261, 263, 12766, 266, 1312, 271, 935, 1218, 264, 33360, 263, 2126, 271, 67731, 266, 14343, 1218, 264, 262, 10363, 735, 324, 23462, 351, 34765, 1931, 268, 3191, 608, 13787, 267, 460, 268, 1657, 260, 1765, 1550, 53815, 11341, 372, 605, 6074, 13693, 587, 1291, 260, 266, 2936, 353, 263, 1739, 2000, 271, 7613, 261, 41049, 568, 261, 264, 282, 1579, 262, 834, 4070, 289, 326, 320, 368, 268, 6374, 6074, 10039, 260, 329, 23783, 2111, 888, 266, 2936, 639, 261, 759, 1578, 1218, 264, 267, 35403, 698, 10284, 299, 6006, 265, 587, 3940, 3920, 352, 356, 586, 260, 278, 1537, 5349, 267, 1606, 673, 88181, 3822, 261, 6047, 45539, 40575, 295, 286, 266, 1453, 27594, 1319, 12025, 2891, 587, 1291, 264, 3634, 266, 609, 735, 261, 8634, 283, 7994, 2624, 283, 299, 1476, 265, 938, 326, 260, 329, 1506, 269, 2714, 270, 42935, 3636, 5588, 263, 3665, 99550, 40756, 267, 356, 460, 6376, 260, 279, 2636, 36467, 569, 4178, 741, 261, 47916, 261, 263, 374, 691, 65506, 365, 3638, 297, 639, 264, 57635, 5588, 598, 517, 265, 262, 587, 1291, 568, 260, 4623, 1023, 294, 2169, 1291, 261, 857, 271, 16505, 587, 261, 64267, 12727, 271, 16505, 735, 271, 22292, 260, 3513, 261, 1835, 5719, 1931, 5183, 261, 961, 12100, 568, 261, 1835, 2613, 13249, 261, 1923, 1291, 260, 735, 271, 22292, 261, 104203, 261, 1101, 293, 653, 260, 1636, 67490, 13177, 260, 27259, 19909, 2]\n",
      "('▁Amp', 'B-NAME_STUDENT')\n",
      "('aro', 'B-NAME_STUDENT')\n",
      "\n",
      "\n",
      "\n",
      "\n",
      "\n",
      "\n",
      "keys dict_keys(['document', 'full_text', 'tokens', 'trailing_whitespace', 'labels'])\n",
      "document id 714\n",
      "('Edgar', 'B-NAME_STUDENT')\n",
      "('Lara', 'I-NAME_STUDENT')\n",
      "****************************************************************************************************\n",
      "input_ids [1, 2169, 12103, 377, 17520, 21940, 376, 260, 271, 71559, 2400, 109276, 294, 266, 588, 23015, 1137, 267, 262, 1386, 265, 262, 707, 1403, 880, 359, 727, 1254, 264, 3566, 359, 2473, 267, 556, 264, 993, 359, 3474, 6241, 261, 515, 278, 330, 3663, 29873, 482, 262, 437, 392, 388, 346, 279, 781, 265, 359, 2188, 284, 264, 676, 266, 779, 2473, 270, 572, 283, 262, 23015, 269, 1137, 2936, 828, 264, 375, 797, 4517, 263, 7229, 278, 284, 379, 1019, 270, 1203, 264, 488, 264, 262, 470, 275, 308, 572, 260, 672, 261, 270, 262, 370, 465, 306, 332, 15593, 265, 308, 1203, 261, 304, 306, 464, 298, 7772, 588, 633, 346, 263, 262, 4003, 284, 2635, 321, 267, 340, 1536, 267, 262, 14827, 260, 279, 735, 275, 291, 1364, 284, 272, 1616, 262, 2188, 330, 29284, 314, 319, 4607, 372, 282, 3851, 264, 572, 261, 267, 262, 513, 306, 332, 298, 521, 265, 262, 5483, 306, 338, 286, 704, 306, 332, 277, 262, 2473, 260, 11927, 261, 278, 284, 266, 3983, 264, 6647, 262, 20166, 265, 262, 663, 264, 564, 278, 322, 261, 515, 1031, 9428, 263, 10761, 265, 262, 7825, 264, 365, 278, 310, 3851, 264, 887, 2238, 614, 4813, 261, 319, 269, 579, 278, 284, 539, 264, 993, 262, 674, 265, 3474, 270, 4819, 265, 262, 460, 260, 392, 260, 271, 67948, 294, 11817, 262, 89353, 261, 262, 3714, 1016, 741, 11358, 267, 272, 270, 266, 542, 261, 262, 572, 328, 1916, 262, 7825, 289, 328, 836, 262, 8402, 338, 282, 1619, 264, 1003, 457, 656, 2068, 633, 263, 4607, 319, 306, 338, 370, 334, 264, 2448, 261, 264, 393, 1069, 2781, 277, 262, 2448, 263, 3011, 265, 278, 346, 263, 704, 291, 439, 303, 331, 9337, 261, 1268, 319, 338, 282, 262, 370, 2068, 714, 287, 268, 285, 263, 421, 275, 262, 410, 5809, 264, 800, 264, 262, 2473, 346, 11927, 261, 262, 1045, 1144, 264, 262, 3011, 265, 262, 714, 338, 282, 1403, 264, 282, 310, 3851, 260, 404, 260, 271, 40612, 47485, 429, 111664, 294, 344, 291, 384, 261, 704, 262, 1055, 568, 303, 331, 2635, 321, 263, 275, 266, 2408, 1578, 261, 278, 387, 282, 3034, 292, 262, 362, 1271, 261, 319, 275, 262, 4607, 272, 296, 286, 262, 1793, 263, 4448, 3084, 264, 282, 1403, 267, 308, 1117, 1254, 260, 11927, 261, 390, 262, 439, 3422, 261, 10035, 332, 1403, 1712, 262, 2731, 289, 3822, 346, 11927, 261, 390, 291, 439, 278, 284, 628, 264, 4578, 262, 370, 3851, 3011, 270, 4700, 1187, 263, 267, 291, 384, 2003, 261, 319, 338, 282, 262, 4607, 264, 800, 264, 262, 2473, 346, 1717, 262, 586, 265, 262, 776, 740, 261, 262, 2213, 1592, 359, 13121, 261, 283, 371, 283, 262, 496, 265, 887, 1592, 261, 319, 269, 579, 262, 1055, 265, 262, 2915, 3395, 1255, 262, 1256, 793, 260, 2]\n",
      "('▁Edgar', 'B-NAME_STUDENT')\n",
      "('▁Lara', 'I-NAME_STUDENT')\n",
      "\n",
      "\n",
      "\n",
      "\n",
      "\n",
      "\n"
     ]
    }
   ],
   "source": [
    "# Confirm that alignment is good\n",
    "\n",
    "# run multiple times to see different rows\n",
    "import random\n",
    "\n",
    "data = data[25:35]\n",
    "import pandas as pd\n",
    "df=pd.DataFrame()\n",
    "\n",
    "for x in data:\n",
    "    print(\"keys\", x.keys())\n",
    "    print(\"document id\", x[\"document\"])\n",
    "\n",
    "\n",
    "    token_list = []\n",
    "    for single_token,single_label in zip(x[\"tokens\"], x[\"labels\"]):\n",
    "        if single_label != \"O\":\n",
    "            print((single_token,single_label))\n",
    "\n",
    "    print(\"*\"*100)\n",
    "    input_ids=tokenize(x, tokenizer, label2id, max_length=512)['input_ids']\n",
    "    labels=tokenize(x, tokenizer, label2id, max_length=512)['labels']\n",
    "    print(\"input_ids\", input_ids)\n",
    "    for single_token, single_label in zip(tokenizer.convert_ids_to_tokens(input_ids), labels):\n",
    "        if id2label[single_label] != \"O\":\n",
    "            print((single_token,id2label[single_label]))\n",
    "\n",
    "    print(\"\\n\"*5)"
   ]
  },
  {
   "cell_type": "code",
   "execution_count": 502,
   "metadata": {},
   "outputs": [
    {
     "ename": "NameError",
     "evalue": "name 'ds' is not defined",
     "output_type": "error",
     "traceback": [
      "\u001b[0;31m---------------------------------------------------------------------------\u001b[0m",
      "\u001b[0;31mNameError\u001b[0m                                 Traceback (most recent call last)",
      "Cell \u001b[0;32mIn[502], line 4\u001b[0m\n\u001b[1;32m      1\u001b[0m \u001b[38;5;28;01mimport\u001b[39;00m \u001b[38;5;21;01mmatplotlib\u001b[39;00m\u001b[38;5;21;01m.\u001b[39;00m\u001b[38;5;21;01mpyplot\u001b[39;00m \u001b[38;5;28;01mas\u001b[39;00m \u001b[38;5;21;01mplt\u001b[39;00m\n\u001b[0;32m----> 4\u001b[0m plt\u001b[38;5;241m.\u001b[39mhist(\u001b[43mds\u001b[49m[\u001b[38;5;124m\"\u001b[39m\u001b[38;5;124mlength\u001b[39m\u001b[38;5;124m\"\u001b[39m], bins\u001b[38;5;241m=\u001b[39m\u001b[38;5;241m100\u001b[39m)\n",
      "\u001b[0;31mNameError\u001b[0m: name 'ds' is not defined"
     ]
    }
   ],
   "source": [
    "\n",
    "import matplotlib.pyplot as plt\n",
    "\n",
    "\n",
    "plt.hist(ds[\"length\"], bins=100)"
   ]
  },
  {
   "cell_type": "code",
   "execution_count": null,
   "metadata": {},
   "outputs": [
    {
     "ename": "ValueError",
     "evalue": "Mime type rendering requires nbformat>=4.2.0 but it is not installed",
     "output_type": "error",
     "traceback": [
      "\u001b[1;31m---------------------------------------------------------------------------\u001b[0m",
      "\u001b[1;31mValueError\u001b[0m                                Traceback (most recent call last)",
      "File \u001b[1;32mc:\\Users\\Shadow\\anaconda3\\envs\\mytorch\\lib\\site-packages\\IPython\\core\\formatters.py:922\u001b[0m, in \u001b[0;36mIPythonDisplayFormatter.__call__\u001b[1;34m(self, obj)\u001b[0m\n\u001b[0;32m    920\u001b[0m method \u001b[38;5;241m=\u001b[39m get_real_method(obj, \u001b[38;5;28mself\u001b[39m\u001b[38;5;241m.\u001b[39mprint_method)\n\u001b[0;32m    921\u001b[0m \u001b[38;5;28;01mif\u001b[39;00m method \u001b[38;5;129;01mis\u001b[39;00m \u001b[38;5;129;01mnot\u001b[39;00m \u001b[38;5;28;01mNone\u001b[39;00m:\n\u001b[1;32m--> 922\u001b[0m     \u001b[43mmethod\u001b[49m\u001b[43m(\u001b[49m\u001b[43m)\u001b[49m\n\u001b[0;32m    923\u001b[0m     \u001b[38;5;28;01mreturn\u001b[39;00m \u001b[38;5;28;01mTrue\u001b[39;00m\n",
      "File \u001b[1;32mc:\\Users\\Shadow\\anaconda3\\envs\\mytorch\\lib\\site-packages\\plotly\\basedatatypes.py:832\u001b[0m, in \u001b[0;36mBaseFigure._ipython_display_\u001b[1;34m(self)\u001b[0m\n\u001b[0;32m    829\u001b[0m \u001b[38;5;28;01mimport\u001b[39;00m \u001b[38;5;21;01mplotly\u001b[39;00m\u001b[38;5;21;01m.\u001b[39;00m\u001b[38;5;21;01mio\u001b[39;00m \u001b[38;5;28;01mas\u001b[39;00m \u001b[38;5;21;01mpio\u001b[39;00m\n\u001b[0;32m    831\u001b[0m \u001b[38;5;28;01mif\u001b[39;00m pio\u001b[38;5;241m.\u001b[39mrenderers\u001b[38;5;241m.\u001b[39mrender_on_display \u001b[38;5;129;01mand\u001b[39;00m pio\u001b[38;5;241m.\u001b[39mrenderers\u001b[38;5;241m.\u001b[39mdefault:\n\u001b[1;32m--> 832\u001b[0m     \u001b[43mpio\u001b[49m\u001b[38;5;241;43m.\u001b[39;49m\u001b[43mshow\u001b[49m\u001b[43m(\u001b[49m\u001b[38;5;28;43mself\u001b[39;49m\u001b[43m)\u001b[49m\n\u001b[0;32m    833\u001b[0m \u001b[38;5;28;01melse\u001b[39;00m:\n\u001b[0;32m    834\u001b[0m     \u001b[38;5;28mprint\u001b[39m(\u001b[38;5;28mrepr\u001b[39m(\u001b[38;5;28mself\u001b[39m))\n",
      "File \u001b[1;32mc:\\Users\\Shadow\\anaconda3\\envs\\mytorch\\lib\\site-packages\\plotly\\io\\_renderers.py:394\u001b[0m, in \u001b[0;36mshow\u001b[1;34m(fig, renderer, validate, **kwargs)\u001b[0m\n\u001b[0;32m    389\u001b[0m         \u001b[38;5;28;01mraise\u001b[39;00m \u001b[38;5;167;01mValueError\u001b[39;00m(\n\u001b[0;32m    390\u001b[0m             \u001b[38;5;124m\"\u001b[39m\u001b[38;5;124mMime type rendering requires ipython but it is not installed\u001b[39m\u001b[38;5;124m\"\u001b[39m\n\u001b[0;32m    391\u001b[0m         )\n\u001b[0;32m    393\u001b[0m     \u001b[38;5;28;01mif\u001b[39;00m \u001b[38;5;129;01mnot\u001b[39;00m nbformat \u001b[38;5;129;01mor\u001b[39;00m Version(nbformat\u001b[38;5;241m.\u001b[39m__version__) \u001b[38;5;241m<\u001b[39m Version(\u001b[38;5;124m\"\u001b[39m\u001b[38;5;124m4.2.0\u001b[39m\u001b[38;5;124m\"\u001b[39m):\n\u001b[1;32m--> 394\u001b[0m         \u001b[38;5;28;01mraise\u001b[39;00m \u001b[38;5;167;01mValueError\u001b[39;00m(\n\u001b[0;32m    395\u001b[0m             \u001b[38;5;124m\"\u001b[39m\u001b[38;5;124mMime type rendering requires nbformat>=4.2.0 but it is not installed\u001b[39m\u001b[38;5;124m\"\u001b[39m\n\u001b[0;32m    396\u001b[0m         )\n\u001b[0;32m    398\u001b[0m     ipython_display\u001b[38;5;241m.\u001b[39mdisplay(bundle, raw\u001b[38;5;241m=\u001b[39m\u001b[38;5;28;01mTrue\u001b[39;00m)\n\u001b[0;32m    400\u001b[0m \u001b[38;5;66;03m# external renderers\u001b[39;00m\n",
      "\u001b[1;31mValueError\u001b[0m: Mime type rendering requires nbformat>=4.2.0 but it is not installed"
     ]
    },
    {
     "data": {
      "application/vnd.plotly.v1+json": {
       "config": {
        "plotlyServerURL": "https://plot.ly"
       },
       "data": [
        {
         "hovertemplate": "label=B-NAME_STUDENT<br>range=%{x}<br>count=%{y}<extra></extra>",
         "legendgroup": "B-NAME_STUDENT",
         "marker": {
          "color": "#636efa",
          "symbol": "circle"
         },
         "mode": "markers",
         "name": "B-NAME_STUDENT",
         "orientation": "v",
         "showlegend": true,
         "type": "scatter",
         "x": [
          "0-50",
          "200-500",
          "500-1000",
          "1000-2000",
          "50-100",
          "100-200",
          "2000-10000"
         ],
         "xaxis": "x",
         "y": [
          793,
          163,
          283,
          57,
          31,
          33,
          5
         ],
         "yaxis": "y"
        },
        {
         "hovertemplate": "label=I-NAME_STUDENT<br>range=%{x}<br>count=%{y}<extra></extra>",
         "legendgroup": "I-NAME_STUDENT",
         "marker": {
          "color": "#EF553B",
          "symbol": "circle"
         },
         "mode": "markers",
         "name": "I-NAME_STUDENT",
         "orientation": "v",
         "showlegend": true,
         "type": "scatter",
         "x": [
          "0-50",
          "200-500",
          "500-1000",
          "1000-2000",
          "50-100",
          "100-200",
          "2000-10000"
         ],
         "xaxis": "x",
         "y": [
          752,
          86,
          190,
          41,
          16,
          6,
          5
         ],
         "yaxis": "y"
        },
        {
         "hovertemplate": "label=B-URL_PERSONAL<br>range=%{x}<br>count=%{y}<extra></extra>",
         "legendgroup": "B-URL_PERSONAL",
         "marker": {
          "color": "#00cc96",
          "symbol": "circle"
         },
         "mode": "markers",
         "name": "B-URL_PERSONAL",
         "orientation": "v",
         "showlegend": true,
         "type": "scatter",
         "x": [
          "500-1000",
          "0-50",
          "200-500",
          "1000-2000",
          "50-100",
          "2000-10000",
          "100-200"
         ],
         "xaxis": "x",
         "y": [
          32,
          15,
          31,
          15,
          10,
          1,
          6
         ],
         "yaxis": "y"
        },
        {
         "hovertemplate": "label=B-EMAIL<br>range=%{x}<br>count=%{y}<extra></extra>",
         "legendgroup": "B-EMAIL",
         "marker": {
          "color": "#ab63fa",
          "symbol": "circle"
         },
         "mode": "markers",
         "name": "B-EMAIL",
         "orientation": "v",
         "showlegend": true,
         "type": "scatter",
         "x": [
          "0-50",
          "50-100",
          "500-1000",
          "200-500"
         ],
         "xaxis": "x",
         "y": [
          21,
          3,
          6,
          9
         ],
         "yaxis": "y"
        },
        {
         "hovertemplate": "label=B-ID_NUM<br>range=%{x}<br>count=%{y}<extra></extra>",
         "legendgroup": "B-ID_NUM",
         "marker": {
          "color": "#FFA15A",
          "symbol": "circle"
         },
         "mode": "markers",
         "name": "B-ID_NUM",
         "orientation": "v",
         "showlegend": true,
         "type": "scatter",
         "x": [
          "0-50",
          "50-100",
          "500-1000",
          "200-500",
          "100-200"
         ],
         "xaxis": "x",
         "y": [
          37,
          10,
          12,
          17,
          2
         ],
         "yaxis": "y"
        },
        {
         "hovertemplate": "label=I-URL_PERSONAL<br>range=%{x}<br>count=%{y}<extra></extra>",
         "legendgroup": "I-URL_PERSONAL",
         "marker": {
          "color": "#19d3f3",
          "symbol": "circle"
         },
         "mode": "markers",
         "name": "I-URL_PERSONAL",
         "orientation": "v",
         "showlegend": true,
         "type": "scatter",
         "x": [
          "0-50"
         ],
         "xaxis": "x",
         "y": [
          1
         ],
         "yaxis": "y"
        },
        {
         "hovertemplate": "label=B-USERNAME<br>range=%{x}<br>count=%{y}<extra></extra>",
         "legendgroup": "B-USERNAME",
         "marker": {
          "color": "#FF6692",
          "symbol": "circle"
         },
         "mode": "markers",
         "name": "B-USERNAME",
         "orientation": "v",
         "showlegend": true,
         "type": "scatter",
         "x": [
          "50-100",
          "0-50",
          "500-1000"
         ],
         "xaxis": "x",
         "y": [
          1,
          3,
          2
         ],
         "yaxis": "y"
        },
        {
         "hovertemplate": "label=B-PHONE_NUM<br>range=%{x}<br>count=%{y}<extra></extra>",
         "legendgroup": "B-PHONE_NUM",
         "marker": {
          "color": "#B6E880",
          "symbol": "circle"
         },
         "mode": "markers",
         "name": "B-PHONE_NUM",
         "orientation": "v",
         "showlegend": true,
         "type": "scatter",
         "x": [
          "0-50",
          "200-500"
         ],
         "xaxis": "x",
         "y": [
          3,
          3
         ],
         "yaxis": "y"
        },
        {
         "hovertemplate": "label=I-PHONE_NUM<br>range=%{x}<br>count=%{y}<extra></extra>",
         "legendgroup": "I-PHONE_NUM",
         "marker": {
          "color": "#FF97FF",
          "symbol": "circle"
         },
         "mode": "markers",
         "name": "I-PHONE_NUM",
         "orientation": "v",
         "showlegend": true,
         "type": "scatter",
         "x": [
          "0-50",
          "200-500"
         ],
         "xaxis": "x",
         "y": [
          6,
          9
         ],
         "yaxis": "y"
        },
        {
         "hovertemplate": "label=B-STREET_ADDRESS<br>range=%{x}<br>count=%{y}<extra></extra>",
         "legendgroup": "B-STREET_ADDRESS",
         "marker": {
          "color": "#FECB52",
          "symbol": "circle"
         },
         "mode": "markers",
         "name": "B-STREET_ADDRESS",
         "orientation": "v",
         "showlegend": true,
         "type": "scatter",
         "x": [
          "0-50",
          "100-200"
         ],
         "xaxis": "x",
         "y": [
          1,
          1
         ],
         "yaxis": "y"
        },
        {
         "hovertemplate": "label=I-STREET_ADDRESS<br>range=%{x}<br>count=%{y}<extra></extra>",
         "legendgroup": "I-STREET_ADDRESS",
         "marker": {
          "color": "#636efa",
          "symbol": "circle"
         },
         "mode": "markers",
         "name": "I-STREET_ADDRESS",
         "orientation": "v",
         "showlegend": true,
         "type": "scatter",
         "x": [
          "0-50",
          "100-200"
         ],
         "xaxis": "x",
         "y": [
          10,
          10
         ],
         "yaxis": "y"
        },
        {
         "hovertemplate": "label=I-ID_NUM<br>range=%{x}<br>count=%{y}<extra></extra>",
         "legendgroup": "I-ID_NUM",
         "marker": {
          "color": "#EF553B",
          "symbol": "circle"
         },
         "mode": "markers",
         "name": "I-ID_NUM",
         "orientation": "v",
         "showlegend": true,
         "type": "scatter",
         "x": [
          "50-100"
         ],
         "xaxis": "x",
         "y": [
          1
         ],
         "yaxis": "y"
        }
       ],
       "layout": {
        "height": 1000,
        "legend": {
         "title": {
          "text": "label"
         },
         "tracegroupgap": 0
        },
        "margin": {
         "t": 60
        },
        "template": {
         "data": {
          "bar": [
           {
            "error_x": {
             "color": "#2a3f5f"
            },
            "error_y": {
             "color": "#2a3f5f"
            },
            "marker": {
             "line": {
              "color": "#E5ECF6",
              "width": 0.5
             },
             "pattern": {
              "fillmode": "overlay",
              "size": 10,
              "solidity": 0.2
             }
            },
            "type": "bar"
           }
          ],
          "barpolar": [
           {
            "marker": {
             "line": {
              "color": "#E5ECF6",
              "width": 0.5
             },
             "pattern": {
              "fillmode": "overlay",
              "size": 10,
              "solidity": 0.2
             }
            },
            "type": "barpolar"
           }
          ],
          "carpet": [
           {
            "aaxis": {
             "endlinecolor": "#2a3f5f",
             "gridcolor": "white",
             "linecolor": "white",
             "minorgridcolor": "white",
             "startlinecolor": "#2a3f5f"
            },
            "baxis": {
             "endlinecolor": "#2a3f5f",
             "gridcolor": "white",
             "linecolor": "white",
             "minorgridcolor": "white",
             "startlinecolor": "#2a3f5f"
            },
            "type": "carpet"
           }
          ],
          "choropleth": [
           {
            "colorbar": {
             "outlinewidth": 0,
             "ticks": ""
            },
            "type": "choropleth"
           }
          ],
          "contour": [
           {
            "colorbar": {
             "outlinewidth": 0,
             "ticks": ""
            },
            "colorscale": [
             [
              0,
              "#0d0887"
             ],
             [
              0.1111111111111111,
              "#46039f"
             ],
             [
              0.2222222222222222,
              "#7201a8"
             ],
             [
              0.3333333333333333,
              "#9c179e"
             ],
             [
              0.4444444444444444,
              "#bd3786"
             ],
             [
              0.5555555555555556,
              "#d8576b"
             ],
             [
              0.6666666666666666,
              "#ed7953"
             ],
             [
              0.7777777777777778,
              "#fb9f3a"
             ],
             [
              0.8888888888888888,
              "#fdca26"
             ],
             [
              1,
              "#f0f921"
             ]
            ],
            "type": "contour"
           }
          ],
          "contourcarpet": [
           {
            "colorbar": {
             "outlinewidth": 0,
             "ticks": ""
            },
            "type": "contourcarpet"
           }
          ],
          "heatmap": [
           {
            "colorbar": {
             "outlinewidth": 0,
             "ticks": ""
            },
            "colorscale": [
             [
              0,
              "#0d0887"
             ],
             [
              0.1111111111111111,
              "#46039f"
             ],
             [
              0.2222222222222222,
              "#7201a8"
             ],
             [
              0.3333333333333333,
              "#9c179e"
             ],
             [
              0.4444444444444444,
              "#bd3786"
             ],
             [
              0.5555555555555556,
              "#d8576b"
             ],
             [
              0.6666666666666666,
              "#ed7953"
             ],
             [
              0.7777777777777778,
              "#fb9f3a"
             ],
             [
              0.8888888888888888,
              "#fdca26"
             ],
             [
              1,
              "#f0f921"
             ]
            ],
            "type": "heatmap"
           }
          ],
          "heatmapgl": [
           {
            "colorbar": {
             "outlinewidth": 0,
             "ticks": ""
            },
            "colorscale": [
             [
              0,
              "#0d0887"
             ],
             [
              0.1111111111111111,
              "#46039f"
             ],
             [
              0.2222222222222222,
              "#7201a8"
             ],
             [
              0.3333333333333333,
              "#9c179e"
             ],
             [
              0.4444444444444444,
              "#bd3786"
             ],
             [
              0.5555555555555556,
              "#d8576b"
             ],
             [
              0.6666666666666666,
              "#ed7953"
             ],
             [
              0.7777777777777778,
              "#fb9f3a"
             ],
             [
              0.8888888888888888,
              "#fdca26"
             ],
             [
              1,
              "#f0f921"
             ]
            ],
            "type": "heatmapgl"
           }
          ],
          "histogram": [
           {
            "marker": {
             "pattern": {
              "fillmode": "overlay",
              "size": 10,
              "solidity": 0.2
             }
            },
            "type": "histogram"
           }
          ],
          "histogram2d": [
           {
            "colorbar": {
             "outlinewidth": 0,
             "ticks": ""
            },
            "colorscale": [
             [
              0,
              "#0d0887"
             ],
             [
              0.1111111111111111,
              "#46039f"
             ],
             [
              0.2222222222222222,
              "#7201a8"
             ],
             [
              0.3333333333333333,
              "#9c179e"
             ],
             [
              0.4444444444444444,
              "#bd3786"
             ],
             [
              0.5555555555555556,
              "#d8576b"
             ],
             [
              0.6666666666666666,
              "#ed7953"
             ],
             [
              0.7777777777777778,
              "#fb9f3a"
             ],
             [
              0.8888888888888888,
              "#fdca26"
             ],
             [
              1,
              "#f0f921"
             ]
            ],
            "type": "histogram2d"
           }
          ],
          "histogram2dcontour": [
           {
            "colorbar": {
             "outlinewidth": 0,
             "ticks": ""
            },
            "colorscale": [
             [
              0,
              "#0d0887"
             ],
             [
              0.1111111111111111,
              "#46039f"
             ],
             [
              0.2222222222222222,
              "#7201a8"
             ],
             [
              0.3333333333333333,
              "#9c179e"
             ],
             [
              0.4444444444444444,
              "#bd3786"
             ],
             [
              0.5555555555555556,
              "#d8576b"
             ],
             [
              0.6666666666666666,
              "#ed7953"
             ],
             [
              0.7777777777777778,
              "#fb9f3a"
             ],
             [
              0.8888888888888888,
              "#fdca26"
             ],
             [
              1,
              "#f0f921"
             ]
            ],
            "type": "histogram2dcontour"
           }
          ],
          "mesh3d": [
           {
            "colorbar": {
             "outlinewidth": 0,
             "ticks": ""
            },
            "type": "mesh3d"
           }
          ],
          "parcoords": [
           {
            "line": {
             "colorbar": {
              "outlinewidth": 0,
              "ticks": ""
             }
            },
            "type": "parcoords"
           }
          ],
          "pie": [
           {
            "automargin": true,
            "type": "pie"
           }
          ],
          "scatter": [
           {
            "fillpattern": {
             "fillmode": "overlay",
             "size": 10,
             "solidity": 0.2
            },
            "type": "scatter"
           }
          ],
          "scatter3d": [
           {
            "line": {
             "colorbar": {
              "outlinewidth": 0,
              "ticks": ""
             }
            },
            "marker": {
             "colorbar": {
              "outlinewidth": 0,
              "ticks": ""
             }
            },
            "type": "scatter3d"
           }
          ],
          "scattercarpet": [
           {
            "marker": {
             "colorbar": {
              "outlinewidth": 0,
              "ticks": ""
             }
            },
            "type": "scattercarpet"
           }
          ],
          "scattergeo": [
           {
            "marker": {
             "colorbar": {
              "outlinewidth": 0,
              "ticks": ""
             }
            },
            "type": "scattergeo"
           }
          ],
          "scattergl": [
           {
            "marker": {
             "colorbar": {
              "outlinewidth": 0,
              "ticks": ""
             }
            },
            "type": "scattergl"
           }
          ],
          "scattermapbox": [
           {
            "marker": {
             "colorbar": {
              "outlinewidth": 0,
              "ticks": ""
             }
            },
            "type": "scattermapbox"
           }
          ],
          "scatterpolar": [
           {
            "marker": {
             "colorbar": {
              "outlinewidth": 0,
              "ticks": ""
             }
            },
            "type": "scatterpolar"
           }
          ],
          "scatterpolargl": [
           {
            "marker": {
             "colorbar": {
              "outlinewidth": 0,
              "ticks": ""
             }
            },
            "type": "scatterpolargl"
           }
          ],
          "scatterternary": [
           {
            "marker": {
             "colorbar": {
              "outlinewidth": 0,
              "ticks": ""
             }
            },
            "type": "scatterternary"
           }
          ],
          "surface": [
           {
            "colorbar": {
             "outlinewidth": 0,
             "ticks": ""
            },
            "colorscale": [
             [
              0,
              "#0d0887"
             ],
             [
              0.1111111111111111,
              "#46039f"
             ],
             [
              0.2222222222222222,
              "#7201a8"
             ],
             [
              0.3333333333333333,
              "#9c179e"
             ],
             [
              0.4444444444444444,
              "#bd3786"
             ],
             [
              0.5555555555555556,
              "#d8576b"
             ],
             [
              0.6666666666666666,
              "#ed7953"
             ],
             [
              0.7777777777777778,
              "#fb9f3a"
             ],
             [
              0.8888888888888888,
              "#fdca26"
             ],
             [
              1,
              "#f0f921"
             ]
            ],
            "type": "surface"
           }
          ],
          "table": [
           {
            "cells": {
             "fill": {
              "color": "#EBF0F8"
             },
             "line": {
              "color": "white"
             }
            },
            "header": {
             "fill": {
              "color": "#C8D4E3"
             },
             "line": {
              "color": "white"
             }
            },
            "type": "table"
           }
          ]
         },
         "layout": {
          "annotationdefaults": {
           "arrowcolor": "#2a3f5f",
           "arrowhead": 0,
           "arrowwidth": 1
          },
          "autotypenumbers": "strict",
          "coloraxis": {
           "colorbar": {
            "outlinewidth": 0,
            "ticks": ""
           }
          },
          "colorscale": {
           "diverging": [
            [
             0,
             "#8e0152"
            ],
            [
             0.1,
             "#c51b7d"
            ],
            [
             0.2,
             "#de77ae"
            ],
            [
             0.3,
             "#f1b6da"
            ],
            [
             0.4,
             "#fde0ef"
            ],
            [
             0.5,
             "#f7f7f7"
            ],
            [
             0.6,
             "#e6f5d0"
            ],
            [
             0.7,
             "#b8e186"
            ],
            [
             0.8,
             "#7fbc41"
            ],
            [
             0.9,
             "#4d9221"
            ],
            [
             1,
             "#276419"
            ]
           ],
           "sequential": [
            [
             0,
             "#0d0887"
            ],
            [
             0.1111111111111111,
             "#46039f"
            ],
            [
             0.2222222222222222,
             "#7201a8"
            ],
            [
             0.3333333333333333,
             "#9c179e"
            ],
            [
             0.4444444444444444,
             "#bd3786"
            ],
            [
             0.5555555555555556,
             "#d8576b"
            ],
            [
             0.6666666666666666,
             "#ed7953"
            ],
            [
             0.7777777777777778,
             "#fb9f3a"
            ],
            [
             0.8888888888888888,
             "#fdca26"
            ],
            [
             1,
             "#f0f921"
            ]
           ],
           "sequentialminus": [
            [
             0,
             "#0d0887"
            ],
            [
             0.1111111111111111,
             "#46039f"
            ],
            [
             0.2222222222222222,
             "#7201a8"
            ],
            [
             0.3333333333333333,
             "#9c179e"
            ],
            [
             0.4444444444444444,
             "#bd3786"
            ],
            [
             0.5555555555555556,
             "#d8576b"
            ],
            [
             0.6666666666666666,
             "#ed7953"
            ],
            [
             0.7777777777777778,
             "#fb9f3a"
            ],
            [
             0.8888888888888888,
             "#fdca26"
            ],
            [
             1,
             "#f0f921"
            ]
           ]
          },
          "colorway": [
           "#636efa",
           "#EF553B",
           "#00cc96",
           "#ab63fa",
           "#FFA15A",
           "#19d3f3",
           "#FF6692",
           "#B6E880",
           "#FF97FF",
           "#FECB52"
          ],
          "font": {
           "color": "#2a3f5f"
          },
          "geo": {
           "bgcolor": "white",
           "lakecolor": "white",
           "landcolor": "#E5ECF6",
           "showlakes": true,
           "showland": true,
           "subunitcolor": "white"
          },
          "hoverlabel": {
           "align": "left"
          },
          "hovermode": "closest",
          "mapbox": {
           "style": "light"
          },
          "paper_bgcolor": "white",
          "plot_bgcolor": "#E5ECF6",
          "polar": {
           "angularaxis": {
            "gridcolor": "white",
            "linecolor": "white",
            "ticks": ""
           },
           "bgcolor": "#E5ECF6",
           "radialaxis": {
            "gridcolor": "white",
            "linecolor": "white",
            "ticks": ""
           }
          },
          "scene": {
           "xaxis": {
            "backgroundcolor": "#E5ECF6",
            "gridcolor": "white",
            "gridwidth": 2,
            "linecolor": "white",
            "showbackground": true,
            "ticks": "",
            "zerolinecolor": "white"
           },
           "yaxis": {
            "backgroundcolor": "#E5ECF6",
            "gridcolor": "white",
            "gridwidth": 2,
            "linecolor": "white",
            "showbackground": true,
            "ticks": "",
            "zerolinecolor": "white"
           },
           "zaxis": {
            "backgroundcolor": "#E5ECF6",
            "gridcolor": "white",
            "gridwidth": 2,
            "linecolor": "white",
            "showbackground": true,
            "ticks": "",
            "zerolinecolor": "white"
           }
          },
          "shapedefaults": {
           "line": {
            "color": "#2a3f5f"
           }
          },
          "ternary": {
           "aaxis": {
            "gridcolor": "white",
            "linecolor": "white",
            "ticks": ""
           },
           "baxis": {
            "gridcolor": "white",
            "linecolor": "white",
            "ticks": ""
           },
           "bgcolor": "#E5ECF6",
           "caxis": {
            "gridcolor": "white",
            "linecolor": "white",
            "ticks": ""
           }
          },
          "title": {
           "x": 0.05
          },
          "xaxis": {
           "automargin": true,
           "gridcolor": "white",
           "linecolor": "white",
           "ticks": "",
           "title": {
            "standoff": 15
           },
           "zerolinecolor": "white",
           "zerolinewidth": 2
          },
          "yaxis": {
           "automargin": true,
           "gridcolor": "white",
           "linecolor": "white",
           "ticks": "",
           "title": {
            "standoff": 15
           },
           "zerolinecolor": "white",
           "zerolinewidth": 2
          }
         }
        },
        "xaxis": {
         "anchor": "y",
         "domain": [
          0,
          1
         ],
         "title": {
          "text": "range"
         }
        },
        "yaxis": {
         "anchor": "x",
         "domain": [
          0,
          1
         ],
         "title": {
          "text": "count"
         },
         "type": "log"
        }
       }
      },
      "text/html": [
       "<div>                        <script type=\"text/javascript\">window.PlotlyConfig = {MathJaxConfig: 'local'};</script>\n",
       "        <script charset=\"utf-8\" src=\"https://cdn.plot.ly/plotly-2.27.0.min.js\"></script>                <div id=\"476b7646-0c7d-4182-be42-b9f2d2d56b09\" class=\"plotly-graph-div\" style=\"height:1000px; width:100%;\"></div>            <script type=\"text/javascript\">                                    window.PLOTLYENV=window.PLOTLYENV || {};                                    if (document.getElementById(\"476b7646-0c7d-4182-be42-b9f2d2d56b09\")) {                    Plotly.newPlot(                        \"476b7646-0c7d-4182-be42-b9f2d2d56b09\",                        [{\"hovertemplate\":\"label=B-NAME_STUDENT\\u003cbr\\u003erange=%{x}\\u003cbr\\u003ecount=%{y}\\u003cextra\\u003e\\u003c\\u002fextra\\u003e\",\"legendgroup\":\"B-NAME_STUDENT\",\"marker\":{\"color\":\"#636efa\",\"symbol\":\"circle\"},\"mode\":\"markers\",\"name\":\"B-NAME_STUDENT\",\"orientation\":\"v\",\"showlegend\":true,\"x\":[\"0-50\",\"200-500\",\"500-1000\",\"1000-2000\",\"50-100\",\"100-200\",\"2000-10000\"],\"xaxis\":\"x\",\"y\":[793,163,283,57,31,33,5],\"yaxis\":\"y\",\"type\":\"scatter\"},{\"hovertemplate\":\"label=I-NAME_STUDENT\\u003cbr\\u003erange=%{x}\\u003cbr\\u003ecount=%{y}\\u003cextra\\u003e\\u003c\\u002fextra\\u003e\",\"legendgroup\":\"I-NAME_STUDENT\",\"marker\":{\"color\":\"#EF553B\",\"symbol\":\"circle\"},\"mode\":\"markers\",\"name\":\"I-NAME_STUDENT\",\"orientation\":\"v\",\"showlegend\":true,\"x\":[\"0-50\",\"200-500\",\"500-1000\",\"1000-2000\",\"50-100\",\"100-200\",\"2000-10000\"],\"xaxis\":\"x\",\"y\":[752,86,190,41,16,6,5],\"yaxis\":\"y\",\"type\":\"scatter\"},{\"hovertemplate\":\"label=B-URL_PERSONAL\\u003cbr\\u003erange=%{x}\\u003cbr\\u003ecount=%{y}\\u003cextra\\u003e\\u003c\\u002fextra\\u003e\",\"legendgroup\":\"B-URL_PERSONAL\",\"marker\":{\"color\":\"#00cc96\",\"symbol\":\"circle\"},\"mode\":\"markers\",\"name\":\"B-URL_PERSONAL\",\"orientation\":\"v\",\"showlegend\":true,\"x\":[\"500-1000\",\"0-50\",\"200-500\",\"1000-2000\",\"50-100\",\"2000-10000\",\"100-200\"],\"xaxis\":\"x\",\"y\":[32,15,31,15,10,1,6],\"yaxis\":\"y\",\"type\":\"scatter\"},{\"hovertemplate\":\"label=B-EMAIL\\u003cbr\\u003erange=%{x}\\u003cbr\\u003ecount=%{y}\\u003cextra\\u003e\\u003c\\u002fextra\\u003e\",\"legendgroup\":\"B-EMAIL\",\"marker\":{\"color\":\"#ab63fa\",\"symbol\":\"circle\"},\"mode\":\"markers\",\"name\":\"B-EMAIL\",\"orientation\":\"v\",\"showlegend\":true,\"x\":[\"0-50\",\"50-100\",\"500-1000\",\"200-500\"],\"xaxis\":\"x\",\"y\":[21,3,6,9],\"yaxis\":\"y\",\"type\":\"scatter\"},{\"hovertemplate\":\"label=B-ID_NUM\\u003cbr\\u003erange=%{x}\\u003cbr\\u003ecount=%{y}\\u003cextra\\u003e\\u003c\\u002fextra\\u003e\",\"legendgroup\":\"B-ID_NUM\",\"marker\":{\"color\":\"#FFA15A\",\"symbol\":\"circle\"},\"mode\":\"markers\",\"name\":\"B-ID_NUM\",\"orientation\":\"v\",\"showlegend\":true,\"x\":[\"0-50\",\"50-100\",\"500-1000\",\"200-500\",\"100-200\"],\"xaxis\":\"x\",\"y\":[37,10,12,17,2],\"yaxis\":\"y\",\"type\":\"scatter\"},{\"hovertemplate\":\"label=I-URL_PERSONAL\\u003cbr\\u003erange=%{x}\\u003cbr\\u003ecount=%{y}\\u003cextra\\u003e\\u003c\\u002fextra\\u003e\",\"legendgroup\":\"I-URL_PERSONAL\",\"marker\":{\"color\":\"#19d3f3\",\"symbol\":\"circle\"},\"mode\":\"markers\",\"name\":\"I-URL_PERSONAL\",\"orientation\":\"v\",\"showlegend\":true,\"x\":[\"0-50\"],\"xaxis\":\"x\",\"y\":[1],\"yaxis\":\"y\",\"type\":\"scatter\"},{\"hovertemplate\":\"label=B-USERNAME\\u003cbr\\u003erange=%{x}\\u003cbr\\u003ecount=%{y}\\u003cextra\\u003e\\u003c\\u002fextra\\u003e\",\"legendgroup\":\"B-USERNAME\",\"marker\":{\"color\":\"#FF6692\",\"symbol\":\"circle\"},\"mode\":\"markers\",\"name\":\"B-USERNAME\",\"orientation\":\"v\",\"showlegend\":true,\"x\":[\"50-100\",\"0-50\",\"500-1000\"],\"xaxis\":\"x\",\"y\":[1,3,2],\"yaxis\":\"y\",\"type\":\"scatter\"},{\"hovertemplate\":\"label=B-PHONE_NUM\\u003cbr\\u003erange=%{x}\\u003cbr\\u003ecount=%{y}\\u003cextra\\u003e\\u003c\\u002fextra\\u003e\",\"legendgroup\":\"B-PHONE_NUM\",\"marker\":{\"color\":\"#B6E880\",\"symbol\":\"circle\"},\"mode\":\"markers\",\"name\":\"B-PHONE_NUM\",\"orientation\":\"v\",\"showlegend\":true,\"x\":[\"0-50\",\"200-500\"],\"xaxis\":\"x\",\"y\":[3,3],\"yaxis\":\"y\",\"type\":\"scatter\"},{\"hovertemplate\":\"label=I-PHONE_NUM\\u003cbr\\u003erange=%{x}\\u003cbr\\u003ecount=%{y}\\u003cextra\\u003e\\u003c\\u002fextra\\u003e\",\"legendgroup\":\"I-PHONE_NUM\",\"marker\":{\"color\":\"#FF97FF\",\"symbol\":\"circle\"},\"mode\":\"markers\",\"name\":\"I-PHONE_NUM\",\"orientation\":\"v\",\"showlegend\":true,\"x\":[\"0-50\",\"200-500\"],\"xaxis\":\"x\",\"y\":[6,9],\"yaxis\":\"y\",\"type\":\"scatter\"},{\"hovertemplate\":\"label=B-STREET_ADDRESS\\u003cbr\\u003erange=%{x}\\u003cbr\\u003ecount=%{y}\\u003cextra\\u003e\\u003c\\u002fextra\\u003e\",\"legendgroup\":\"B-STREET_ADDRESS\",\"marker\":{\"color\":\"#FECB52\",\"symbol\":\"circle\"},\"mode\":\"markers\",\"name\":\"B-STREET_ADDRESS\",\"orientation\":\"v\",\"showlegend\":true,\"x\":[\"0-50\",\"100-200\"],\"xaxis\":\"x\",\"y\":[1,1],\"yaxis\":\"y\",\"type\":\"scatter\"},{\"hovertemplate\":\"label=I-STREET_ADDRESS\\u003cbr\\u003erange=%{x}\\u003cbr\\u003ecount=%{y}\\u003cextra\\u003e\\u003c\\u002fextra\\u003e\",\"legendgroup\":\"I-STREET_ADDRESS\",\"marker\":{\"color\":\"#636efa\",\"symbol\":\"circle\"},\"mode\":\"markers\",\"name\":\"I-STREET_ADDRESS\",\"orientation\":\"v\",\"showlegend\":true,\"x\":[\"0-50\",\"100-200\"],\"xaxis\":\"x\",\"y\":[10,10],\"yaxis\":\"y\",\"type\":\"scatter\"},{\"hovertemplate\":\"label=I-ID_NUM\\u003cbr\\u003erange=%{x}\\u003cbr\\u003ecount=%{y}\\u003cextra\\u003e\\u003c\\u002fextra\\u003e\",\"legendgroup\":\"I-ID_NUM\",\"marker\":{\"color\":\"#EF553B\",\"symbol\":\"circle\"},\"mode\":\"markers\",\"name\":\"I-ID_NUM\",\"orientation\":\"v\",\"showlegend\":true,\"x\":[\"50-100\"],\"xaxis\":\"x\",\"y\":[1],\"yaxis\":\"y\",\"type\":\"scatter\"}],                        {\"template\":{\"data\":{\"histogram2dcontour\":[{\"type\":\"histogram2dcontour\",\"colorbar\":{\"outlinewidth\":0,\"ticks\":\"\"},\"colorscale\":[[0.0,\"#0d0887\"],[0.1111111111111111,\"#46039f\"],[0.2222222222222222,\"#7201a8\"],[0.3333333333333333,\"#9c179e\"],[0.4444444444444444,\"#bd3786\"],[0.5555555555555556,\"#d8576b\"],[0.6666666666666666,\"#ed7953\"],[0.7777777777777778,\"#fb9f3a\"],[0.8888888888888888,\"#fdca26\"],[1.0,\"#f0f921\"]]}],\"choropleth\":[{\"type\":\"choropleth\",\"colorbar\":{\"outlinewidth\":0,\"ticks\":\"\"}}],\"histogram2d\":[{\"type\":\"histogram2d\",\"colorbar\":{\"outlinewidth\":0,\"ticks\":\"\"},\"colorscale\":[[0.0,\"#0d0887\"],[0.1111111111111111,\"#46039f\"],[0.2222222222222222,\"#7201a8\"],[0.3333333333333333,\"#9c179e\"],[0.4444444444444444,\"#bd3786\"],[0.5555555555555556,\"#d8576b\"],[0.6666666666666666,\"#ed7953\"],[0.7777777777777778,\"#fb9f3a\"],[0.8888888888888888,\"#fdca26\"],[1.0,\"#f0f921\"]]}],\"heatmap\":[{\"type\":\"heatmap\",\"colorbar\":{\"outlinewidth\":0,\"ticks\":\"\"},\"colorscale\":[[0.0,\"#0d0887\"],[0.1111111111111111,\"#46039f\"],[0.2222222222222222,\"#7201a8\"],[0.3333333333333333,\"#9c179e\"],[0.4444444444444444,\"#bd3786\"],[0.5555555555555556,\"#d8576b\"],[0.6666666666666666,\"#ed7953\"],[0.7777777777777778,\"#fb9f3a\"],[0.8888888888888888,\"#fdca26\"],[1.0,\"#f0f921\"]]}],\"heatmapgl\":[{\"type\":\"heatmapgl\",\"colorbar\":{\"outlinewidth\":0,\"ticks\":\"\"},\"colorscale\":[[0.0,\"#0d0887\"],[0.1111111111111111,\"#46039f\"],[0.2222222222222222,\"#7201a8\"],[0.3333333333333333,\"#9c179e\"],[0.4444444444444444,\"#bd3786\"],[0.5555555555555556,\"#d8576b\"],[0.6666666666666666,\"#ed7953\"],[0.7777777777777778,\"#fb9f3a\"],[0.8888888888888888,\"#fdca26\"],[1.0,\"#f0f921\"]]}],\"contourcarpet\":[{\"type\":\"contourcarpet\",\"colorbar\":{\"outlinewidth\":0,\"ticks\":\"\"}}],\"contour\":[{\"type\":\"contour\",\"colorbar\":{\"outlinewidth\":0,\"ticks\":\"\"},\"colorscale\":[[0.0,\"#0d0887\"],[0.1111111111111111,\"#46039f\"],[0.2222222222222222,\"#7201a8\"],[0.3333333333333333,\"#9c179e\"],[0.4444444444444444,\"#bd3786\"],[0.5555555555555556,\"#d8576b\"],[0.6666666666666666,\"#ed7953\"],[0.7777777777777778,\"#fb9f3a\"],[0.8888888888888888,\"#fdca26\"],[1.0,\"#f0f921\"]]}],\"surface\":[{\"type\":\"surface\",\"colorbar\":{\"outlinewidth\":0,\"ticks\":\"\"},\"colorscale\":[[0.0,\"#0d0887\"],[0.1111111111111111,\"#46039f\"],[0.2222222222222222,\"#7201a8\"],[0.3333333333333333,\"#9c179e\"],[0.4444444444444444,\"#bd3786\"],[0.5555555555555556,\"#d8576b\"],[0.6666666666666666,\"#ed7953\"],[0.7777777777777778,\"#fb9f3a\"],[0.8888888888888888,\"#fdca26\"],[1.0,\"#f0f921\"]]}],\"mesh3d\":[{\"type\":\"mesh3d\",\"colorbar\":{\"outlinewidth\":0,\"ticks\":\"\"}}],\"scatter\":[{\"fillpattern\":{\"fillmode\":\"overlay\",\"size\":10,\"solidity\":0.2},\"type\":\"scatter\"}],\"parcoords\":[{\"type\":\"parcoords\",\"line\":{\"colorbar\":{\"outlinewidth\":0,\"ticks\":\"\"}}}],\"scatterpolargl\":[{\"type\":\"scatterpolargl\",\"marker\":{\"colorbar\":{\"outlinewidth\":0,\"ticks\":\"\"}}}],\"bar\":[{\"error_x\":{\"color\":\"#2a3f5f\"},\"error_y\":{\"color\":\"#2a3f5f\"},\"marker\":{\"line\":{\"color\":\"#E5ECF6\",\"width\":0.5},\"pattern\":{\"fillmode\":\"overlay\",\"size\":10,\"solidity\":0.2}},\"type\":\"bar\"}],\"scattergeo\":[{\"type\":\"scattergeo\",\"marker\":{\"colorbar\":{\"outlinewidth\":0,\"ticks\":\"\"}}}],\"scatterpolar\":[{\"type\":\"scatterpolar\",\"marker\":{\"colorbar\":{\"outlinewidth\":0,\"ticks\":\"\"}}}],\"histogram\":[{\"marker\":{\"pattern\":{\"fillmode\":\"overlay\",\"size\":10,\"solidity\":0.2}},\"type\":\"histogram\"}],\"scattergl\":[{\"type\":\"scattergl\",\"marker\":{\"colorbar\":{\"outlinewidth\":0,\"ticks\":\"\"}}}],\"scatter3d\":[{\"type\":\"scatter3d\",\"line\":{\"colorbar\":{\"outlinewidth\":0,\"ticks\":\"\"}},\"marker\":{\"colorbar\":{\"outlinewidth\":0,\"ticks\":\"\"}}}],\"scattermapbox\":[{\"type\":\"scattermapbox\",\"marker\":{\"colorbar\":{\"outlinewidth\":0,\"ticks\":\"\"}}}],\"scatterternary\":[{\"type\":\"scatterternary\",\"marker\":{\"colorbar\":{\"outlinewidth\":0,\"ticks\":\"\"}}}],\"scattercarpet\":[{\"type\":\"scattercarpet\",\"marker\":{\"colorbar\":{\"outlinewidth\":0,\"ticks\":\"\"}}}],\"carpet\":[{\"aaxis\":{\"endlinecolor\":\"#2a3f5f\",\"gridcolor\":\"white\",\"linecolor\":\"white\",\"minorgridcolor\":\"white\",\"startlinecolor\":\"#2a3f5f\"},\"baxis\":{\"endlinecolor\":\"#2a3f5f\",\"gridcolor\":\"white\",\"linecolor\":\"white\",\"minorgridcolor\":\"white\",\"startlinecolor\":\"#2a3f5f\"},\"type\":\"carpet\"}],\"table\":[{\"cells\":{\"fill\":{\"color\":\"#EBF0F8\"},\"line\":{\"color\":\"white\"}},\"header\":{\"fill\":{\"color\":\"#C8D4E3\"},\"line\":{\"color\":\"white\"}},\"type\":\"table\"}],\"barpolar\":[{\"marker\":{\"line\":{\"color\":\"#E5ECF6\",\"width\":0.5},\"pattern\":{\"fillmode\":\"overlay\",\"size\":10,\"solidity\":0.2}},\"type\":\"barpolar\"}],\"pie\":[{\"automargin\":true,\"type\":\"pie\"}]},\"layout\":{\"autotypenumbers\":\"strict\",\"colorway\":[\"#636efa\",\"#EF553B\",\"#00cc96\",\"#ab63fa\",\"#FFA15A\",\"#19d3f3\",\"#FF6692\",\"#B6E880\",\"#FF97FF\",\"#FECB52\"],\"font\":{\"color\":\"#2a3f5f\"},\"hovermode\":\"closest\",\"hoverlabel\":{\"align\":\"left\"},\"paper_bgcolor\":\"white\",\"plot_bgcolor\":\"#E5ECF6\",\"polar\":{\"bgcolor\":\"#E5ECF6\",\"angularaxis\":{\"gridcolor\":\"white\",\"linecolor\":\"white\",\"ticks\":\"\"},\"radialaxis\":{\"gridcolor\":\"white\",\"linecolor\":\"white\",\"ticks\":\"\"}},\"ternary\":{\"bgcolor\":\"#E5ECF6\",\"aaxis\":{\"gridcolor\":\"white\",\"linecolor\":\"white\",\"ticks\":\"\"},\"baxis\":{\"gridcolor\":\"white\",\"linecolor\":\"white\",\"ticks\":\"\"},\"caxis\":{\"gridcolor\":\"white\",\"linecolor\":\"white\",\"ticks\":\"\"}},\"coloraxis\":{\"colorbar\":{\"outlinewidth\":0,\"ticks\":\"\"}},\"colorscale\":{\"sequential\":[[0.0,\"#0d0887\"],[0.1111111111111111,\"#46039f\"],[0.2222222222222222,\"#7201a8\"],[0.3333333333333333,\"#9c179e\"],[0.4444444444444444,\"#bd3786\"],[0.5555555555555556,\"#d8576b\"],[0.6666666666666666,\"#ed7953\"],[0.7777777777777778,\"#fb9f3a\"],[0.8888888888888888,\"#fdca26\"],[1.0,\"#f0f921\"]],\"sequentialminus\":[[0.0,\"#0d0887\"],[0.1111111111111111,\"#46039f\"],[0.2222222222222222,\"#7201a8\"],[0.3333333333333333,\"#9c179e\"],[0.4444444444444444,\"#bd3786\"],[0.5555555555555556,\"#d8576b\"],[0.6666666666666666,\"#ed7953\"],[0.7777777777777778,\"#fb9f3a\"],[0.8888888888888888,\"#fdca26\"],[1.0,\"#f0f921\"]],\"diverging\":[[0,\"#8e0152\"],[0.1,\"#c51b7d\"],[0.2,\"#de77ae\"],[0.3,\"#f1b6da\"],[0.4,\"#fde0ef\"],[0.5,\"#f7f7f7\"],[0.6,\"#e6f5d0\"],[0.7,\"#b8e186\"],[0.8,\"#7fbc41\"],[0.9,\"#4d9221\"],[1,\"#276419\"]]},\"xaxis\":{\"gridcolor\":\"white\",\"linecolor\":\"white\",\"ticks\":\"\",\"title\":{\"standoff\":15},\"zerolinecolor\":\"white\",\"automargin\":true,\"zerolinewidth\":2},\"yaxis\":{\"gridcolor\":\"white\",\"linecolor\":\"white\",\"ticks\":\"\",\"title\":{\"standoff\":15},\"zerolinecolor\":\"white\",\"automargin\":true,\"zerolinewidth\":2},\"scene\":{\"xaxis\":{\"backgroundcolor\":\"#E5ECF6\",\"gridcolor\":\"white\",\"linecolor\":\"white\",\"showbackground\":true,\"ticks\":\"\",\"zerolinecolor\":\"white\",\"gridwidth\":2},\"yaxis\":{\"backgroundcolor\":\"#E5ECF6\",\"gridcolor\":\"white\",\"linecolor\":\"white\",\"showbackground\":true,\"ticks\":\"\",\"zerolinecolor\":\"white\",\"gridwidth\":2},\"zaxis\":{\"backgroundcolor\":\"#E5ECF6\",\"gridcolor\":\"white\",\"linecolor\":\"white\",\"showbackground\":true,\"ticks\":\"\",\"zerolinecolor\":\"white\",\"gridwidth\":2}},\"shapedefaults\":{\"line\":{\"color\":\"#2a3f5f\"}},\"annotationdefaults\":{\"arrowcolor\":\"#2a3f5f\",\"arrowhead\":0,\"arrowwidth\":1},\"geo\":{\"bgcolor\":\"white\",\"landcolor\":\"#E5ECF6\",\"subunitcolor\":\"white\",\"showland\":true,\"showlakes\":true,\"lakecolor\":\"white\"},\"title\":{\"x\":0.05},\"mapbox\":{\"style\":\"light\"}}},\"xaxis\":{\"anchor\":\"y\",\"domain\":[0.0,1.0],\"title\":{\"text\":\"range\"}},\"yaxis\":{\"anchor\":\"x\",\"domain\":[0.0,1.0],\"title\":{\"text\":\"count\"},\"type\":\"log\"},\"legend\":{\"title\":{\"text\":\"label\"},\"tracegroupgap\":0},\"margin\":{\"t\":60},\"height\":1000},                        {\"responsive\": true}                    )                };                            </script>        </div>"
      ],
      "text/plain": [
       "Figure({\n",
       "    'data': [{'hovertemplate': 'label=B-NAME_STUDENT<br>range=%{x}<br>count=%{y}<extra></extra>',\n",
       "              'legendgroup': 'B-NAME_STUDENT',\n",
       "              'marker': {'color': '#636efa', 'symbol': 'circle'},\n",
       "              'mode': 'markers',\n",
       "              'name': 'B-NAME_STUDENT',\n",
       "              'orientation': 'v',\n",
       "              'showlegend': True,\n",
       "              'type': 'scatter',\n",
       "              'x': array(['0-50', '200-500', '500-1000', '1000-2000', '50-100', '100-200',\n",
       "                          '2000-10000'], dtype=object),\n",
       "              'xaxis': 'x',\n",
       "              'y': array([793, 163, 283,  57,  31,  33,   5], dtype=int64),\n",
       "              'yaxis': 'y'},\n",
       "             {'hovertemplate': 'label=I-NAME_STUDENT<br>range=%{x}<br>count=%{y}<extra></extra>',\n",
       "              'legendgroup': 'I-NAME_STUDENT',\n",
       "              'marker': {'color': '#EF553B', 'symbol': 'circle'},\n",
       "              'mode': 'markers',\n",
       "              'name': 'I-NAME_STUDENT',\n",
       "              'orientation': 'v',\n",
       "              'showlegend': True,\n",
       "              'type': 'scatter',\n",
       "              'x': array(['0-50', '200-500', '500-1000', '1000-2000', '50-100', '100-200',\n",
       "                          '2000-10000'], dtype=object),\n",
       "              'xaxis': 'x',\n",
       "              'y': array([752,  86, 190,  41,  16,   6,   5], dtype=int64),\n",
       "              'yaxis': 'y'},\n",
       "             {'hovertemplate': 'label=B-URL_PERSONAL<br>range=%{x}<br>count=%{y}<extra></extra>',\n",
       "              'legendgroup': 'B-URL_PERSONAL',\n",
       "              'marker': {'color': '#00cc96', 'symbol': 'circle'},\n",
       "              'mode': 'markers',\n",
       "              'name': 'B-URL_PERSONAL',\n",
       "              'orientation': 'v',\n",
       "              'showlegend': True,\n",
       "              'type': 'scatter',\n",
       "              'x': array(['500-1000', '0-50', '200-500', '1000-2000', '50-100', '2000-10000',\n",
       "                          '100-200'], dtype=object),\n",
       "              'xaxis': 'x',\n",
       "              'y': array([32, 15, 31, 15, 10,  1,  6], dtype=int64),\n",
       "              'yaxis': 'y'},\n",
       "             {'hovertemplate': 'label=B-EMAIL<br>range=%{x}<br>count=%{y}<extra></extra>',\n",
       "              'legendgroup': 'B-EMAIL',\n",
       "              'marker': {'color': '#ab63fa', 'symbol': 'circle'},\n",
       "              'mode': 'markers',\n",
       "              'name': 'B-EMAIL',\n",
       "              'orientation': 'v',\n",
       "              'showlegend': True,\n",
       "              'type': 'scatter',\n",
       "              'x': array(['0-50', '50-100', '500-1000', '200-500'], dtype=object),\n",
       "              'xaxis': 'x',\n",
       "              'y': array([21,  3,  6,  9], dtype=int64),\n",
       "              'yaxis': 'y'},\n",
       "             {'hovertemplate': 'label=B-ID_NUM<br>range=%{x}<br>count=%{y}<extra></extra>',\n",
       "              'legendgroup': 'B-ID_NUM',\n",
       "              'marker': {'color': '#FFA15A', 'symbol': 'circle'},\n",
       "              'mode': 'markers',\n",
       "              'name': 'B-ID_NUM',\n",
       "              'orientation': 'v',\n",
       "              'showlegend': True,\n",
       "              'type': 'scatter',\n",
       "              'x': array(['0-50', '50-100', '500-1000', '200-500', '100-200'], dtype=object),\n",
       "              'xaxis': 'x',\n",
       "              'y': array([37, 10, 12, 17,  2], dtype=int64),\n",
       "              'yaxis': 'y'},\n",
       "             {'hovertemplate': 'label=I-URL_PERSONAL<br>range=%{x}<br>count=%{y}<extra></extra>',\n",
       "              'legendgroup': 'I-URL_PERSONAL',\n",
       "              'marker': {'color': '#19d3f3', 'symbol': 'circle'},\n",
       "              'mode': 'markers',\n",
       "              'name': 'I-URL_PERSONAL',\n",
       "              'orientation': 'v',\n",
       "              'showlegend': True,\n",
       "              'type': 'scatter',\n",
       "              'x': array(['0-50'], dtype=object),\n",
       "              'xaxis': 'x',\n",
       "              'y': array([1], dtype=int64),\n",
       "              'yaxis': 'y'},\n",
       "             {'hovertemplate': 'label=B-USERNAME<br>range=%{x}<br>count=%{y}<extra></extra>',\n",
       "              'legendgroup': 'B-USERNAME',\n",
       "              'marker': {'color': '#FF6692', 'symbol': 'circle'},\n",
       "              'mode': 'markers',\n",
       "              'name': 'B-USERNAME',\n",
       "              'orientation': 'v',\n",
       "              'showlegend': True,\n",
       "              'type': 'scatter',\n",
       "              'x': array(['50-100', '0-50', '500-1000'], dtype=object),\n",
       "              'xaxis': 'x',\n",
       "              'y': array([1, 3, 2], dtype=int64),\n",
       "              'yaxis': 'y'},\n",
       "             {'hovertemplate': 'label=B-PHONE_NUM<br>range=%{x}<br>count=%{y}<extra></extra>',\n",
       "              'legendgroup': 'B-PHONE_NUM',\n",
       "              'marker': {'color': '#B6E880', 'symbol': 'circle'},\n",
       "              'mode': 'markers',\n",
       "              'name': 'B-PHONE_NUM',\n",
       "              'orientation': 'v',\n",
       "              'showlegend': True,\n",
       "              'type': 'scatter',\n",
       "              'x': array(['0-50', '200-500'], dtype=object),\n",
       "              'xaxis': 'x',\n",
       "              'y': array([3, 3], dtype=int64),\n",
       "              'yaxis': 'y'},\n",
       "             {'hovertemplate': 'label=I-PHONE_NUM<br>range=%{x}<br>count=%{y}<extra></extra>',\n",
       "              'legendgroup': 'I-PHONE_NUM',\n",
       "              'marker': {'color': '#FF97FF', 'symbol': 'circle'},\n",
       "              'mode': 'markers',\n",
       "              'name': 'I-PHONE_NUM',\n",
       "              'orientation': 'v',\n",
       "              'showlegend': True,\n",
       "              'type': 'scatter',\n",
       "              'x': array(['0-50', '200-500'], dtype=object),\n",
       "              'xaxis': 'x',\n",
       "              'y': array([6, 9], dtype=int64),\n",
       "              'yaxis': 'y'},\n",
       "             {'hovertemplate': 'label=B-STREET_ADDRESS<br>range=%{x}<br>count=%{y}<extra></extra>',\n",
       "              'legendgroup': 'B-STREET_ADDRESS',\n",
       "              'marker': {'color': '#FECB52', 'symbol': 'circle'},\n",
       "              'mode': 'markers',\n",
       "              'name': 'B-STREET_ADDRESS',\n",
       "              'orientation': 'v',\n",
       "              'showlegend': True,\n",
       "              'type': 'scatter',\n",
       "              'x': array(['0-50', '100-200'], dtype=object),\n",
       "              'xaxis': 'x',\n",
       "              'y': array([1, 1], dtype=int64),\n",
       "              'yaxis': 'y'},\n",
       "             {'hovertemplate': 'label=I-STREET_ADDRESS<br>range=%{x}<br>count=%{y}<extra></extra>',\n",
       "              'legendgroup': 'I-STREET_ADDRESS',\n",
       "              'marker': {'color': '#636efa', 'symbol': 'circle'},\n",
       "              'mode': 'markers',\n",
       "              'name': 'I-STREET_ADDRESS',\n",
       "              'orientation': 'v',\n",
       "              'showlegend': True,\n",
       "              'type': 'scatter',\n",
       "              'x': array(['0-50', '100-200'], dtype=object),\n",
       "              'xaxis': 'x',\n",
       "              'y': array([10, 10], dtype=int64),\n",
       "              'yaxis': 'y'},\n",
       "             {'hovertemplate': 'label=I-ID_NUM<br>range=%{x}<br>count=%{y}<extra></extra>',\n",
       "              'legendgroup': 'I-ID_NUM',\n",
       "              'marker': {'color': '#EF553B', 'symbol': 'circle'},\n",
       "              'mode': 'markers',\n",
       "              'name': 'I-ID_NUM',\n",
       "              'orientation': 'v',\n",
       "              'showlegend': True,\n",
       "              'type': 'scatter',\n",
       "              'x': array(['50-100'], dtype=object),\n",
       "              'xaxis': 'x',\n",
       "              'y': array([1], dtype=int64),\n",
       "              'yaxis': 'y'}],\n",
       "    'layout': {'height': 1000,\n",
       "               'legend': {'title': {'text': 'label'}, 'tracegroupgap': 0},\n",
       "               'margin': {'t': 60},\n",
       "               'template': '...',\n",
       "               'xaxis': {'anchor': 'y', 'domain': [0.0, 1.0], 'title': {'text': 'range'}},\n",
       "               'yaxis': {'anchor': 'x', 'domain': [0.0, 1.0], 'title': {'text': 'count'}, 'type': 'log'}}\n",
       "})"
      ]
     },
     "execution_count": 8,
     "metadata": {},
     "output_type": "execute_result"
    }
   ],
   "source": [
    "\n",
    "import pandas as pd\n",
    "import plotly.express as px\n",
    "from collections import Counter\n",
    "\n",
    "\n",
    "group = []\n",
    "labels = []\n",
    "\n",
    "group_thresholds = [0, 50, 100, 200, 500, 1000, 2000, 10000]\n",
    "\n",
    "for sample_labels in ds[\"provided_labels\"]:\n",
    "    for i, label in enumerate(sample_labels):\n",
    "        if label != \"O\":\n",
    "            for j in range(1, len(group_thresholds)):\n",
    "                lower = group_thresholds[j-1]\n",
    "                upper = group_thresholds[j]\n",
    "                \n",
    "                if lower <= i < upper:\n",
    "                    group.append(f\"{lower}-{upper}\")\n",
    "                    labels.append(label)\n",
    "                    break\n",
    "\n",
    "pairs = list(zip(labels, group))\n",
    "\n",
    "counts = Counter(pairs)\n",
    "\n",
    "\n",
    "data = {\n",
    "    \"label\": [],\n",
    "    \"count\": [],\n",
    "    \"range\": [],\n",
    "}\n",
    "\n",
    "for (label, range_), count in counts.items():\n",
    "    data[\"label\"].append(label)\n",
    "    data[\"range\"].append(range_)\n",
    "    data[\"count\"].append(count)\n",
    "\n",
    "            \n",
    "df = pd.DataFrame(data)\n",
    "\n",
    "\n",
    "px.scatter(df, x=\"range\", y=\"count\", color=\"label\", log_y=True, height=1000)"
   ]
  }
 ],
 "metadata": {
  "kernelspec": {
   "display_name": "mytorch",
   "language": "python",
   "name": "python3"
  },
  "language_info": {
   "codemirror_mode": {
    "name": "ipython",
    "version": 3
   },
   "file_extension": ".py",
   "mimetype": "text/x-python",
   "name": "python",
   "nbconvert_exporter": "python",
   "pygments_lexer": "ipython3",
   "version": "3.10.8"
  }
 },
 "nbformat": 4,
 "nbformat_minor": 2
}
